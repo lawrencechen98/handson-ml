{
 "cells": [
  {
   "cell_type": "markdown",
   "metadata": {},
   "source": [
    "# Housing Data Analysis"
   ]
  },
  {
   "cell_type": "markdown",
   "metadata": {},
   "source": [
    "### Setup"
   ]
  },
  {
   "cell_type": "code",
   "execution_count": 1,
   "metadata": {
    "collapsed": true
   },
   "outputs": [],
   "source": [
    "# To support both python 2 and python 3\n",
    "from __future__ import division, print_function, unicode_literals\n",
    "\n",
    "# Common imports\n",
    "import numpy as np\n",
    "import os\n",
    "\n",
    "# to make this notebook's output stable across runs\n",
    "np.random.seed(42)\n",
    "\n",
    "# To plot pretty figures\n",
    "%matplotlib inline\n",
    "import matplotlib\n",
    "import matplotlib.pyplot as plt\n",
    "plt.rcParams['axes.labelsize'] = 14\n",
    "plt.rcParams['xtick.labelsize'] = 12\n",
    "plt.rcParams['ytick.labelsize'] = 12\n",
    "\n",
    "# Where to save the figures\n",
    "PROJECT_ROOT_DIR = \".\"\n",
    "CHAPTER_ID = \"end_to_end_project\"\n",
    "IMAGES_PATH = os.path.join(PROJECT_ROOT_DIR, \"images\", CHAPTER_ID)\n",
    "\n",
    "def save_fig(fig_id, tight_layout=True, fig_extension=\"png\", resolution=300):\n",
    "    path = os.path.join(IMAGES_PATH, fig_id + \".\" + fig_extension)\n",
    "    print(\"Saving figure\", fig_id)\n",
    "    if tight_layout:\n",
    "        plt.tight_layout()\n",
    "    plt.savefig(path, format=fig_extension, dpi=resolution)"
   ]
  },
  {
   "cell_type": "markdown",
   "metadata": {},
   "source": [
    "### Function to Fetch Housing Data"
   ]
  },
  {
   "cell_type": "code",
   "execution_count": 2,
   "metadata": {
    "collapsed": true
   },
   "outputs": [],
   "source": [
    "import os\n",
    "import tarfile\n",
    "from six.moves import urllib\n",
    "\n",
    "DOWNLOAD_ROOT = \"https://raw.githubusercontent.com/ageron/handson-ml/master/\"\n",
    "HOUSING_PATH = os.path.join(\"datasets\", \"housing\")\n",
    "HOUSING_URL = DOWNLOAD_ROOT + \"datasets/housing/housing.tgz\"\n",
    "\n",
    "def fetch_housing_data(housing_url=HOUSING_URL, housing_path=HOUSING_PATH):\n",
    "    if not os.path.isdir(housing_path):\n",
    "        os.makedirs(housing_path)\n",
    "    tgz_path = os.path.join(housing_path, \"housing.tgz\")\n",
    "    urllib.request.urlretrieve(housing_url, tgz_path)\n",
    "    housing_tgz = tarfile.open(tgz_path)\n",
    "    housing_tgz.extractall(path=housing_path)\n",
    "    housing_tgz.close()"
   ]
  },
  {
   "cell_type": "code",
   "execution_count": 3,
   "metadata": {
    "collapsed": true
   },
   "outputs": [],
   "source": [
    "fetch_housing_data()"
   ]
  },
  {
   "cell_type": "markdown",
   "metadata": {},
   "source": [
    "### Load Data"
   ]
  },
  {
   "cell_type": "code",
   "execution_count": 4,
   "metadata": {
    "collapsed": true
   },
   "outputs": [],
   "source": [
    "import pandas as pd\n",
    "\n",
    "def load_housing_data(housing_path=HOUSING_PATH):\n",
    "    csv_path = os.path.join(housing_path, \"housing.csv\")\n",
    "    return pd.read_csv(csv_path)"
   ]
  },
  {
   "cell_type": "code",
   "execution_count": 5,
   "metadata": {
    "collapsed": false
   },
   "outputs": [
    {
     "data": {
      "text/html": [
       "<div>\n",
       "<style scoped>\n",
       "    .dataframe tbody tr th:only-of-type {\n",
       "        vertical-align: middle;\n",
       "    }\n",
       "\n",
       "    .dataframe tbody tr th {\n",
       "        vertical-align: top;\n",
       "    }\n",
       "\n",
       "    .dataframe thead th {\n",
       "        text-align: right;\n",
       "    }\n",
       "</style>\n",
       "<table border=\"1\" class=\"dataframe\">\n",
       "  <thead>\n",
       "    <tr style=\"text-align: right;\">\n",
       "      <th></th>\n",
       "      <th>longitude</th>\n",
       "      <th>latitude</th>\n",
       "      <th>housing_median_age</th>\n",
       "      <th>total_rooms</th>\n",
       "      <th>total_bedrooms</th>\n",
       "      <th>population</th>\n",
       "      <th>households</th>\n",
       "      <th>median_income</th>\n",
       "      <th>median_house_value</th>\n",
       "      <th>ocean_proximity</th>\n",
       "    </tr>\n",
       "  </thead>\n",
       "  <tbody>\n",
       "    <tr>\n",
       "      <th>0</th>\n",
       "      <td>-122.23</td>\n",
       "      <td>37.88</td>\n",
       "      <td>41.0</td>\n",
       "      <td>880.0</td>\n",
       "      <td>129.0</td>\n",
       "      <td>322.0</td>\n",
       "      <td>126.0</td>\n",
       "      <td>8.3252</td>\n",
       "      <td>452600.0</td>\n",
       "      <td>NEAR BAY</td>\n",
       "    </tr>\n",
       "    <tr>\n",
       "      <th>1</th>\n",
       "      <td>-122.22</td>\n",
       "      <td>37.86</td>\n",
       "      <td>21.0</td>\n",
       "      <td>7099.0</td>\n",
       "      <td>1106.0</td>\n",
       "      <td>2401.0</td>\n",
       "      <td>1138.0</td>\n",
       "      <td>8.3014</td>\n",
       "      <td>358500.0</td>\n",
       "      <td>NEAR BAY</td>\n",
       "    </tr>\n",
       "    <tr>\n",
       "      <th>2</th>\n",
       "      <td>-122.24</td>\n",
       "      <td>37.85</td>\n",
       "      <td>52.0</td>\n",
       "      <td>1467.0</td>\n",
       "      <td>190.0</td>\n",
       "      <td>496.0</td>\n",
       "      <td>177.0</td>\n",
       "      <td>7.2574</td>\n",
       "      <td>352100.0</td>\n",
       "      <td>NEAR BAY</td>\n",
       "    </tr>\n",
       "    <tr>\n",
       "      <th>3</th>\n",
       "      <td>-122.25</td>\n",
       "      <td>37.85</td>\n",
       "      <td>52.0</td>\n",
       "      <td>1274.0</td>\n",
       "      <td>235.0</td>\n",
       "      <td>558.0</td>\n",
       "      <td>219.0</td>\n",
       "      <td>5.6431</td>\n",
       "      <td>341300.0</td>\n",
       "      <td>NEAR BAY</td>\n",
       "    </tr>\n",
       "    <tr>\n",
       "      <th>4</th>\n",
       "      <td>-122.25</td>\n",
       "      <td>37.85</td>\n",
       "      <td>52.0</td>\n",
       "      <td>1627.0</td>\n",
       "      <td>280.0</td>\n",
       "      <td>565.0</td>\n",
       "      <td>259.0</td>\n",
       "      <td>3.8462</td>\n",
       "      <td>342200.0</td>\n",
       "      <td>NEAR BAY</td>\n",
       "    </tr>\n",
       "  </tbody>\n",
       "</table>\n",
       "</div>"
      ],
      "text/plain": [
       "   longitude  latitude  housing_median_age  total_rooms  total_bedrooms  \\\n",
       "0    -122.23     37.88                41.0        880.0           129.0   \n",
       "1    -122.22     37.86                21.0       7099.0          1106.0   \n",
       "2    -122.24     37.85                52.0       1467.0           190.0   \n",
       "3    -122.25     37.85                52.0       1274.0           235.0   \n",
       "4    -122.25     37.85                52.0       1627.0           280.0   \n",
       "\n",
       "   population  households  median_income  median_house_value ocean_proximity  \n",
       "0       322.0       126.0         8.3252            452600.0        NEAR BAY  \n",
       "1      2401.0      1138.0         8.3014            358500.0        NEAR BAY  \n",
       "2       496.0       177.0         7.2574            352100.0        NEAR BAY  \n",
       "3       558.0       219.0         5.6431            341300.0        NEAR BAY  \n",
       "4       565.0       259.0         3.8462            342200.0        NEAR BAY  "
      ]
     },
     "execution_count": 5,
     "metadata": {},
     "output_type": "execute_result"
    }
   ],
   "source": [
    "housing = load_housing_data()\n",
    "housing.head()"
   ]
  },
  {
   "cell_type": "code",
   "execution_count": 6,
   "metadata": {
    "collapsed": false
   },
   "outputs": [
    {
     "name": "stdout",
     "output_type": "stream",
     "text": [
      "<class 'pandas.core.frame.DataFrame'>\n",
      "RangeIndex: 20640 entries, 0 to 20639\n",
      "Data columns (total 10 columns):\n",
      "longitude             20640 non-null float64\n",
      "latitude              20640 non-null float64\n",
      "housing_median_age    20640 non-null float64\n",
      "total_rooms           20640 non-null float64\n",
      "total_bedrooms        20433 non-null float64\n",
      "population            20640 non-null float64\n",
      "households            20640 non-null float64\n",
      "median_income         20640 non-null float64\n",
      "median_house_value    20640 non-null float64\n",
      "ocean_proximity       20640 non-null object\n",
      "dtypes: float64(9), object(1)\n",
      "memory usage: 1.6+ MB\n"
     ]
    }
   ],
   "source": [
    "housing.info()"
   ]
  },
  {
   "cell_type": "code",
   "execution_count": 7,
   "metadata": {
    "collapsed": false
   },
   "outputs": [
    {
     "data": {
      "text/plain": [
       "<1H OCEAN     9136\n",
       "INLAND        6551\n",
       "NEAR OCEAN    2658\n",
       "NEAR BAY      2290\n",
       "ISLAND           5\n",
       "Name: ocean_proximity, dtype: int64"
      ]
     },
     "execution_count": 7,
     "metadata": {},
     "output_type": "execute_result"
    }
   ],
   "source": [
    "housing[\"ocean_proximity\"].value_counts()"
   ]
  },
  {
   "cell_type": "code",
   "execution_count": 8,
   "metadata": {
    "collapsed": false
   },
   "outputs": [
    {
     "data": {
      "text/html": [
       "<div>\n",
       "<style scoped>\n",
       "    .dataframe tbody tr th:only-of-type {\n",
       "        vertical-align: middle;\n",
       "    }\n",
       "\n",
       "    .dataframe tbody tr th {\n",
       "        vertical-align: top;\n",
       "    }\n",
       "\n",
       "    .dataframe thead th {\n",
       "        text-align: right;\n",
       "    }\n",
       "</style>\n",
       "<table border=\"1\" class=\"dataframe\">\n",
       "  <thead>\n",
       "    <tr style=\"text-align: right;\">\n",
       "      <th></th>\n",
       "      <th>longitude</th>\n",
       "      <th>latitude</th>\n",
       "      <th>housing_median_age</th>\n",
       "      <th>total_rooms</th>\n",
       "      <th>total_bedrooms</th>\n",
       "      <th>population</th>\n",
       "      <th>households</th>\n",
       "      <th>median_income</th>\n",
       "      <th>median_house_value</th>\n",
       "    </tr>\n",
       "  </thead>\n",
       "  <tbody>\n",
       "    <tr>\n",
       "      <th>count</th>\n",
       "      <td>20640.000000</td>\n",
       "      <td>20640.000000</td>\n",
       "      <td>20640.000000</td>\n",
       "      <td>20640.000000</td>\n",
       "      <td>20433.000000</td>\n",
       "      <td>20640.000000</td>\n",
       "      <td>20640.000000</td>\n",
       "      <td>20640.000000</td>\n",
       "      <td>20640.000000</td>\n",
       "    </tr>\n",
       "    <tr>\n",
       "      <th>mean</th>\n",
       "      <td>-119.569704</td>\n",
       "      <td>35.631861</td>\n",
       "      <td>28.639486</td>\n",
       "      <td>2635.763081</td>\n",
       "      <td>537.870553</td>\n",
       "      <td>1425.476744</td>\n",
       "      <td>499.539680</td>\n",
       "      <td>3.870671</td>\n",
       "      <td>206855.816909</td>\n",
       "    </tr>\n",
       "    <tr>\n",
       "      <th>std</th>\n",
       "      <td>2.003532</td>\n",
       "      <td>2.135952</td>\n",
       "      <td>12.585558</td>\n",
       "      <td>2181.615252</td>\n",
       "      <td>421.385070</td>\n",
       "      <td>1132.462122</td>\n",
       "      <td>382.329753</td>\n",
       "      <td>1.899822</td>\n",
       "      <td>115395.615874</td>\n",
       "    </tr>\n",
       "    <tr>\n",
       "      <th>min</th>\n",
       "      <td>-124.350000</td>\n",
       "      <td>32.540000</td>\n",
       "      <td>1.000000</td>\n",
       "      <td>2.000000</td>\n",
       "      <td>1.000000</td>\n",
       "      <td>3.000000</td>\n",
       "      <td>1.000000</td>\n",
       "      <td>0.499900</td>\n",
       "      <td>14999.000000</td>\n",
       "    </tr>\n",
       "    <tr>\n",
       "      <th>25%</th>\n",
       "      <td>-121.800000</td>\n",
       "      <td>33.930000</td>\n",
       "      <td>18.000000</td>\n",
       "      <td>1447.750000</td>\n",
       "      <td>296.000000</td>\n",
       "      <td>787.000000</td>\n",
       "      <td>280.000000</td>\n",
       "      <td>2.563400</td>\n",
       "      <td>119600.000000</td>\n",
       "    </tr>\n",
       "    <tr>\n",
       "      <th>50%</th>\n",
       "      <td>-118.490000</td>\n",
       "      <td>34.260000</td>\n",
       "      <td>29.000000</td>\n",
       "      <td>2127.000000</td>\n",
       "      <td>435.000000</td>\n",
       "      <td>1166.000000</td>\n",
       "      <td>409.000000</td>\n",
       "      <td>3.534800</td>\n",
       "      <td>179700.000000</td>\n",
       "    </tr>\n",
       "    <tr>\n",
       "      <th>75%</th>\n",
       "      <td>-118.010000</td>\n",
       "      <td>37.710000</td>\n",
       "      <td>37.000000</td>\n",
       "      <td>3148.000000</td>\n",
       "      <td>647.000000</td>\n",
       "      <td>1725.000000</td>\n",
       "      <td>605.000000</td>\n",
       "      <td>4.743250</td>\n",
       "      <td>264725.000000</td>\n",
       "    </tr>\n",
       "    <tr>\n",
       "      <th>max</th>\n",
       "      <td>-114.310000</td>\n",
       "      <td>41.950000</td>\n",
       "      <td>52.000000</td>\n",
       "      <td>39320.000000</td>\n",
       "      <td>6445.000000</td>\n",
       "      <td>35682.000000</td>\n",
       "      <td>6082.000000</td>\n",
       "      <td>15.000100</td>\n",
       "      <td>500001.000000</td>\n",
       "    </tr>\n",
       "  </tbody>\n",
       "</table>\n",
       "</div>"
      ],
      "text/plain": [
       "          longitude      latitude  housing_median_age   total_rooms  \\\n",
       "count  20640.000000  20640.000000        20640.000000  20640.000000   \n",
       "mean    -119.569704     35.631861           28.639486   2635.763081   \n",
       "std        2.003532      2.135952           12.585558   2181.615252   \n",
       "min     -124.350000     32.540000            1.000000      2.000000   \n",
       "25%     -121.800000     33.930000           18.000000   1447.750000   \n",
       "50%     -118.490000     34.260000           29.000000   2127.000000   \n",
       "75%     -118.010000     37.710000           37.000000   3148.000000   \n",
       "max     -114.310000     41.950000           52.000000  39320.000000   \n",
       "\n",
       "       total_bedrooms    population    households  median_income  \\\n",
       "count    20433.000000  20640.000000  20640.000000   20640.000000   \n",
       "mean       537.870553   1425.476744    499.539680       3.870671   \n",
       "std        421.385070   1132.462122    382.329753       1.899822   \n",
       "min          1.000000      3.000000      1.000000       0.499900   \n",
       "25%        296.000000    787.000000    280.000000       2.563400   \n",
       "50%        435.000000   1166.000000    409.000000       3.534800   \n",
       "75%        647.000000   1725.000000    605.000000       4.743250   \n",
       "max       6445.000000  35682.000000   6082.000000      15.000100   \n",
       "\n",
       "       median_house_value  \n",
       "count        20640.000000  \n",
       "mean        206855.816909  \n",
       "std         115395.615874  \n",
       "min          14999.000000  \n",
       "25%         119600.000000  \n",
       "50%         179700.000000  \n",
       "75%         264725.000000  \n",
       "max         500001.000000  "
      ]
     },
     "execution_count": 8,
     "metadata": {},
     "output_type": "execute_result"
    }
   ],
   "source": [
    "housing.describe()"
   ]
  },
  {
   "cell_type": "code",
   "execution_count": 9,
   "metadata": {
    "collapsed": false
   },
   "outputs": [
    {
     "data": {
      "image/png": "[encoded data removed]",
      "text/plain": [
       "<matplotlib.figure.Figure at 0x105db81d0>"
      ]
     },
     "metadata": {},
     "output_type": "display_data"
    }
   ],
   "source": [
    "%matplotlib inline\n",
    "import matplotlib.pyplot as plt\n",
    "housing.hist(bins=50, figsize=(20,15))\n",
    "plt.show()"
   ]
  },
  {
   "cell_type": "markdown",
   "metadata": {},
   "source": [
    "### Create a Test Set"
   ]
  },
  {
   "cell_type": "code",
   "execution_count": 10,
   "metadata": {
    "collapsed": true
   },
   "outputs": [],
   "source": [
    "import numpy as np\n",
    "\n",
    "def split_train_test(data, test_ratio):\n",
    "    shuffled_indices = np.random.permutation(len(data))\n",
    "    test_set_size = int(len(data) * test_ratio)\n",
    "    test_indices = shuffled_indices[:test_set_size]\n",
    "    train_indices = shuffled_indices[test_set_size:]\n",
    "    return data.iloc[train_indices], data.iloc[test_indices]"
   ]
  },
  {
   "cell_type": "code",
   "execution_count": 11,
   "metadata": {
    "collapsed": false
   },
   "outputs": [
    {
     "name": "stdout",
     "output_type": "stream",
     "text": [
      "16512  train data,  4128  test data\n"
     ]
    }
   ],
   "source": [
    "train_set, test_set = split_train_test(housing, 0.2)\n",
    "print(len(train_set), \" train data, \", len(test_set), \" test data\")"
   ]
  },
  {
   "cell_type": "code",
   "execution_count": 12,
   "metadata": {
    "collapsed": true
   },
   "outputs": [],
   "source": [
    "import hashlib\n",
    "\n",
    "def test_set_check(identifier, test_ratio, hash):\n",
    "    return hash(np.int64(identifier)).digest()[-1] < 256 * test_ratio\n",
    "\n",
    "def split_train_test_by_id(data, test_ratio, id_column, hash=hashlib.md5):\n",
    "    ids = data[id_column]\n",
    "    in_test_set = ids.apply(lambda id_: test_set_check(id_, test_ratio, hash))\n",
    "    return data.loc[~in_test_set], data.loc[in_test_set]"
   ]
  },
  {
   "cell_type": "code",
   "execution_count": 13,
   "metadata": {
    "collapsed": true
   },
   "outputs": [],
   "source": [
    "housing_with_id = housing.reset_index()   # adds an `index` column\n",
    "train_set, test_set = split_train_test_by_id(housing_with_id, 0.2, \"index\")"
   ]
  },
  {
   "cell_type": "code",
   "execution_count": 14,
   "metadata": {
    "collapsed": true
   },
   "outputs": [],
   "source": [
    "housing_with_id[\"id\"] = housing[\"longitude\"] * 1000 + housing[\"latitude\"]\n",
    "train_set, test_set = split_train_test_by_id(housing_with_id, 0.2, \"id\")"
   ]
  },
  {
   "cell_type": "code",
   "execution_count": 15,
   "metadata": {
    "collapsed": false
   },
   "outputs": [
    {
     "data": {
      "text/html": [
       "<div>\n",
       "<style scoped>\n",
       "    .dataframe tbody tr th:only-of-type {\n",
       "        vertical-align: middle;\n",
       "    }\n",
       "\n",
       "    .dataframe tbody tr th {\n",
       "        vertical-align: top;\n",
       "    }\n",
       "\n",
       "    .dataframe thead th {\n",
       "        text-align: right;\n",
       "    }\n",
       "</style>\n",
       "<table border=\"1\" class=\"dataframe\">\n",
       "  <thead>\n",
       "    <tr style=\"text-align: right;\">\n",
       "      <th></th>\n",
       "      <th>index</th>\n",
       "      <th>longitude</th>\n",
       "      <th>latitude</th>\n",
       "      <th>housing_median_age</th>\n",
       "      <th>total_rooms</th>\n",
       "      <th>total_bedrooms</th>\n",
       "      <th>population</th>\n",
       "      <th>households</th>\n",
       "      <th>median_income</th>\n",
       "      <th>median_house_value</th>\n",
       "      <th>ocean_proximity</th>\n",
       "      <th>id</th>\n",
       "    </tr>\n",
       "  </thead>\n",
       "  <tbody>\n",
       "    <tr>\n",
       "      <th>8</th>\n",
       "      <td>8</td>\n",
       "      <td>-122.26</td>\n",
       "      <td>37.84</td>\n",
       "      <td>42.0</td>\n",
       "      <td>2555.0</td>\n",
       "      <td>665.0</td>\n",
       "      <td>1206.0</td>\n",
       "      <td>595.0</td>\n",
       "      <td>2.0804</td>\n",
       "      <td>226700.0</td>\n",
       "      <td>NEAR BAY</td>\n",
       "      <td>-122222.16</td>\n",
       "    </tr>\n",
       "    <tr>\n",
       "      <th>10</th>\n",
       "      <td>10</td>\n",
       "      <td>-122.26</td>\n",
       "      <td>37.85</td>\n",
       "      <td>52.0</td>\n",
       "      <td>2202.0</td>\n",
       "      <td>434.0</td>\n",
       "      <td>910.0</td>\n",
       "      <td>402.0</td>\n",
       "      <td>3.2031</td>\n",
       "      <td>281500.0</td>\n",
       "      <td>NEAR BAY</td>\n",
       "      <td>-122222.15</td>\n",
       "    </tr>\n",
       "    <tr>\n",
       "      <th>11</th>\n",
       "      <td>11</td>\n",
       "      <td>-122.26</td>\n",
       "      <td>37.85</td>\n",
       "      <td>52.0</td>\n",
       "      <td>3503.0</td>\n",
       "      <td>752.0</td>\n",
       "      <td>1504.0</td>\n",
       "      <td>734.0</td>\n",
       "      <td>3.2705</td>\n",
       "      <td>241800.0</td>\n",
       "      <td>NEAR BAY</td>\n",
       "      <td>-122222.15</td>\n",
       "    </tr>\n",
       "    <tr>\n",
       "      <th>12</th>\n",
       "      <td>12</td>\n",
       "      <td>-122.26</td>\n",
       "      <td>37.85</td>\n",
       "      <td>52.0</td>\n",
       "      <td>2491.0</td>\n",
       "      <td>474.0</td>\n",
       "      <td>1098.0</td>\n",
       "      <td>468.0</td>\n",
       "      <td>3.0750</td>\n",
       "      <td>213500.0</td>\n",
       "      <td>NEAR BAY</td>\n",
       "      <td>-122222.15</td>\n",
       "    </tr>\n",
       "    <tr>\n",
       "      <th>13</th>\n",
       "      <td>13</td>\n",
       "      <td>-122.26</td>\n",
       "      <td>37.84</td>\n",
       "      <td>52.0</td>\n",
       "      <td>696.0</td>\n",
       "      <td>191.0</td>\n",
       "      <td>345.0</td>\n",
       "      <td>174.0</td>\n",
       "      <td>2.6736</td>\n",
       "      <td>191300.0</td>\n",
       "      <td>NEAR BAY</td>\n",
       "      <td>-122222.16</td>\n",
       "    </tr>\n",
       "  </tbody>\n",
       "</table>\n",
       "</div>"
      ],
      "text/plain": [
       "    index  longitude  latitude  housing_median_age  total_rooms  \\\n",
       "8       8    -122.26     37.84                42.0       2555.0   \n",
       "10     10    -122.26     37.85                52.0       2202.0   \n",
       "11     11    -122.26     37.85                52.0       3503.0   \n",
       "12     12    -122.26     37.85                52.0       2491.0   \n",
       "13     13    -122.26     37.84                52.0        696.0   \n",
       "\n",
       "    total_bedrooms  population  households  median_income  median_house_value  \\\n",
       "8            665.0      1206.0       595.0         2.0804            226700.0   \n",
       "10           434.0       910.0       402.0         3.2031            281500.0   \n",
       "11           752.0      1504.0       734.0         3.2705            241800.0   \n",
       "12           474.0      1098.0       468.0         3.0750            213500.0   \n",
       "13           191.0       345.0       174.0         2.6736            191300.0   \n",
       "\n",
       "   ocean_proximity         id  \n",
       "8         NEAR BAY -122222.16  \n",
       "10        NEAR BAY -122222.15  \n",
       "11        NEAR BAY -122222.15  \n",
       "12        NEAR BAY -122222.15  \n",
       "13        NEAR BAY -122222.16  "
      ]
     },
     "execution_count": 15,
     "metadata": {},
     "output_type": "execute_result"
    }
   ],
   "source": [
    "test_set.head()"
   ]
  },
  {
   "cell_type": "code",
   "execution_count": 16,
   "metadata": {
    "collapsed": true
   },
   "outputs": [],
   "source": [
    "from sklearn.model_selection import train_test_split\n",
    "\n",
    "train_set, test_set = train_test_split(housing, test_size=0.2, random_state=42)"
   ]
  },
  {
   "cell_type": "code",
   "execution_count": 17,
   "metadata": {
    "collapsed": false
   },
   "outputs": [
    {
     "data": {
      "text/html": [
       "<div>\n",
       "<style scoped>\n",
       "    .dataframe tbody tr th:only-of-type {\n",
       "        vertical-align: middle;\n",
       "    }\n",
       "\n",
       "    .dataframe tbody tr th {\n",
       "        vertical-align: top;\n",
       "    }\n",
       "\n",
       "    .dataframe thead th {\n",
       "        text-align: right;\n",
       "    }\n",
       "</style>\n",
       "<table border=\"1\" class=\"dataframe\">\n",
       "  <thead>\n",
       "    <tr style=\"text-align: right;\">\n",
       "      <th></th>\n",
       "      <th>longitude</th>\n",
       "      <th>latitude</th>\n",
       "      <th>housing_median_age</th>\n",
       "      <th>total_rooms</th>\n",
       "      <th>total_bedrooms</th>\n",
       "      <th>population</th>\n",
       "      <th>households</th>\n",
       "      <th>median_income</th>\n",
       "      <th>median_house_value</th>\n",
       "      <th>ocean_proximity</th>\n",
       "    </tr>\n",
       "  </thead>\n",
       "  <tbody>\n",
       "    <tr>\n",
       "      <th>20046</th>\n",
       "      <td>-119.01</td>\n",
       "      <td>36.06</td>\n",
       "      <td>25.0</td>\n",
       "      <td>1505.0</td>\n",
       "      <td>NaN</td>\n",
       "      <td>1392.0</td>\n",
       "      <td>359.0</td>\n",
       "      <td>1.6812</td>\n",
       "      <td>47700.0</td>\n",
       "      <td>INLAND</td>\n",
       "    </tr>\n",
       "    <tr>\n",
       "      <th>3024</th>\n",
       "      <td>-119.46</td>\n",
       "      <td>35.14</td>\n",
       "      <td>30.0</td>\n",
       "      <td>2943.0</td>\n",
       "      <td>NaN</td>\n",
       "      <td>1565.0</td>\n",
       "      <td>584.0</td>\n",
       "      <td>2.5313</td>\n",
       "      <td>45800.0</td>\n",
       "      <td>INLAND</td>\n",
       "    </tr>\n",
       "    <tr>\n",
       "      <th>15663</th>\n",
       "      <td>-122.44</td>\n",
       "      <td>37.80</td>\n",
       "      <td>52.0</td>\n",
       "      <td>3830.0</td>\n",
       "      <td>NaN</td>\n",
       "      <td>1310.0</td>\n",
       "      <td>963.0</td>\n",
       "      <td>3.4801</td>\n",
       "      <td>500001.0</td>\n",
       "      <td>NEAR BAY</td>\n",
       "    </tr>\n",
       "    <tr>\n",
       "      <th>20484</th>\n",
       "      <td>-118.72</td>\n",
       "      <td>34.28</td>\n",
       "      <td>17.0</td>\n",
       "      <td>3051.0</td>\n",
       "      <td>NaN</td>\n",
       "      <td>1705.0</td>\n",
       "      <td>495.0</td>\n",
       "      <td>5.7376</td>\n",
       "      <td>218600.0</td>\n",
       "      <td>&lt;1H OCEAN</td>\n",
       "    </tr>\n",
       "    <tr>\n",
       "      <th>9814</th>\n",
       "      <td>-121.93</td>\n",
       "      <td>36.62</td>\n",
       "      <td>34.0</td>\n",
       "      <td>2351.0</td>\n",
       "      <td>NaN</td>\n",
       "      <td>1063.0</td>\n",
       "      <td>428.0</td>\n",
       "      <td>3.7250</td>\n",
       "      <td>278000.0</td>\n",
       "      <td>NEAR OCEAN</td>\n",
       "    </tr>\n",
       "  </tbody>\n",
       "</table>\n",
       "</div>"
      ],
      "text/plain": [
       "       longitude  latitude  housing_median_age  total_rooms  total_bedrooms  \\\n",
       "20046    -119.01     36.06                25.0       1505.0             NaN   \n",
       "3024     -119.46     35.14                30.0       2943.0             NaN   \n",
       "15663    -122.44     37.80                52.0       3830.0             NaN   \n",
       "20484    -118.72     34.28                17.0       3051.0             NaN   \n",
       "9814     -121.93     36.62                34.0       2351.0             NaN   \n",
       "\n",
       "       population  households  median_income  median_house_value  \\\n",
       "20046      1392.0       359.0         1.6812             47700.0   \n",
       "3024       1565.0       584.0         2.5313             45800.0   \n",
       "15663      1310.0       963.0         3.4801            500001.0   \n",
       "20484      1705.0       495.0         5.7376            218600.0   \n",
       "9814       1063.0       428.0         3.7250            278000.0   \n",
       "\n",
       "      ocean_proximity  \n",
       "20046          INLAND  \n",
       "3024           INLAND  \n",
       "15663        NEAR BAY  \n",
       "20484       <1H OCEAN  \n",
       "9814       NEAR OCEAN  "
      ]
     },
     "execution_count": 17,
     "metadata": {},
     "output_type": "execute_result"
    }
   ],
   "source": [
    "test_set.head()"
   ]
  },
  {
   "cell_type": "code",
   "execution_count": 18,
   "metadata": {
    "collapsed": false
   },
   "outputs": [
    {
     "name": "stdout",
     "output_type": "stream",
     "text": [
      "16512  train data,  4128  test data\n"
     ]
    }
   ],
   "source": [
    "print(len(train_set), \" train data, \", len(test_set), \" test data\")"
   ]
  },
  {
   "cell_type": "markdown",
   "metadata": {},
   "source": [
    "### Create a Test Set with Stratified Sampling"
   ]
  },
  {
   "cell_type": "code",
   "execution_count": 19,
   "metadata": {
    "collapsed": false
   },
   "outputs": [
    {
     "data": {
      "text/plain": [
       "<matplotlib.axes._subplots.AxesSubplot at 0x10b410ef0>"
      ]
     },
     "execution_count": 19,
     "metadata": {},
     "output_type": "execute_result"
    },
    {
     "data": {
      "image/png": "[encoded data removed]",
      "text/plain": [
       "<matplotlib.figure.Figure at 0x10b0e6400>"
      ]
     },
     "metadata": {},
     "output_type": "display_data"
    }
   ],
   "source": [
    "housing[\"median_income\"].hist()"
   ]
  },
  {
   "cell_type": "code",
   "execution_count": 20,
   "metadata": {
    "collapsed": true
   },
   "outputs": [],
   "source": [
    "# Divide by 1.5 to limit the number of income categories\n",
    "housing[\"income_cat\"] = np.ceil(housing[\"median_income\"] / 1.5)\n",
    "# Label those above 5 as 5\n",
    "housing[\"income_cat\"].where(housing[\"income_cat\"] < 5, 5.0, inplace=True)"
   ]
  },
  {
   "cell_type": "code",
   "execution_count": 21,
   "metadata": {
    "collapsed": false
   },
   "outputs": [
    {
     "data": {
      "text/plain": [
       "3.0    7236\n",
       "2.0    6581\n",
       "4.0    3639\n",
       "5.0    2362\n",
       "1.0     822\n",
       "Name: income_cat, dtype: int64"
      ]
     },
     "execution_count": 21,
     "metadata": {},
     "output_type": "execute_result"
    }
   ],
   "source": [
    "\n",
    "housing[\"income_cat\"].value_counts()"
   ]
  },
  {
   "cell_type": "code",
   "execution_count": 22,
   "metadata": {
    "collapsed": true
   },
   "outputs": [],
   "source": [
    "from sklearn.model_selection import StratifiedShuffleSplit\n",
    "\n",
    "split = StratifiedShuffleSplit(n_splits=1, test_size=0.2, random_state=42)\n",
    "for train_index, test_index in split.split(housing, housing[\"income_cat\"]):\n",
    "    strat_train_set = housing.loc[train_index]\n",
    "    strat_test_set = housing.loc[test_index]"
   ]
  },
  {
   "cell_type": "code",
   "execution_count": 23,
   "metadata": {
    "collapsed": false
   },
   "outputs": [
    {
     "data": {
      "text/plain": [
       "3.0    0.350533\n",
       "2.0    0.318798\n",
       "4.0    0.176357\n",
       "5.0    0.114583\n",
       "1.0    0.039729\n",
       "Name: income_cat, dtype: float64"
      ]
     },
     "execution_count": 23,
     "metadata": {},
     "output_type": "execute_result"
    }
   ],
   "source": [
    "strat_test_set[\"income_cat\"].value_counts() / len(strat_test_set)"
   ]
  },
  {
   "cell_type": "code",
   "execution_count": 24,
   "metadata": {
    "collapsed": false
   },
   "outputs": [
    {
     "data": {
      "text/plain": [
       "3.0    0.350594\n",
       "2.0    0.318859\n",
       "4.0    0.176296\n",
       "5.0    0.114402\n",
       "1.0    0.039850\n",
       "Name: income_cat, dtype: float64"
      ]
     },
     "execution_count": 24,
     "metadata": {},
     "output_type": "execute_result"
    }
   ],
   "source": [
    "strat_train_set[\"income_cat\"].value_counts() / len(strat_train_set)"
   ]
  },
  {
   "cell_type": "code",
   "execution_count": 25,
   "metadata": {
    "collapsed": false
   },
   "outputs": [
    {
     "data": {
      "text/plain": [
       "3.0    0.350581\n",
       "2.0    0.318847\n",
       "4.0    0.176308\n",
       "5.0    0.114438\n",
       "1.0    0.039826\n",
       "Name: income_cat, dtype: float64"
      ]
     },
     "execution_count": 25,
     "metadata": {},
     "output_type": "execute_result"
    }
   ],
   "source": [
    "housing[\"income_cat\"].value_counts() / len(housing)"
   ]
  },
  {
   "cell_type": "code",
   "execution_count": 26,
   "metadata": {
    "collapsed": false
   },
   "outputs": [
    {
     "data": {
      "text/html": [
       "<div>\n",
       "<style scoped>\n",
       "    .dataframe tbody tr th:only-of-type {\n",
       "        vertical-align: middle;\n",
       "    }\n",
       "\n",
       "    .dataframe tbody tr th {\n",
       "        vertical-align: top;\n",
       "    }\n",
       "\n",
       "    .dataframe thead th {\n",
       "        text-align: right;\n",
       "    }\n",
       "</style>\n",
       "<table border=\"1\" class=\"dataframe\">\n",
       "  <thead>\n",
       "    <tr style=\"text-align: right;\">\n",
       "      <th></th>\n",
       "      <th>Overall</th>\n",
       "      <th>Random</th>\n",
       "      <th>Stratified</th>\n",
       "      <th>Rand. %error</th>\n",
       "      <th>Strat. %error</th>\n",
       "    </tr>\n",
       "  </thead>\n",
       "  <tbody>\n",
       "    <tr>\n",
       "      <th>1.0</th>\n",
       "      <td>0.039826</td>\n",
       "      <td>0.040213</td>\n",
       "      <td>0.039729</td>\n",
       "      <td>0.973236</td>\n",
       "      <td>-0.243309</td>\n",
       "    </tr>\n",
       "    <tr>\n",
       "      <th>2.0</th>\n",
       "      <td>0.318847</td>\n",
       "      <td>0.324370</td>\n",
       "      <td>0.318798</td>\n",
       "      <td>1.732260</td>\n",
       "      <td>-0.015195</td>\n",
       "    </tr>\n",
       "    <tr>\n",
       "      <th>3.0</th>\n",
       "      <td>0.350581</td>\n",
       "      <td>0.358527</td>\n",
       "      <td>0.350533</td>\n",
       "      <td>2.266446</td>\n",
       "      <td>-0.013820</td>\n",
       "    </tr>\n",
       "    <tr>\n",
       "      <th>4.0</th>\n",
       "      <td>0.176308</td>\n",
       "      <td>0.167393</td>\n",
       "      <td>0.176357</td>\n",
       "      <td>-5.056334</td>\n",
       "      <td>0.027480</td>\n",
       "    </tr>\n",
       "    <tr>\n",
       "      <th>5.0</th>\n",
       "      <td>0.114438</td>\n",
       "      <td>0.109496</td>\n",
       "      <td>0.114583</td>\n",
       "      <td>-4.318374</td>\n",
       "      <td>0.127011</td>\n",
       "    </tr>\n",
       "  </tbody>\n",
       "</table>\n",
       "</div>"
      ],
      "text/plain": [
       "      Overall    Random  Stratified  Rand. %error  Strat. %error\n",
       "1.0  0.039826  0.040213    0.039729      0.973236      -0.243309\n",
       "2.0  0.318847  0.324370    0.318798      1.732260      -0.015195\n",
       "3.0  0.350581  0.358527    0.350533      2.266446      -0.013820\n",
       "4.0  0.176308  0.167393    0.176357     -5.056334       0.027480\n",
       "5.0  0.114438  0.109496    0.114583     -4.318374       0.127011"
      ]
     },
     "execution_count": 26,
     "metadata": {},
     "output_type": "execute_result"
    }
   ],
   "source": [
    "def income_cat_proportions(data):\n",
    "    return data[\"income_cat\"].value_counts() / len(data)\n",
    "\n",
    "train_set, test_set = train_test_split(housing, test_size=0.2, random_state=42)\n",
    "\n",
    "compare_props = pd.DataFrame({\n",
    "    \"Overall\": income_cat_proportions(housing),\n",
    "    \"Stratified\": income_cat_proportions(strat_test_set),\n",
    "    \"Random\": income_cat_proportions(test_set),\n",
    "}).sort_index()\n",
    "compare_props[\"Rand. %error\"] = 100 * compare_props[\"Random\"] / compare_props[\"Overall\"] - 100\n",
    "compare_props[\"Strat. %error\"] = 100 * compare_props[\"Stratified\"] / compare_props[\"Overall\"] - 100\n",
    "compare_props"
   ]
  },
  {
   "cell_type": "code",
   "execution_count": 27,
   "metadata": {
    "collapsed": true
   },
   "outputs": [],
   "source": [
    "\n",
    "for set_ in (strat_train_set, strat_test_set):\n",
    "    set_.drop(\"income_cat\", axis=1, inplace=True)"
   ]
  },
  {
   "cell_type": "markdown",
   "metadata": {},
   "source": [
    "### Visualizing Data"
   ]
  },
  {
   "cell_type": "code",
   "execution_count": 28,
   "metadata": {
    "collapsed": false
   },
   "outputs": [
    {
     "data": {
      "text/plain": [
       "<matplotlib.axes._subplots.AxesSubplot at 0x10a69ec18>"
      ]
     },
     "execution_count": 28,
     "metadata": {},
     "output_type": "execute_result"
    },
    {
     "data": {
      "image/png": "[encoded data removed]",
      "text/plain": [
       "<matplotlib.figure.Figure at 0x10a68fb38>"
      ]
     },
     "metadata": {},
     "output_type": "display_data"
    }
   ],
   "source": [
    "housing = strat_train_set.copy()\n",
    "\n",
    "housing.plot(kind=\"scatter\", x=\"longitude\", y=\"latitude\", alpha=0.1)"
   ]
  },
  {
   "cell_type": "code",
   "execution_count": 29,
   "metadata": {
    "collapsed": false
   },
   "outputs": [
    {
     "data": {
      "text/plain": [
       "<matplotlib.legend.Legend at 0x10b0b2a58>"
      ]
     },
     "execution_count": 29,
     "metadata": {},
     "output_type": "execute_result"
    },
    {
     "data": {
      "image/png": "[encoded data removed]",
      "text/plain": [
       "<matplotlib.figure.Figure at 0x10a682ef0>"
      ]
     },
     "metadata": {},
     "output_type": "display_data"
    }
   ],
   "source": [
    "housing.plot(kind=\"scatter\", x=\"longitude\", y=\"latitude\", alpha=0.4,\n",
    "    s=housing[\"population\"]/100, label=\"population\", figsize=(10,7),\n",
    "    c=\"median_house_value\", cmap=plt.get_cmap(\"jet\"), colorbar=True,\n",
    "    sharex=False)\n",
    "plt.legend()"
   ]
  },
  {
   "cell_type": "markdown",
   "metadata": {},
   "source": [
    "### Finding Correlations"
   ]
  },
  {
   "cell_type": "code",
   "execution_count": 30,
   "metadata": {
    "collapsed": false
   },
   "outputs": [
    {
     "data": {
      "text/plain": [
       "median_house_value    1.000000\n",
       "median_income         0.687160\n",
       "total_rooms           0.135097\n",
       "housing_median_age    0.114110\n",
       "households            0.064506\n",
       "total_bedrooms        0.047689\n",
       "population           -0.026920\n",
       "longitude            -0.047432\n",
       "latitude             -0.142724\n",
       "Name: median_house_value, dtype: float64"
      ]
     },
     "execution_count": 30,
     "metadata": {},
     "output_type": "execute_result"
    }
   ],
   "source": [
    "corr_matrix = housing.corr()\n",
    "corr_matrix[\"median_house_value\"].sort_values(ascending=False)"
   ]
  },
  {
   "cell_type": "code",
   "execution_count": 31,
   "metadata": {
    "collapsed": false
   },
   "outputs": [
    {
     "data": {
      "text/plain": [
       "array([[<matplotlib.axes._subplots.AxesSubplot object at 0x10a643898>,\n",
       "        <matplotlib.axes._subplots.AxesSubplot object at 0x103214d30>,\n",
       "        <matplotlib.axes._subplots.AxesSubplot object at 0x10a5ee160>,\n",
       "        <matplotlib.axes._subplots.AxesSubplot object at 0x10aa73a58>],\n",
       "       [<matplotlib.axes._subplots.AxesSubplot object at 0x10a5b5da0>,\n",
       "        <matplotlib.axes._subplots.AxesSubplot object at 0x114ac16d8>,\n",
       "        <matplotlib.axes._subplots.AxesSubplot object at 0x114acd748>,\n",
       "        <matplotlib.axes._subplots.AxesSubplot object at 0x114ada1d0>],\n",
       "       [<matplotlib.axes._subplots.AxesSubplot object at 0x112d6f5f8>,\n",
       "        <matplotlib.axes._subplots.AxesSubplot object at 0x112d5b1d0>,\n",
       "        <matplotlib.axes._subplots.AxesSubplot object at 0x112fc5208>,\n",
       "        <matplotlib.axes._subplots.AxesSubplot object at 0x112fe1208>],\n",
       "       [<matplotlib.axes._subplots.AxesSubplot object at 0x112ffb208>,\n",
       "        <matplotlib.axes._subplots.AxesSubplot object at 0x114a81748>,\n",
       "        <matplotlib.axes._subplots.AxesSubplot object at 0x114a98c88>,\n",
       "        <matplotlib.axes._subplots.AxesSubplot object at 0x114b17c88>]],\n",
       "      dtype=object)"
      ]
     },
     "execution_count": 31,
     "metadata": {},
     "output_type": "execute_result"
    },
    {
     "data": {
      "image/png": "[encoded data removed]",
      "text/plain": [
       "<matplotlib.figure.Figure at 0x10a657d68>"
      ]
     },
     "metadata": {},
     "output_type": "display_data"
    }
   ],
   "source": [
    "from pandas.plotting import scatter_matrix\n",
    "\n",
    "attributes = [\"median_house_value\", \"median_income\", \"total_rooms\",\n",
    "              \"housing_median_age\"]\n",
    "scatter_matrix(housing[attributes], figsize=(12, 8))"
   ]
  },
  {
   "cell_type": "code",
   "execution_count": 32,
   "metadata": {
    "collapsed": false
   },
   "outputs": [
    {
     "data": {
      "text/plain": [
       "<matplotlib.axes._subplots.AxesSubplot at 0x112d73d30>"
      ]
     },
     "execution_count": 32,
     "metadata": {},
     "output_type": "execute_result"
    },
    {
     "data": {
      "image/png": "[encoded data removed]",
      "text/plain": [
       "<matplotlib.figure.Figure at 0x114de02b0>"
      ]
     },
     "metadata": {},
     "output_type": "display_data"
    }
   ],
   "source": [
    "housing.plot(kind=\"scatter\", x=\"median_income\", y=\"median_house_value\", alpha=0.1)"
   ]
  },
  {
   "cell_type": "markdown",
   "metadata": {
    "collapsed": true
   },
   "source": [
    "### Making New Attributes"
   ]
  },
  {
   "cell_type": "code",
   "execution_count": 33,
   "metadata": {
    "collapsed": true
   },
   "outputs": [],
   "source": [
    "housing[\"rooms_per_household\"] = housing[\"total_rooms\"]/housing[\"households\"]\n",
    "housing[\"bedrooms_per_room\"] = housing[\"total_bedrooms\"]/housing[\"total_rooms\"]\n",
    "housing[\"population_per_household\"]=housing[\"population\"]/housing[\"households\"]\n"
   ]
  },
  {
   "cell_type": "code",
   "execution_count": 34,
   "metadata": {
    "collapsed": false
   },
   "outputs": [
    {
     "data": {
      "text/plain": [
       "median_house_value          1.000000\n",
       "median_income               0.687160\n",
       "rooms_per_household         0.146285\n",
       "total_rooms                 0.135097\n",
       "housing_median_age          0.114110\n",
       "households                  0.064506\n",
       "total_bedrooms              0.047689\n",
       "population_per_household   -0.021985\n",
       "population                 -0.026920\n",
       "longitude                  -0.047432\n",
       "latitude                   -0.142724\n",
       "bedrooms_per_room          -0.259984\n",
       "Name: median_house_value, dtype: float64"
      ]
     },
     "execution_count": 34,
     "metadata": {},
     "output_type": "execute_result"
    }
   ],
   "source": [
    "corr_matrix = housing.corr()\n",
    "corr_matrix[\"median_house_value\"].sort_values(ascending=False)"
   ]
  },
  {
   "cell_type": "markdown",
   "metadata": {},
   "source": [
    "# Preparing Data for Machine Learning Algorithms"
   ]
  },
  {
   "cell_type": "code",
   "execution_count": 35,
   "metadata": {
    "collapsed": true
   },
   "outputs": [],
   "source": [
    "housing = strat_train_set.drop(\"median_house_value\", axis=1)\n",
    "housing_labels = strat_train_set[\"median_house_value\"].copy()"
   ]
  },
  {
   "cell_type": "markdown",
   "metadata": {},
   "source": [
    "### Data Cleaning"
   ]
  },
  {
   "cell_type": "code",
   "execution_count": 36,
   "metadata": {
    "collapsed": true
   },
   "outputs": [],
   "source": [
    "from sklearn.preprocessing import Imputer\n",
    "imputer = Imputer(strategy=\"median\")"
   ]
  },
  {
   "cell_type": "code",
   "execution_count": 37,
   "metadata": {
    "collapsed": true
   },
   "outputs": [],
   "source": [
    "housing_num = housing.drop(\"ocean_proximity\", axis=1)"
   ]
  },
  {
   "cell_type": "code",
   "execution_count": 38,
   "metadata": {
    "collapsed": false
   },
   "outputs": [
    {
     "data": {
      "text/plain": [
       "array([-118.51  ,   34.26  ,   29.    , 2119.5   ,  433.    , 1164.    ,\n",
       "        408.    ,    3.5409])"
      ]
     },
     "execution_count": 38,
     "metadata": {},
     "output_type": "execute_result"
    }
   ],
   "source": [
    "imputer.fit(housing_num)\n",
    "imputer.statistics_\n"
   ]
  },
  {
   "cell_type": "code",
   "execution_count": 39,
   "metadata": {
    "collapsed": true
   },
   "outputs": [],
   "source": [
    "X = imputer.transform(housing_num)\n",
    "housing_tr = pd.DataFrame(X, columns=housing_num.columns)"
   ]
  },
  {
   "cell_type": "code",
   "execution_count": 40,
   "metadata": {
    "collapsed": false
   },
   "outputs": [
    {
     "data": {
      "text/plain": [
       "array([0, 0, 1, 2, 0, 2, 0, 2, 0, 0])"
      ]
     },
     "execution_count": 40,
     "metadata": {},
     "output_type": "execute_result"
    }
   ],
   "source": [
    "housing_cat = housing['ocean_proximity']\n",
    "housing_cat_encoded, housing_categories = housing_cat.factorize()\n",
    "housing_cat_encoded[:10]"
   ]
  },
  {
   "cell_type": "code",
   "execution_count": 41,
   "metadata": {
    "collapsed": false
   },
   "outputs": [
    {
     "data": {
      "text/plain": [
       "<16512x5 sparse matrix of type '<class 'numpy.float64'>'\n",
       "\twith 16512 stored elements in Compressed Sparse Row format>"
      ]
     },
     "execution_count": 41,
     "metadata": {},
     "output_type": "execute_result"
    }
   ],
   "source": [
    "from sklearn.preprocessing import OneHotEncoder\n",
    "encoder = OneHotEncoder()\n",
    "housing_cat_1hot = encoder.fit_transform(housing_cat_encoded.reshape(-1,1))\n",
    "housing_cat_1hot"
   ]
  },
  {
   "cell_type": "code",
   "execution_count": 42,
   "metadata": {
    "collapsed": true
   },
   "outputs": [],
   "source": [
    "# Definition of the CategoricalEncoder class, copied from PR #9151.\n",
    "# Just run this cell, or copy it to your code, do not try to understand it (yet).\n",
    "\n",
    "from sklearn.base import BaseEstimator, TransformerMixin\n",
    "from sklearn.utils import check_array\n",
    "from sklearn.preprocessing import LabelEncoder\n",
    "from scipy import sparse\n",
    "\n",
    "class CategoricalEncoder(BaseEstimator, TransformerMixin):\n",
    "    \"\"\"Encode categorical features as a numeric array.\n",
    "    The input to this transformer should be a matrix of integers or strings,\n",
    "    denoting the values taken on by categorical (discrete) features.\n",
    "    The features can be encoded using a one-hot aka one-of-K scheme\n",
    "    (``encoding='onehot'``, the default) or converted to ordinal integers\n",
    "    (``encoding='ordinal'``).\n",
    "    This encoding is needed for feeding categorical data to many scikit-learn\n",
    "    estimators, notably linear models and SVMs with the standard kernels.\n",
    "    Read more in the :ref:`User Guide <preprocessing_categorical_features>`.\n",
    "    Parameters\n",
    "    ----------\n",
    "    encoding : str, 'onehot', 'onehot-dense' or 'ordinal'\n",
    "        The type of encoding to use (default is 'onehot'):\n",
    "        - 'onehot': encode the features using a one-hot aka one-of-K scheme\n",
    "          (or also called 'dummy' encoding). This creates a binary column for\n",
    "          each category and returns a sparse matrix.\n",
    "        - 'onehot-dense': the same as 'onehot' but returns a dense array\n",
    "          instead of a sparse matrix.\n",
    "        - 'ordinal': encode the features as ordinal integers. This results in\n",
    "          a single column of integers (0 to n_categories - 1) per feature.\n",
    "    categories : 'auto' or a list of lists/arrays of values.\n",
    "        Categories (unique values) per feature:\n",
    "        - 'auto' : Determine categories automatically from the training data.\n",
    "        - list : ``categories[i]`` holds the categories expected in the ith\n",
    "          column. The passed categories are sorted before encoding the data\n",
    "          (used categories can be found in the ``categories_`` attribute).\n",
    "    dtype : number type, default np.float64\n",
    "        Desired dtype of output.\n",
    "    handle_unknown : 'error' (default) or 'ignore'\n",
    "        Whether to raise an error or ignore if a unknown categorical feature is\n",
    "        present during transform (default is to raise). When this is parameter\n",
    "        is set to 'ignore' and an unknown category is encountered during\n",
    "        transform, the resulting one-hot encoded columns for this feature\n",
    "        will be all zeros.\n",
    "        Ignoring unknown categories is not supported for\n",
    "        ``encoding='ordinal'``.\n",
    "    Attributes\n",
    "    ----------\n",
    "    categories_ : list of arrays\n",
    "        The categories of each feature determined during fitting. When\n",
    "        categories were specified manually, this holds the sorted categories\n",
    "        (in order corresponding with output of `transform`).\n",
    "    Examples\n",
    "    --------\n",
    "    Given a dataset with three features and two samples, we let the encoder\n",
    "    find the maximum value per feature and transform the data to a binary\n",
    "    one-hot encoding.\n",
    "    >>> from sklearn.preprocessing import CategoricalEncoder\n",
    "    >>> enc = CategoricalEncoder(handle_unknown='ignore')\n",
    "    >>> enc.fit([[0, 0, 3], [1, 1, 0], [0, 2, 1], [1, 0, 2]])\n",
    "    ... # doctest: +ELLIPSIS\n",
    "    CategoricalEncoder(categories='auto', dtype=<... 'numpy.float64'>,\n",
    "              encoding='onehot', handle_unknown='ignore')\n",
    "    >>> enc.transform([[0, 1, 1], [1, 0, 4]]).toarray()\n",
    "    array([[ 1.,  0.,  0.,  1.,  0.,  0.,  1.,  0.,  0.],\n",
    "           [ 0.,  1.,  1.,  0.,  0.,  0.,  0.,  0.,  0.]])\n",
    "    See also\n",
    "    --------\n",
    "    sklearn.preprocessing.OneHotEncoder : performs a one-hot encoding of\n",
    "      integer ordinal features. The ``OneHotEncoder assumes`` that input\n",
    "      features take on values in the range ``[0, max(feature)]`` instead of\n",
    "      using the unique values.\n",
    "    sklearn.feature_extraction.DictVectorizer : performs a one-hot encoding of\n",
    "      dictionary items (also handles string-valued features).\n",
    "    sklearn.feature_extraction.FeatureHasher : performs an approximate one-hot\n",
    "      encoding of dictionary items or strings.\n",
    "    \"\"\"\n",
    "\n",
    "    def __init__(self, encoding='onehot', categories='auto', dtype=np.float64,\n",
    "                 handle_unknown='error'):\n",
    "        self.encoding = encoding\n",
    "        self.categories = categories\n",
    "        self.dtype = dtype\n",
    "        self.handle_unknown = handle_unknown\n",
    "\n",
    "    def fit(self, X, y=None):\n",
    "        \"\"\"Fit the CategoricalEncoder to X.\n",
    "        Parameters\n",
    "        ----------\n",
    "        X : array-like, shape [n_samples, n_feature]\n",
    "            The data to determine the categories of each feature.\n",
    "        Returns\n",
    "        -------\n",
    "        self\n",
    "        \"\"\"\n",
    "\n",
    "        if self.encoding not in ['onehot', 'onehot-dense', 'ordinal']:\n",
    "            template = (\"encoding should be either 'onehot', 'onehot-dense' \"\n",
    "                        \"or 'ordinal', got %s\")\n",
    "            raise ValueError(template % self.handle_unknown)\n",
    "\n",
    "        if self.handle_unknown not in ['error', 'ignore']:\n",
    "            template = (\"handle_unknown should be either 'error' or \"\n",
    "                        \"'ignore', got %s\")\n",
    "            raise ValueError(template % self.handle_unknown)\n",
    "\n",
    "        if self.encoding == 'ordinal' and self.handle_unknown == 'ignore':\n",
    "            raise ValueError(\"handle_unknown='ignore' is not supported for\"\n",
    "                             \" encoding='ordinal'\")\n",
    "\n",
    "        X = check_array(X, dtype=np.object, accept_sparse='csc', copy=True)\n",
    "        n_samples, n_features = X.shape\n",
    "\n",
    "        self._label_encoders_ = [LabelEncoder() for _ in range(n_features)]\n",
    "\n",
    "        for i in range(n_features):\n",
    "            le = self._label_encoders_[i]\n",
    "            Xi = X[:, i]\n",
    "            if self.categories == 'auto':\n",
    "                le.fit(Xi)\n",
    "            else:\n",
    "                valid_mask = np.in1d(Xi, self.categories[i])\n",
    "                if not np.all(valid_mask):\n",
    "                    if self.handle_unknown == 'error':\n",
    "                        diff = np.unique(Xi[~valid_mask])\n",
    "                        msg = (\"Found unknown categories {0} in column {1}\"\n",
    "                               \" during fit\".format(diff, i))\n",
    "                        raise ValueError(msg)\n",
    "                le.classes_ = np.array(np.sort(self.categories[i]))\n",
    "\n",
    "        self.categories_ = [le.classes_ for le in self._label_encoders_]\n",
    "\n",
    "        return self\n",
    "\n",
    "    def transform(self, X):\n",
    "        \"\"\"Transform X using one-hot encoding.\n",
    "        Parameters\n",
    "        ----------\n",
    "        X : array-like, shape [n_samples, n_features]\n",
    "            The data to encode.\n",
    "        Returns\n",
    "        -------\n",
    "        X_out : sparse matrix or a 2-d array\n",
    "            Transformed input.\n",
    "        \"\"\"\n",
    "        X = check_array(X, accept_sparse='csc', dtype=np.object, copy=True)\n",
    "        n_samples, n_features = X.shape\n",
    "        X_int = np.zeros_like(X, dtype=np.int)\n",
    "        X_mask = np.ones_like(X, dtype=np.bool)\n",
    "\n",
    "        for i in range(n_features):\n",
    "            valid_mask = np.in1d(X[:, i], self.categories_[i])\n",
    "\n",
    "            if not np.all(valid_mask):\n",
    "                if self.handle_unknown == 'error':\n",
    "                    diff = np.unique(X[~valid_mask, i])\n",
    "                    msg = (\"Found unknown categories {0} in column {1}\"\n",
    "                           \" during transform\".format(diff, i))\n",
    "                    raise ValueError(msg)\n",
    "                else:\n",
    "                    # Set the problematic rows to an acceptable value and\n",
    "                    # continue `The rows are marked `X_mask` and will be\n",
    "                    # removed later.\n",
    "                    X_mask[:, i] = valid_mask\n",
    "                    X[:, i][~valid_mask] = self.categories_[i][0]\n",
    "            X_int[:, i] = self._label_encoders_[i].transform(X[:, i])\n",
    "\n",
    "        if self.encoding == 'ordinal':\n",
    "            return X_int.astype(self.dtype, copy=False)\n",
    "\n",
    "        mask = X_mask.ravel()\n",
    "        n_values = [cats.shape[0] for cats in self.categories_]\n",
    "        n_values = np.array([0] + n_values)\n",
    "        indices = np.cumsum(n_values)\n",
    "\n",
    "        column_indices = (X_int + indices[:-1]).ravel()[mask]\n",
    "        row_indices = np.repeat(np.arange(n_samples, dtype=np.int32),\n",
    "                                n_features)[mask]\n",
    "        data = np.ones(n_samples * n_features)[mask]\n",
    "\n",
    "        out = sparse.csc_matrix((data, (row_indices, column_indices)),\n",
    "                                shape=(n_samples, indices[-1]),\n",
    "                                dtype=self.dtype).tocsr()\n",
    "        if self.encoding == 'onehot-dense':\n",
    "            return out.toarray()\n",
    "        else:\n",
    "            return out"
   ]
  },
  {
   "cell_type": "code",
   "execution_count": 43,
   "metadata": {
    "collapsed": false
   },
   "outputs": [
    {
     "data": {
      "text/plain": [
       "<16512x5 sparse matrix of type '<class 'numpy.float64'>'\n",
       "\twith 16512 stored elements in Compressed Sparse Row format>"
      ]
     },
     "execution_count": 43,
     "metadata": {},
     "output_type": "execute_result"
    }
   ],
   "source": [
    "#from sklearn.preprocessing import CategoricalEncoder # in future versions of Scikit-Learn\n",
    "\n",
    "cat_encoder = CategoricalEncoder()\n",
    "housing_cat_reshaped = housing_cat.values.reshape(-1, 1)\n",
    "housing_cat_1hot = cat_encoder.fit_transform(housing_cat_reshaped)\n",
    "housing_cat_1hot"
   ]
  },
  {
   "cell_type": "code",
   "execution_count": 44,
   "metadata": {
    "collapsed": true
   },
   "outputs": [],
   "source": [
    "from sklearn.base import BaseEstimator, TransformerMixin\n",
    "\n",
    "# column index\n",
    "rooms_ix, bedrooms_ix, population_ix, household_ix = 3, 4, 5, 6\n",
    "\n",
    "class CombinedAttributesAdder(BaseEstimator, TransformerMixin):\n",
    "    def __init__(self, add_bedrooms_per_room = True): # no *args or **kargs\n",
    "        self.add_bedrooms_per_room = add_bedrooms_per_room\n",
    "    def fit(self, X, y=None):\n",
    "        return self  # nothing else to do\n",
    "    def transform(self, X, y=None):\n",
    "        rooms_per_household = X[:, rooms_ix] / X[:, household_ix]\n",
    "        population_per_household = X[:, population_ix] / X[:, household_ix]\n",
    "        if self.add_bedrooms_per_room:\n",
    "            bedrooms_per_room = X[:, bedrooms_ix] / X[:, rooms_ix]\n",
    "            return np.c_[X, rooms_per_household, population_per_household,\n",
    "                         bedrooms_per_room]\n",
    "        else:\n",
    "            return np.c_[X, rooms_per_household, population_per_household]\n",
    "\n",
    "attr_adder = CombinedAttributesAdder(add_bedrooms_per_room=False)\n",
    "housing_extra_attribs = attr_adder.transform(housing.values)"
   ]
  },
  {
   "cell_type": "code",
   "execution_count": 45,
   "metadata": {
    "collapsed": false
   },
   "outputs": [
    {
     "data": {
      "text/plain": [
       "array([[-121.89, 37.29, 38.0, ..., '<1H OCEAN', 4.625368731563422,\n",
       "        2.094395280235988],\n",
       "       [-121.93, 37.05, 14.0, ..., '<1H OCEAN', 6.008849557522124,\n",
       "        2.7079646017699117],\n",
       "       [-117.2, 32.77, 31.0, ..., 'NEAR OCEAN', 4.225108225108225,\n",
       "        2.0259740259740258],\n",
       "       ...,\n",
       "       [-116.4, 34.09, 9.0, ..., 'INLAND', 6.34640522875817,\n",
       "        2.742483660130719],\n",
       "       [-118.01, 33.82, 31.0, ..., '<1H OCEAN', 5.50561797752809,\n",
       "        3.808988764044944],\n",
       "       [-122.45, 37.77, 52.0, ..., 'NEAR BAY', 4.843505477308295,\n",
       "        1.9859154929577465]], dtype=object)"
      ]
     },
     "execution_count": 45,
     "metadata": {},
     "output_type": "execute_result"
    }
   ],
   "source": [
    "housing_extra_attribs"
   ]
  },
  {
   "cell_type": "code",
   "execution_count": 46,
   "metadata": {
    "collapsed": false
   },
   "outputs": [
    {
     "data": {
      "text/html": [
       "<div>\n",
       "<style scoped>\n",
       "    .dataframe tbody tr th:only-of-type {\n",
       "        vertical-align: middle;\n",
       "    }\n",
       "\n",
       "    .dataframe tbody tr th {\n",
       "        vertical-align: top;\n",
       "    }\n",
       "\n",
       "    .dataframe thead th {\n",
       "        text-align: right;\n",
       "    }\n",
       "</style>\n",
       "<table border=\"1\" class=\"dataframe\">\n",
       "  <thead>\n",
       "    <tr style=\"text-align: right;\">\n",
       "      <th></th>\n",
       "      <th>longitude</th>\n",
       "      <th>latitude</th>\n",
       "      <th>housing_median_age</th>\n",
       "      <th>total_rooms</th>\n",
       "      <th>total_bedrooms</th>\n",
       "      <th>population</th>\n",
       "      <th>households</th>\n",
       "      <th>median_income</th>\n",
       "      <th>ocean_proximity</th>\n",
       "      <th>rooms_per_household</th>\n",
       "      <th>population_per_household</th>\n",
       "    </tr>\n",
       "  </thead>\n",
       "  <tbody>\n",
       "    <tr>\n",
       "      <th>0</th>\n",
       "      <td>-121.89</td>\n",
       "      <td>37.29</td>\n",
       "      <td>38</td>\n",
       "      <td>1568</td>\n",
       "      <td>351</td>\n",
       "      <td>710</td>\n",
       "      <td>339</td>\n",
       "      <td>2.7042</td>\n",
       "      <td>&lt;1H OCEAN</td>\n",
       "      <td>4.62537</td>\n",
       "      <td>2.0944</td>\n",
       "    </tr>\n",
       "    <tr>\n",
       "      <th>1</th>\n",
       "      <td>-121.93</td>\n",
       "      <td>37.05</td>\n",
       "      <td>14</td>\n",
       "      <td>679</td>\n",
       "      <td>108</td>\n",
       "      <td>306</td>\n",
       "      <td>113</td>\n",
       "      <td>6.4214</td>\n",
       "      <td>&lt;1H OCEAN</td>\n",
       "      <td>6.00885</td>\n",
       "      <td>2.70796</td>\n",
       "    </tr>\n",
       "    <tr>\n",
       "      <th>2</th>\n",
       "      <td>-117.2</td>\n",
       "      <td>32.77</td>\n",
       "      <td>31</td>\n",
       "      <td>1952</td>\n",
       "      <td>471</td>\n",
       "      <td>936</td>\n",
       "      <td>462</td>\n",
       "      <td>2.8621</td>\n",
       "      <td>NEAR OCEAN</td>\n",
       "      <td>4.22511</td>\n",
       "      <td>2.02597</td>\n",
       "    </tr>\n",
       "    <tr>\n",
       "      <th>3</th>\n",
       "      <td>-119.61</td>\n",
       "      <td>36.31</td>\n",
       "      <td>25</td>\n",
       "      <td>1847</td>\n",
       "      <td>371</td>\n",
       "      <td>1460</td>\n",
       "      <td>353</td>\n",
       "      <td>1.8839</td>\n",
       "      <td>INLAND</td>\n",
       "      <td>5.23229</td>\n",
       "      <td>4.13598</td>\n",
       "    </tr>\n",
       "    <tr>\n",
       "      <th>4</th>\n",
       "      <td>-118.59</td>\n",
       "      <td>34.23</td>\n",
       "      <td>17</td>\n",
       "      <td>6592</td>\n",
       "      <td>1525</td>\n",
       "      <td>4459</td>\n",
       "      <td>1463</td>\n",
       "      <td>3.0347</td>\n",
       "      <td>&lt;1H OCEAN</td>\n",
       "      <td>4.50581</td>\n",
       "      <td>3.04785</td>\n",
       "    </tr>\n",
       "  </tbody>\n",
       "</table>\n",
       "</div>"
      ],
      "text/plain": [
       "  longitude latitude housing_median_age total_rooms total_bedrooms population  \\\n",
       "0   -121.89    37.29                 38        1568            351        710   \n",
       "1   -121.93    37.05                 14         679            108        306   \n",
       "2    -117.2    32.77                 31        1952            471        936   \n",
       "3   -119.61    36.31                 25        1847            371       1460   \n",
       "4   -118.59    34.23                 17        6592           1525       4459   \n",
       "\n",
       "  households median_income ocean_proximity rooms_per_household  \\\n",
       "0        339        2.7042       <1H OCEAN             4.62537   \n",
       "1        113        6.4214       <1H OCEAN             6.00885   \n",
       "2        462        2.8621      NEAR OCEAN             4.22511   \n",
       "3        353        1.8839          INLAND             5.23229   \n",
       "4       1463        3.0347       <1H OCEAN             4.50581   \n",
       "\n",
       "  population_per_household  \n",
       "0                   2.0944  \n",
       "1                  2.70796  \n",
       "2                  2.02597  \n",
       "3                  4.13598  \n",
       "4                  3.04785  "
      ]
     },
     "execution_count": 46,
     "metadata": {},
     "output_type": "execute_result"
    }
   ],
   "source": [
    "housing_extra_attribs = pd.DataFrame(housing_extra_attribs, columns=list(housing.columns)+[\"rooms_per_household\", \"population_per_household\"])\n",
    "housing_extra_attribs.head()"
   ]
  },
  {
   "cell_type": "code",
   "execution_count": 47,
   "metadata": {
    "collapsed": false
   },
   "outputs": [
    {
     "data": {
      "text/plain": [
       "array([[-1.15604281,  0.77194962,  0.74333089, ..., -0.31205452,\n",
       "        -0.08649871,  0.15531753],\n",
       "       [-1.17602483,  0.6596948 , -1.1653172 , ...,  0.21768338,\n",
       "        -0.03353391, -0.83628902],\n",
       "       [ 1.18684903, -1.34218285,  0.18664186, ..., -0.46531516,\n",
       "        -0.09240499,  0.4222004 ],\n",
       "       ...,\n",
       "       [ 1.58648943, -0.72478134, -1.56295222, ...,  0.3469342 ,\n",
       "        -0.03055414, -0.52177644],\n",
       "       [ 0.78221312, -0.85106801,  0.18664186, ...,  0.02499488,\n",
       "         0.06150916, -0.30340741],\n",
       "       [-1.43579109,  0.99645926,  1.85670895, ..., -0.22852947,\n",
       "        -0.09586294,  0.10180567]])"
      ]
     },
     "execution_count": 47,
     "metadata": {},
     "output_type": "execute_result"
    }
   ],
   "source": [
    "from sklearn.pipeline import Pipeline\n",
    "from sklearn.preprocessing import StandardScaler\n",
    "\n",
    "num_pipeline = Pipeline([\n",
    "        ('imputer', Imputer(strategy=\"median\")),\n",
    "        ('attribs_adder', CombinedAttributesAdder()),\n",
    "        ('std_scaler', StandardScaler()),\n",
    "    ])\n",
    "\n",
    "housing_num_tr = num_pipeline.fit_transform(housing_num)\n",
    "housing_num_tr"
   ]
  },
  {
   "cell_type": "code",
   "execution_count": 48,
   "metadata": {
    "collapsed": true
   },
   "outputs": [],
   "source": [
    "from sklearn.base import BaseEstimator, TransformerMixin\n",
    "\n",
    "# Create a class to select numerical or categorical columns \n",
    "# since Scikit-Learn doesn't handle DataFrames yet\n",
    "class DataFrameSelector(BaseEstimator, TransformerMixin):\n",
    "    def __init__(self, attribute_names):\n",
    "        self.attribute_names = attribute_names\n",
    "    def fit(self, X, y=None):\n",
    "        return self\n",
    "    def transform(self, X):\n",
    "        return X[self.attribute_names].values"
   ]
  },
  {
   "cell_type": "code",
   "execution_count": 49,
   "metadata": {
    "collapsed": true
   },
   "outputs": [],
   "source": [
    "num_attribs = list(housing_num)\n",
    "cat_attribs = [\"ocean_proximity\"]\n",
    "\n",
    "num_pipeline = Pipeline([\n",
    "        ('selector', DataFrameSelector(num_attribs)),\n",
    "        ('imputer', Imputer(strategy=\"median\")),\n",
    "        ('attribs_adder', CombinedAttributesAdder()),\n",
    "        ('std_scaler', StandardScaler()),\n",
    "    ])\n",
    "\n",
    "cat_pipeline = Pipeline([\n",
    "        ('selector', DataFrameSelector(cat_attribs)),\n",
    "        ('cat_encoder', CategoricalEncoder(encoding=\"onehot-dense\")),\n",
    "    ])"
   ]
  },
  {
   "cell_type": "code",
   "execution_count": 50,
   "metadata": {
    "collapsed": true
   },
   "outputs": [],
   "source": [
    "from sklearn.pipeline import FeatureUnion\n",
    "\n",
    "full_pipeline = FeatureUnion(transformer_list=[\n",
    "        (\"num_pipeline\", num_pipeline),\n",
    "        (\"cat_pipeline\", cat_pipeline),\n",
    "    ])"
   ]
  },
  {
   "cell_type": "code",
   "execution_count": 51,
   "metadata": {
    "collapsed": false
   },
   "outputs": [
    {
     "data": {
      "text/plain": [
       "array([[-1.15604281,  0.77194962,  0.74333089, ...,  0.        ,\n",
       "         0.        ,  0.        ],\n",
       "       [-1.17602483,  0.6596948 , -1.1653172 , ...,  0.        ,\n",
       "         0.        ,  0.        ],\n",
       "       [ 1.18684903, -1.34218285,  0.18664186, ...,  0.        ,\n",
       "         0.        ,  1.        ],\n",
       "       ...,\n",
       "       [ 1.58648943, -0.72478134, -1.56295222, ...,  0.        ,\n",
       "         0.        ,  0.        ],\n",
       "       [ 0.78221312, -0.85106801,  0.18664186, ...,  0.        ,\n",
       "         0.        ,  0.        ],\n",
       "       [-1.43579109,  0.99645926,  1.85670895, ...,  0.        ,\n",
       "         1.        ,  0.        ]])"
      ]
     },
     "execution_count": 51,
     "metadata": {},
     "output_type": "execute_result"
    }
   ],
   "source": [
    "housing_prepared = full_pipeline.fit_transform(housing)\n",
    "housing_prepared"
   ]
  },
  {
   "cell_type": "code",
   "execution_count": 52,
   "metadata": {
    "collapsed": false
   },
   "outputs": [
    {
     "data": {
      "text/plain": [
       "(16512, 16)"
      ]
     },
     "execution_count": 52,
     "metadata": {},
     "output_type": "execute_result"
    }
   ],
   "source": [
    "housing_prepared.shape"
   ]
  },
  {
   "cell_type": "markdown",
   "metadata": {},
   "source": [
    "### Select and Train a Model"
   ]
  },
  {
   "cell_type": "code",
   "execution_count": 53,
   "metadata": {
    "collapsed": false
   },
   "outputs": [
    {
     "name": "stderr",
     "output_type": "stream",
     "text": [
      "//anaconda/lib/python3.5/site-packages/scipy/linalg/basic.py:1226: RuntimeWarning: internal gelsd driver lwork query error, required iwork dimension not returned. This is likely the result of LAPACK bug 0038, fixed in LAPACK 3.2.2 (released July 21, 2010). Falling back to 'gelss' driver.\n",
      "  warnings.warn(mesg, RuntimeWarning)\n"
     ]
    },
    {
     "data": {
      "text/plain": [
       "LinearRegression(copy_X=True, fit_intercept=True, n_jobs=1, normalize=False)"
      ]
     },
     "execution_count": 53,
     "metadata": {},
     "output_type": "execute_result"
    }
   ],
   "source": [
    "from sklearn.linear_model import LinearRegression\n",
    "\n",
    "lin_reg = LinearRegression()\n",
    "lin_reg.fit(housing_prepared, housing_labels)"
   ]
  },
  {
   "cell_type": "code",
   "execution_count": 54,
   "metadata": {
    "collapsed": false
   },
   "outputs": [
    {
     "name": "stdout",
     "output_type": "stream",
     "text": [
      "Predictions: [210644.60459286 317768.80697211 210956.43331178  59218.98886849\n",
      " 189747.55849878]\n"
     ]
    }
   ],
   "source": [
    "# let's try the full pipeline on a few training instances\n",
    "some_data = housing.iloc[:5]\n",
    "some_labels = housing_labels.iloc[:5]\n",
    "some_data_prepared = full_pipeline.transform(some_data)\n",
    "\n",
    "print(\"Predictions:\", lin_reg.predict(some_data_prepared))"
   ]
  },
  {
   "cell_type": "code",
   "execution_count": 55,
   "metadata": {
    "collapsed": false
   },
   "outputs": [
    {
     "name": "stdout",
     "output_type": "stream",
     "text": [
      "Labels: [286600.0, 340600.0, 196900.0, 46300.0, 254500.0]\n"
     ]
    }
   ],
   "source": [
    "print(\"Labels:\", list(some_labels))"
   ]
  },
  {
   "cell_type": "code",
   "execution_count": 56,
   "metadata": {
    "collapsed": false
   },
   "outputs": [
    {
     "data": {
      "text/plain": [
       "68628.19819848922"
      ]
     },
     "execution_count": 56,
     "metadata": {},
     "output_type": "execute_result"
    }
   ],
   "source": [
    "from sklearn.metrics import mean_squared_error\n",
    "\n",
    "housing_predictions = lin_reg.predict(housing_prepared)\n",
    "lin_mse = mean_squared_error(housing_labels, housing_predictions)\n",
    "lin_rmse = np.sqrt(lin_mse)\n",
    "lin_rmse"
   ]
  },
  {
   "cell_type": "code",
   "execution_count": 57,
   "metadata": {
    "collapsed": false
   },
   "outputs": [
    {
     "data": {
      "text/plain": [
       "49439.89599001896"
      ]
     },
     "execution_count": 57,
     "metadata": {},
     "output_type": "execute_result"
    }
   ],
   "source": [
    "from sklearn.metrics import mean_absolute_error\n",
    "\n",
    "lin_mae = mean_absolute_error(housing_labels, housing_predictions)\n",
    "lin_mae"
   ]
  },
  {
   "cell_type": "code",
   "execution_count": 58,
   "metadata": {
    "collapsed": false
   },
   "outputs": [
    {
     "data": {
      "text/plain": [
       "DecisionTreeRegressor(criterion='mse', max_depth=None, max_features=None,\n",
       "           max_leaf_nodes=None, min_impurity_decrease=0.0,\n",
       "           min_impurity_split=None, min_samples_leaf=1,\n",
       "           min_samples_split=2, min_weight_fraction_leaf=0.0,\n",
       "           presort=False, random_state=None, splitter='best')"
      ]
     },
     "execution_count": 58,
     "metadata": {},
     "output_type": "execute_result"
    }
   ],
   "source": [
    "from sklearn.tree import DecisionTreeRegressor\n",
    "\n",
    "tree_reg = DecisionTreeRegressor()\n",
    "tree_reg.fit(housing_prepared, housing_labels)"
   ]
  },
  {
   "cell_type": "code",
   "execution_count": 59,
   "metadata": {
    "collapsed": false
   },
   "outputs": [
    {
     "data": {
      "text/plain": [
       "0.0"
      ]
     },
     "execution_count": 59,
     "metadata": {},
     "output_type": "execute_result"
    }
   ],
   "source": [
    "housing_predictions = tree_reg.predict(housing_prepared)\n",
    "tree_mse = mean_squared_error(housing_predictions, housing_labels)\n",
    "tree_rmse = np.sqrt(tree_mse)\n",
    "tree_rmse"
   ]
  },
  {
   "cell_type": "markdown",
   "metadata": {},
   "source": [
    "### Evaluate with Cross-Validation"
   ]
  },
  {
   "cell_type": "code",
   "execution_count": 60,
   "metadata": {
    "collapsed": true
   },
   "outputs": [],
   "source": [
    "from sklearn.model_selection import cross_val_score\n",
    "scores = cross_val_score(tree_reg, housing_prepared, housing_labels, scoring=\"neg_mean_squared_error\", cv=10)\n",
    "tree_rmse_scores = np.sqrt(-scores)"
   ]
  },
  {
   "cell_type": "code",
   "execution_count": 61,
   "metadata": {
    "collapsed": false
   },
   "outputs": [
    {
     "name": "stdout",
     "output_type": "stream",
     "text": [
      "Scores: [69316.02634772 65498.84994772 71404.25935862 69098.46240168\n",
      " 70580.30735263 75540.88413124 69717.93143674 70428.42648461\n",
      " 75888.17618283 68976.12268448]\n",
      "Mean: 70644.94463282847\n",
      "Standard Deviation: 2938.9378926251234\n"
     ]
    }
   ],
   "source": [
    "def display_scores(scores):\n",
    "    print(\"Scores:\", scores)\n",
    "    print(\"Mean:\", scores.mean())\n",
    "    print(\"Standard Deviation:\", scores.std())\n",
    "    \n",
    "display_scores(tree_rmse_scores)"
   ]
  },
  {
   "cell_type": "code",
   "execution_count": 62,
   "metadata": {
    "collapsed": false
   },
   "outputs": [
    {
     "data": {
      "text/plain": [
       "RandomForestRegressor(bootstrap=True, criterion='mse', max_depth=None,\n",
       "           max_features='auto', max_leaf_nodes=None,\n",
       "           min_impurity_decrease=0.0, min_impurity_split=None,\n",
       "           min_samples_leaf=1, min_samples_split=2,\n",
       "           min_weight_fraction_leaf=0.0, n_estimators=10, n_jobs=1,\n",
       "           oob_score=False, random_state=42, verbose=0, warm_start=False)"
      ]
     },
     "execution_count": 62,
     "metadata": {},
     "output_type": "execute_result"
    }
   ],
   "source": [
    "from sklearn.ensemble import RandomForestRegressor\n",
    "\n",
    "forest_reg = RandomForestRegressor(random_state=42)\n",
    "forest_reg.fit(housing_prepared, housing_labels)"
   ]
  },
  {
   "cell_type": "code",
   "execution_count": 63,
   "metadata": {
    "collapsed": false
   },
   "outputs": [
    {
     "data": {
      "text/plain": [
       "21941.911027380233"
      ]
     },
     "execution_count": 63,
     "metadata": {},
     "output_type": "execute_result"
    }
   ],
   "source": [
    "housing_predictions = forest_reg.predict(housing_prepared)\n",
    "forest_mse = mean_squared_error(housing_labels, housing_predictions)\n",
    "forest_rmse = np.sqrt(forest_mse)\n",
    "forest_rmse"
   ]
  },
  {
   "cell_type": "code",
   "execution_count": 64,
   "metadata": {
    "collapsed": true
   },
   "outputs": [],
   "source": [
    "scores = cross_val_score(forest_reg, housing_prepared, housing_labels, scoring=\"neg_mean_squared_error\", cv=10)\n",
    "forest_rmse_scores = np.sqrt(-scores)"
   ]
  },
  {
   "cell_type": "code",
   "execution_count": 65,
   "metadata": {
    "collapsed": false
   },
   "outputs": [
    {
     "name": "stdout",
     "output_type": "stream",
     "text": [
      "Scores: [51650.94405471 48920.80645498 52979.16096752 54412.74042021\n",
      " 50861.29381163 56488.55699727 51866.90120786 49752.24599537\n",
      " 55399.50713191 53309.74548294]\n",
      "Mean: 52564.19025244012\n",
      "Standard Deviation: 2301.873803919754\n"
     ]
    }
   ],
   "source": [
    "display_scores(forest_rmse_scores)"
   ]
  },
  {
   "cell_type": "code",
   "execution_count": 66,
   "metadata": {
    "collapsed": false,
    "scrolled": false
   },
   "outputs": [],
   "source": [
    "# from sklearn.neural_network import MLPRegressor\n",
    "\n",
    "# nn_reg = MLPRegressor(hidden_layer_sizes=(20,20,20), learning_rate_init=0.003, max_iter=1000)\n",
    "# nn_reg.fit(housing_prepared, housing_labels)"
   ]
  },
  {
   "cell_type": "code",
   "execution_count": 67,
   "metadata": {
    "collapsed": false
   },
   "outputs": [],
   "source": [
    "# housing_predictions = nn_reg.predict(housing_prepared)\n",
    "# nn_mse = mean_squared_error(housing_labels, housing_predictions)\n",
    "# nn_rmse = np.sqrt(nn_mse)\n",
    "# nn_rmse"
   ]
  },
  {
   "cell_type": "code",
   "execution_count": 68,
   "metadata": {
    "collapsed": false
   },
   "outputs": [],
   "source": [
    "# scores = cross_val_score(nn_reg, housing_prepared, housing_labels, scoring=\"neg_mean_squared_error\", cv=10)\n",
    "# nn_rmse_scores = np.sqrt(-scores)\n",
    "# display_scores(nn_rmse_scores)"
   ]
  },
  {
   "cell_type": "code",
   "execution_count": 69,
   "metadata": {
    "collapsed": false
   },
   "outputs": [
    {
     "data": {
      "text/plain": [
       "GridSearchCV(cv=5, error_score='raise',\n",
       "       estimator=RandomForestRegressor(bootstrap=True, criterion='mse', max_depth=None,\n",
       "           max_features='auto', max_leaf_nodes=None,\n",
       "           min_impurity_decrease=0.0, min_impurity_split=None,\n",
       "           min_samples_leaf=1, min_samples_split=2,\n",
       "           min_weight_fraction_leaf=0.0, n_estimators=10, n_jobs=1,\n",
       "           oob_score=False, random_state=42, verbose=0, warm_start=False),\n",
       "       fit_params=None, iid=True, n_jobs=1,\n",
       "       param_grid=[{'max_features': [2, 4, 6, 8], 'n_estimators': [3, 10, 30]}, {'bootstrap': [False], 'max_features': [2, 3, 4], 'n_estimators': [3, 10]}],\n",
       "       pre_dispatch='2*n_jobs', refit=True, return_train_score='warn',\n",
       "       scoring='neg_mean_squared_error', verbose=0)"
      ]
     },
     "execution_count": 69,
     "metadata": {},
     "output_type": "execute_result"
    }
   ],
   "source": [
    "from sklearn.model_selection import GridSearchCV\n",
    "\n",
    "param_grid = [\n",
    "    # try 12 (3×4) combinations of hyperparameters\n",
    "    {'n_estimators': [3, 10, 30], 'max_features': [2, 4, 6, 8]},\n",
    "    # then try 6 (2×3) combinations with bootstrap set as False\n",
    "    {'bootstrap': [False], 'n_estimators': [3, 10], 'max_features': [2, 3, 4]},\n",
    "  ]\n",
    "\n",
    "forest_reg = RandomForestRegressor(random_state=42)\n",
    "# train across 5 folds, that's a total of (12+6)*5=90 rounds of training \n",
    "grid_search = GridSearchCV(forest_reg, param_grid, cv=5,\n",
    "                           scoring='neg_mean_squared_error')\n",
    "grid_search.fit(housing_prepared, housing_labels)"
   ]
  },
  {
   "cell_type": "code",
   "execution_count": 70,
   "metadata": {
    "collapsed": false
   },
   "outputs": [
    {
     "data": {
      "text/plain": [
       "{'max_features': 8, 'n_estimators': 30}"
      ]
     },
     "execution_count": 70,
     "metadata": {},
     "output_type": "execute_result"
    }
   ],
   "source": [
    "grid_search.best_params_"
   ]
  },
  {
   "cell_type": "code",
   "execution_count": 71,
   "metadata": {
    "collapsed": false
   },
   "outputs": [
    {
     "data": {
      "text/plain": [
       "RandomForestRegressor(bootstrap=True, criterion='mse', max_depth=None,\n",
       "           max_features=8, max_leaf_nodes=None, min_impurity_decrease=0.0,\n",
       "           min_impurity_split=None, min_samples_leaf=1,\n",
       "           min_samples_split=2, min_weight_fraction_leaf=0.0,\n",
       "           n_estimators=30, n_jobs=1, oob_score=False, random_state=42,\n",
       "           verbose=0, warm_start=False)"
      ]
     },
     "execution_count": 71,
     "metadata": {},
     "output_type": "execute_result"
    }
   ],
   "source": [
    "grid_search.best_estimator_"
   ]
  },
  {
   "cell_type": "code",
   "execution_count": 72,
   "metadata": {
    "collapsed": false
   },
   "outputs": [
    {
     "name": "stdout",
     "output_type": "stream",
     "text": [
      "63647.85444595992 {'max_features': 2, 'n_estimators': 3}\n",
      "55611.50159876327 {'max_features': 2, 'n_estimators': 10}\n",
      "53370.06407363344 {'max_features': 2, 'n_estimators': 30}\n",
      "60959.138858487866 {'max_features': 4, 'n_estimators': 3}\n",
      "52740.58416665252 {'max_features': 4, 'n_estimators': 10}\n",
      "50374.14214614731 {'max_features': 4, 'n_estimators': 30}\n",
      "58661.2866461823 {'max_features': 6, 'n_estimators': 3}\n",
      "52009.973979776936 {'max_features': 6, 'n_estimators': 10}\n",
      "50154.11777368494 {'max_features': 6, 'n_estimators': 30}\n",
      "57865.36168014446 {'max_features': 8, 'n_estimators': 3}\n",
      "51730.07550866553 {'max_features': 8, 'n_estimators': 10}\n",
      "49694.85143334442 {'max_features': 8, 'n_estimators': 30}\n",
      "62874.407393096284 {'bootstrap': False, 'max_features': 2, 'n_estimators': 3}\n",
      "54643.49980834466 {'bootstrap': False, 'max_features': 2, 'n_estimators': 10}\n",
      "59437.89228588419 {'bootstrap': False, 'max_features': 3, 'n_estimators': 3}\n",
      "52735.358293621044 {'bootstrap': False, 'max_features': 3, 'n_estimators': 10}\n",
      "57490.01682787995 {'bootstrap': False, 'max_features': 4, 'n_estimators': 3}\n",
      "51008.261567163354 {'bootstrap': False, 'max_features': 4, 'n_estimators': 10}\n"
     ]
    }
   ],
   "source": [
    "cvres = grid_search.cv_results_\n",
    "for mean_score, params in zip(cvres[\"mean_test_score\"], cvres[\"params\"]):\n",
    "    print(np.sqrt(-mean_score), params)"
   ]
  },
  {
   "cell_type": "code",
   "execution_count": 73,
   "metadata": {
    "collapsed": false
   },
   "outputs": [
    {
     "name": "stderr",
     "output_type": "stream",
     "text": [
      "//anaconda/lib/python3.5/site-packages/sklearn/utils/deprecation.py:122: FutureWarning: You are accessing a training score ('mean_train_score'), which will not be available by default any more in 0.21. If you need training scores, please set return_train_score=True\n",
      "  warnings.warn(*warn_args, **warn_kwargs)\n",
      "//anaconda/lib/python3.5/site-packages/sklearn/utils/deprecation.py:122: FutureWarning: You are accessing a training score ('split0_train_score'), which will not be available by default any more in 0.21. If you need training scores, please set return_train_score=True\n",
      "  warnings.warn(*warn_args, **warn_kwargs)\n",
      "//anaconda/lib/python3.5/site-packages/sklearn/utils/deprecation.py:122: FutureWarning: You are accessing a training score ('split1_train_score'), which will not be available by default any more in 0.21. If you need training scores, please set return_train_score=True\n",
      "  warnings.warn(*warn_args, **warn_kwargs)\n",
      "//anaconda/lib/python3.5/site-packages/sklearn/utils/deprecation.py:122: FutureWarning: You are accessing a training score ('split2_train_score'), which will not be available by default any more in 0.21. If you need training scores, please set return_train_score=True\n",
      "  warnings.warn(*warn_args, **warn_kwargs)\n",
      "//anaconda/lib/python3.5/site-packages/sklearn/utils/deprecation.py:122: FutureWarning: You are accessing a training score ('split3_train_score'), which will not be available by default any more in 0.21. If you need training scores, please set return_train_score=True\n",
      "  warnings.warn(*warn_args, **warn_kwargs)\n",
      "//anaconda/lib/python3.5/site-packages/sklearn/utils/deprecation.py:122: FutureWarning: You are accessing a training score ('split4_train_score'), which will not be available by default any more in 0.21. If you need training scores, please set return_train_score=True\n",
      "  warnings.warn(*warn_args, **warn_kwargs)\n",
      "//anaconda/lib/python3.5/site-packages/sklearn/utils/deprecation.py:122: FutureWarning: You are accessing a training score ('std_train_score'), which will not be available by default any more in 0.21. If you need training scores, please set return_train_score=True\n",
      "  warnings.warn(*warn_args, **warn_kwargs)\n"
     ]
    },
    {
     "data": {
      "text/html": [
       "<div>\n",
       "<style scoped>\n",
       "    .dataframe tbody tr th:only-of-type {\n",
       "        vertical-align: middle;\n",
       "    }\n",
       "\n",
       "    .dataframe tbody tr th {\n",
       "        vertical-align: top;\n",
       "    }\n",
       "\n",
       "    .dataframe thead th {\n",
       "        text-align: right;\n",
       "    }\n",
       "</style>\n",
       "<table border=\"1\" class=\"dataframe\">\n",
       "  <thead>\n",
       "    <tr style=\"text-align: right;\">\n",
       "      <th></th>\n",
       "      <th>mean_fit_time</th>\n",
       "      <th>mean_score_time</th>\n",
       "      <th>mean_test_score</th>\n",
       "      <th>mean_train_score</th>\n",
       "      <th>param_bootstrap</th>\n",
       "      <th>param_max_features</th>\n",
       "      <th>param_n_estimators</th>\n",
       "      <th>params</th>\n",
       "      <th>rank_test_score</th>\n",
       "      <th>split0_test_score</th>\n",
       "      <th>...</th>\n",
       "      <th>split2_test_score</th>\n",
       "      <th>split2_train_score</th>\n",
       "      <th>split3_test_score</th>\n",
       "      <th>split3_train_score</th>\n",
       "      <th>split4_test_score</th>\n",
       "      <th>split4_train_score</th>\n",
       "      <th>std_fit_time</th>\n",
       "      <th>std_score_time</th>\n",
       "      <th>std_test_score</th>\n",
       "      <th>std_train_score</th>\n",
       "    </tr>\n",
       "  </thead>\n",
       "  <tbody>\n",
       "    <tr>\n",
       "      <th>0</th>\n",
       "      <td>0.116513</td>\n",
       "      <td>0.009010</td>\n",
       "      <td>-4.051049e+09</td>\n",
       "      <td>-1.106013e+09</td>\n",
       "      <td>NaN</td>\n",
       "      <td>2</td>\n",
       "      <td>3</td>\n",
       "      <td>{'max_features': 2, 'n_estimators': 3}</td>\n",
       "      <td>18</td>\n",
       "      <td>-3.850668e+09</td>\n",
       "      <td>...</td>\n",
       "      <td>-4.194135e+09</td>\n",
       "      <td>-1.116843e+09</td>\n",
       "      <td>-3.906732e+09</td>\n",
       "      <td>-1.112813e+09</td>\n",
       "      <td>-4.169669e+09</td>\n",
       "      <td>-1.129842e+09</td>\n",
       "      <td>0.080302</td>\n",
       "      <td>0.008085</td>\n",
       "      <td>1.431223e+08</td>\n",
       "      <td>2.173798e+07</td>\n",
       "    </tr>\n",
       "    <tr>\n",
       "      <th>1</th>\n",
       "      <td>0.242600</td>\n",
       "      <td>0.011574</td>\n",
       "      <td>-3.092639e+09</td>\n",
       "      <td>-5.819353e+08</td>\n",
       "      <td>NaN</td>\n",
       "      <td>2</td>\n",
       "      <td>10</td>\n",
       "      <td>{'max_features': 2, 'n_estimators': 10}</td>\n",
       "      <td>11</td>\n",
       "      <td>-3.052380e+09</td>\n",
       "      <td>...</td>\n",
       "      <td>-3.124982e+09</td>\n",
       "      <td>-5.780873e+08</td>\n",
       "      <td>-2.865117e+09</td>\n",
       "      <td>-5.713421e+08</td>\n",
       "      <td>-3.169914e+09</td>\n",
       "      <td>-5.797944e+08</td>\n",
       "      <td>0.013431</td>\n",
       "      <td>0.000697</td>\n",
       "      <td>1.306954e+08</td>\n",
       "      <td>7.584886e+06</td>\n",
       "    </tr>\n",
       "    <tr>\n",
       "      <th>2</th>\n",
       "      <td>0.784575</td>\n",
       "      <td>0.035828</td>\n",
       "      <td>-2.848364e+09</td>\n",
       "      <td>-4.396234e+08</td>\n",
       "      <td>NaN</td>\n",
       "      <td>2</td>\n",
       "      <td>30</td>\n",
       "      <td>{'max_features': 2, 'n_estimators': 30}</td>\n",
       "      <td>9</td>\n",
       "      <td>-2.692176e+09</td>\n",
       "      <td>...</td>\n",
       "      <td>-2.943808e+09</td>\n",
       "      <td>-4.374429e+08</td>\n",
       "      <td>-2.619893e+09</td>\n",
       "      <td>-4.374715e+08</td>\n",
       "      <td>-2.968460e+09</td>\n",
       "      <td>-4.451903e+08</td>\n",
       "      <td>0.048009</td>\n",
       "      <td>0.002267</td>\n",
       "      <td>1.604534e+08</td>\n",
       "      <td>2.883885e+06</td>\n",
       "    </tr>\n",
       "    <tr>\n",
       "      <th>3</th>\n",
       "      <td>0.115768</td>\n",
       "      <td>0.003971</td>\n",
       "      <td>-3.716017e+09</td>\n",
       "      <td>-9.850011e+08</td>\n",
       "      <td>NaN</td>\n",
       "      <td>4</td>\n",
       "      <td>3</td>\n",
       "      <td>{'max_features': 4, 'n_estimators': 3}</td>\n",
       "      <td>16</td>\n",
       "      <td>-3.729600e+09</td>\n",
       "      <td>...</td>\n",
       "      <td>-3.736527e+09</td>\n",
       "      <td>-9.172986e+08</td>\n",
       "      <td>-3.404974e+09</td>\n",
       "      <td>-1.035901e+09</td>\n",
       "      <td>-3.914186e+09</td>\n",
       "      <td>-9.711998e+08</td>\n",
       "      <td>0.002096</td>\n",
       "      <td>0.000471</td>\n",
       "      <td>1.690029e+08</td>\n",
       "      <td>4.047487e+07</td>\n",
       "    </tr>\n",
       "    <tr>\n",
       "      <th>4</th>\n",
       "      <td>0.399048</td>\n",
       "      <td>0.012448</td>\n",
       "      <td>-2.781569e+09</td>\n",
       "      <td>-5.160154e+08</td>\n",
       "      <td>NaN</td>\n",
       "      <td>4</td>\n",
       "      <td>10</td>\n",
       "      <td>{'max_features': 4, 'n_estimators': 10}</td>\n",
       "      <td>8</td>\n",
       "      <td>-2.667093e+09</td>\n",
       "      <td>...</td>\n",
       "      <td>-2.891599e+09</td>\n",
       "      <td>-4.960301e+08</td>\n",
       "      <td>-2.613393e+09</td>\n",
       "      <td>-5.422542e+08</td>\n",
       "      <td>-2.949550e+09</td>\n",
       "      <td>-5.158794e+08</td>\n",
       "      <td>0.011078</td>\n",
       "      <td>0.001182</td>\n",
       "      <td>1.278498e+08</td>\n",
       "      <td>1.498960e+07</td>\n",
       "    </tr>\n",
       "    <tr>\n",
       "      <th>5</th>\n",
       "      <td>1.239483</td>\n",
       "      <td>0.032518</td>\n",
       "      <td>-2.537554e+09</td>\n",
       "      <td>-3.878685e+08</td>\n",
       "      <td>NaN</td>\n",
       "      <td>4</td>\n",
       "      <td>30</td>\n",
       "      <td>{'max_features': 4, 'n_estimators': 30}</td>\n",
       "      <td>3</td>\n",
       "      <td>-2.387199e+09</td>\n",
       "      <td>...</td>\n",
       "      <td>-2.663178e+09</td>\n",
       "      <td>-3.789712e+08</td>\n",
       "      <td>-2.397951e+09</td>\n",
       "      <td>-4.036920e+08</td>\n",
       "      <td>-2.649850e+09</td>\n",
       "      <td>-3.846171e+08</td>\n",
       "      <td>0.085142</td>\n",
       "      <td>0.005168</td>\n",
       "      <td>1.209935e+08</td>\n",
       "      <td>8.424973e+06</td>\n",
       "    </tr>\n",
       "    <tr>\n",
       "      <th>6</th>\n",
       "      <td>0.160362</td>\n",
       "      <td>0.003972</td>\n",
       "      <td>-3.441147e+09</td>\n",
       "      <td>-9.030212e+08</td>\n",
       "      <td>NaN</td>\n",
       "      <td>6</td>\n",
       "      <td>3</td>\n",
       "      <td>{'max_features': 6, 'n_estimators': 3}</td>\n",
       "      <td>14</td>\n",
       "      <td>-3.119576e+09</td>\n",
       "      <td>...</td>\n",
       "      <td>-3.587747e+09</td>\n",
       "      <td>-9.360639e+08</td>\n",
       "      <td>-3.331544e+09</td>\n",
       "      <td>-9.025026e+08</td>\n",
       "      <td>-3.577062e+09</td>\n",
       "      <td>-8.612945e+08</td>\n",
       "      <td>0.003762</td>\n",
       "      <td>0.000058</td>\n",
       "      <td>1.884229e+08</td>\n",
       "      <td>2.639683e+07</td>\n",
       "    </tr>\n",
       "    <tr>\n",
       "      <th>7</th>\n",
       "      <td>0.541498</td>\n",
       "      <td>0.012147</td>\n",
       "      <td>-2.705037e+09</td>\n",
       "      <td>-5.014210e+08</td>\n",
       "      <td>NaN</td>\n",
       "      <td>6</td>\n",
       "      <td>10</td>\n",
       "      <td>{'max_features': 6, 'n_estimators': 10}</td>\n",
       "      <td>6</td>\n",
       "      <td>-2.553481e+09</td>\n",
       "      <td>...</td>\n",
       "      <td>-2.762945e+09</td>\n",
       "      <td>-4.996537e+08</td>\n",
       "      <td>-2.519522e+09</td>\n",
       "      <td>-4.989516e+08</td>\n",
       "      <td>-2.906270e+09</td>\n",
       "      <td>-5.063617e+08</td>\n",
       "      <td>0.014445</td>\n",
       "      <td>0.001397</td>\n",
       "      <td>1.464963e+08</td>\n",
       "      <td>3.357661e+06</td>\n",
       "    </tr>\n",
       "    <tr>\n",
       "      <th>8</th>\n",
       "      <td>1.681414</td>\n",
       "      <td>0.035775</td>\n",
       "      <td>-2.515436e+09</td>\n",
       "      <td>-3.840197e+08</td>\n",
       "      <td>NaN</td>\n",
       "      <td>6</td>\n",
       "      <td>30</td>\n",
       "      <td>{'max_features': 6, 'n_estimators': 30}</td>\n",
       "      <td>2</td>\n",
       "      <td>-2.371924e+09</td>\n",
       "      <td>...</td>\n",
       "      <td>-2.607962e+09</td>\n",
       "      <td>-3.805596e+08</td>\n",
       "      <td>-2.351220e+09</td>\n",
       "      <td>-3.856159e+08</td>\n",
       "      <td>-2.662399e+09</td>\n",
       "      <td>-3.904866e+08</td>\n",
       "      <td>0.056573</td>\n",
       "      <td>0.005049</td>\n",
       "      <td>1.283580e+08</td>\n",
       "      <td>3.796810e+06</td>\n",
       "    </tr>\n",
       "    <tr>\n",
       "      <th>9</th>\n",
       "      <td>0.219858</td>\n",
       "      <td>0.004228</td>\n",
       "      <td>-3.348400e+09</td>\n",
       "      <td>-8.884890e+08</td>\n",
       "      <td>NaN</td>\n",
       "      <td>8</td>\n",
       "      <td>3</td>\n",
       "      <td>{'max_features': 8, 'n_estimators': 3}</td>\n",
       "      <td>13</td>\n",
       "      <td>-3.351347e+09</td>\n",
       "      <td>...</td>\n",
       "      <td>-3.396841e+09</td>\n",
       "      <td>-8.596460e+08</td>\n",
       "      <td>-3.131753e+09</td>\n",
       "      <td>-8.893698e+08</td>\n",
       "      <td>-3.509451e+09</td>\n",
       "      <td>-9.146734e+08</td>\n",
       "      <td>0.008979</td>\n",
       "      <td>0.000160</td>\n",
       "      <td>1.226683e+08</td>\n",
       "      <td>2.730057e+07</td>\n",
       "    </tr>\n",
       "    <tr>\n",
       "      <th>10</th>\n",
       "      <td>0.765740</td>\n",
       "      <td>0.014102</td>\n",
       "      <td>-2.676001e+09</td>\n",
       "      <td>-4.923247e+08</td>\n",
       "      <td>NaN</td>\n",
       "      <td>8</td>\n",
       "      <td>10</td>\n",
       "      <td>{'max_features': 8, 'n_estimators': 10}</td>\n",
       "      <td>5</td>\n",
       "      <td>-2.572358e+09</td>\n",
       "      <td>...</td>\n",
       "      <td>-2.844608e+09</td>\n",
       "      <td>-4.730979e+08</td>\n",
       "      <td>-2.462797e+09</td>\n",
       "      <td>-5.154156e+08</td>\n",
       "      <td>-2.777049e+09</td>\n",
       "      <td>-4.979127e+08</td>\n",
       "      <td>0.048197</td>\n",
       "      <td>0.001864</td>\n",
       "      <td>1.393253e+08</td>\n",
       "      <td>1.446900e+07</td>\n",
       "    </tr>\n",
       "    <tr>\n",
       "      <th>11</th>\n",
       "      <td>2.289007</td>\n",
       "      <td>0.035838</td>\n",
       "      <td>-2.469578e+09</td>\n",
       "      <td>-3.809175e+08</td>\n",
       "      <td>NaN</td>\n",
       "      <td>8</td>\n",
       "      <td>30</td>\n",
       "      <td>{'max_features': 8, 'n_estimators': 30}</td>\n",
       "      <td>1</td>\n",
       "      <td>-2.358884e+09</td>\n",
       "      <td>...</td>\n",
       "      <td>-2.591134e+09</td>\n",
       "      <td>-3.772512e+08</td>\n",
       "      <td>-2.319816e+09</td>\n",
       "      <td>-3.881153e+08</td>\n",
       "      <td>-2.528200e+09</td>\n",
       "      <td>-3.807496e+08</td>\n",
       "      <td>0.111273</td>\n",
       "      <td>0.004774</td>\n",
       "      <td>1.089395e+08</td>\n",
       "      <td>4.853344e+06</td>\n",
       "    </tr>\n",
       "    <tr>\n",
       "      <th>12</th>\n",
       "      <td>0.110120</td>\n",
       "      <td>0.004970</td>\n",
       "      <td>-3.953191e+09</td>\n",
       "      <td>0.000000e+00</td>\n",
       "      <td>False</td>\n",
       "      <td>2</td>\n",
       "      <td>3</td>\n",
       "      <td>{'bootstrap': False, 'max_features': 2, 'n_est...</td>\n",
       "      <td>17</td>\n",
       "      <td>-3.792367e+09</td>\n",
       "      <td>...</td>\n",
       "      <td>-4.050371e+09</td>\n",
       "      <td>-0.000000e+00</td>\n",
       "      <td>-3.668520e+09</td>\n",
       "      <td>-0.000000e+00</td>\n",
       "      <td>-4.087237e+09</td>\n",
       "      <td>-0.000000e+00</td>\n",
       "      <td>0.002341</td>\n",
       "      <td>0.000235</td>\n",
       "      <td>1.898516e+08</td>\n",
       "      <td>0.000000e+00</td>\n",
       "    </tr>\n",
       "    <tr>\n",
       "      <th>13</th>\n",
       "      <td>0.389449</td>\n",
       "      <td>0.015706</td>\n",
       "      <td>-2.985912e+09</td>\n",
       "      <td>-6.056027e-01</td>\n",
       "      <td>False</td>\n",
       "      <td>2</td>\n",
       "      <td>10</td>\n",
       "      <td>{'bootstrap': False, 'max_features': 2, 'n_est...</td>\n",
       "      <td>10</td>\n",
       "      <td>-2.808029e+09</td>\n",
       "      <td>...</td>\n",
       "      <td>-3.125519e+09</td>\n",
       "      <td>-0.000000e+00</td>\n",
       "      <td>-2.788623e+09</td>\n",
       "      <td>-0.000000e+00</td>\n",
       "      <td>-3.100391e+09</td>\n",
       "      <td>-2.967449e+00</td>\n",
       "      <td>0.009915</td>\n",
       "      <td>0.001048</td>\n",
       "      <td>1.535103e+08</td>\n",
       "      <td>1.181156e+00</td>\n",
       "    </tr>\n",
       "    <tr>\n",
       "      <th>14</th>\n",
       "      <td>0.159975</td>\n",
       "      <td>0.004922</td>\n",
       "      <td>-3.532863e+09</td>\n",
       "      <td>-1.214568e+01</td>\n",
       "      <td>False</td>\n",
       "      <td>3</td>\n",
       "      <td>3</td>\n",
       "      <td>{'bootstrap': False, 'max_features': 3, 'n_est...</td>\n",
       "      <td>15</td>\n",
       "      <td>-3.604830e+09</td>\n",
       "      <td>...</td>\n",
       "      <td>-3.552984e+09</td>\n",
       "      <td>-0.000000e+00</td>\n",
       "      <td>-3.610963e+09</td>\n",
       "      <td>-0.000000e+00</td>\n",
       "      <td>-3.455760e+09</td>\n",
       "      <td>-6.072840e+01</td>\n",
       "      <td>0.010778</td>\n",
       "      <td>0.000487</td>\n",
       "      <td>7.251650e+07</td>\n",
       "      <td>2.429136e+01</td>\n",
       "    </tr>\n",
       "    <tr>\n",
       "      <th>15</th>\n",
       "      <td>0.530826</td>\n",
       "      <td>0.016435</td>\n",
       "      <td>-2.781018e+09</td>\n",
       "      <td>-5.272080e+00</td>\n",
       "      <td>False</td>\n",
       "      <td>3</td>\n",
       "      <td>10</td>\n",
       "      <td>{'bootstrap': False, 'max_features': 3, 'n_est...</td>\n",
       "      <td>7</td>\n",
       "      <td>-2.756941e+09</td>\n",
       "      <td>...</td>\n",
       "      <td>-2.831963e+09</td>\n",
       "      <td>-0.000000e+00</td>\n",
       "      <td>-2.672258e+09</td>\n",
       "      <td>-0.000000e+00</td>\n",
       "      <td>-2.793018e+09</td>\n",
       "      <td>-5.465556e+00</td>\n",
       "      <td>0.036003</td>\n",
       "      <td>0.001344</td>\n",
       "      <td>6.329307e+07</td>\n",
       "      <td>8.093117e+00</td>\n",
       "    </tr>\n",
       "    <tr>\n",
       "      <th>16</th>\n",
       "      <td>0.191368</td>\n",
       "      <td>0.005501</td>\n",
       "      <td>-3.305102e+09</td>\n",
       "      <td>0.000000e+00</td>\n",
       "      <td>False</td>\n",
       "      <td>4</td>\n",
       "      <td>3</td>\n",
       "      <td>{'bootstrap': False, 'max_features': 4, 'n_est...</td>\n",
       "      <td>12</td>\n",
       "      <td>-3.143457e+09</td>\n",
       "      <td>...</td>\n",
       "      <td>-3.440323e+09</td>\n",
       "      <td>-0.000000e+00</td>\n",
       "      <td>-3.047980e+09</td>\n",
       "      <td>-0.000000e+00</td>\n",
       "      <td>-3.337950e+09</td>\n",
       "      <td>-0.000000e+00</td>\n",
       "      <td>0.004804</td>\n",
       "      <td>0.000549</td>\n",
       "      <td>1.867866e+08</td>\n",
       "      <td>0.000000e+00</td>\n",
       "    </tr>\n",
       "    <tr>\n",
       "      <th>17</th>\n",
       "      <td>0.618106</td>\n",
       "      <td>0.013861</td>\n",
       "      <td>-2.601843e+09</td>\n",
       "      <td>-3.028238e-03</td>\n",
       "      <td>False</td>\n",
       "      <td>4</td>\n",
       "      <td>10</td>\n",
       "      <td>{'bootstrap': False, 'max_features': 4, 'n_est...</td>\n",
       "      <td>4</td>\n",
       "      <td>-2.531436e+09</td>\n",
       "      <td>...</td>\n",
       "      <td>-2.606596e+09</td>\n",
       "      <td>-0.000000e+00</td>\n",
       "      <td>-2.437626e+09</td>\n",
       "      <td>-0.000000e+00</td>\n",
       "      <td>-2.726341e+09</td>\n",
       "      <td>-0.000000e+00</td>\n",
       "      <td>0.017050</td>\n",
       "      <td>0.001757</td>\n",
       "      <td>1.082086e+08</td>\n",
       "      <td>6.056477e-03</td>\n",
       "    </tr>\n",
       "  </tbody>\n",
       "</table>\n",
       "<p>18 rows × 23 columns</p>\n",
       "</div>"
      ],
      "text/plain": [
       "    mean_fit_time  mean_score_time  mean_test_score  mean_train_score  \\\n",
       "0        0.116513         0.009010    -4.051049e+09     -1.106013e+09   \n",
       "1        0.242600         0.011574    -3.092639e+09     -5.819353e+08   \n",
       "2        0.784575         0.035828    -2.848364e+09     -4.396234e+08   \n",
       "3        0.115768         0.003971    -3.716017e+09     -9.850011e+08   \n",
       "4        0.399048         0.012448    -2.781569e+09     -5.160154e+08   \n",
       "5        1.239483         0.032518    -2.537554e+09     -3.878685e+08   \n",
       "6        0.160362         0.003972    -3.441147e+09     -9.030212e+08   \n",
       "7        0.541498         0.012147    -2.705037e+09     -5.014210e+08   \n",
       "8        1.681414         0.035775    -2.515436e+09     -3.840197e+08   \n",
       "9        0.219858         0.004228    -3.348400e+09     -8.884890e+08   \n",
       "10       0.765740         0.014102    -2.676001e+09     -4.923247e+08   \n",
       "11       2.289007         0.035838    -2.469578e+09     -3.809175e+08   \n",
       "12       0.110120         0.004970    -3.953191e+09      0.000000e+00   \n",
       "13       0.389449         0.015706    -2.985912e+09     -6.056027e-01   \n",
       "14       0.159975         0.004922    -3.532863e+09     -1.214568e+01   \n",
       "15       0.530826         0.016435    -2.781018e+09     -5.272080e+00   \n",
       "16       0.191368         0.005501    -3.305102e+09      0.000000e+00   \n",
       "17       0.618106         0.013861    -2.601843e+09     -3.028238e-03   \n",
       "\n",
       "   param_bootstrap param_max_features param_n_estimators  \\\n",
       "0              NaN                  2                  3   \n",
       "1              NaN                  2                 10   \n",
       "2              NaN                  2                 30   \n",
       "3              NaN                  4                  3   \n",
       "4              NaN                  4                 10   \n",
       "5              NaN                  4                 30   \n",
       "6              NaN                  6                  3   \n",
       "7              NaN                  6                 10   \n",
       "8              NaN                  6                 30   \n",
       "9              NaN                  8                  3   \n",
       "10             NaN                  8                 10   \n",
       "11             NaN                  8                 30   \n",
       "12           False                  2                  3   \n",
       "13           False                  2                 10   \n",
       "14           False                  3                  3   \n",
       "15           False                  3                 10   \n",
       "16           False                  4                  3   \n",
       "17           False                  4                 10   \n",
       "\n",
       "                                               params  rank_test_score  \\\n",
       "0              {'max_features': 2, 'n_estimators': 3}               18   \n",
       "1             {'max_features': 2, 'n_estimators': 10}               11   \n",
       "2             {'max_features': 2, 'n_estimators': 30}                9   \n",
       "3              {'max_features': 4, 'n_estimators': 3}               16   \n",
       "4             {'max_features': 4, 'n_estimators': 10}                8   \n",
       "5             {'max_features': 4, 'n_estimators': 30}                3   \n",
       "6              {'max_features': 6, 'n_estimators': 3}               14   \n",
       "7             {'max_features': 6, 'n_estimators': 10}                6   \n",
       "8             {'max_features': 6, 'n_estimators': 30}                2   \n",
       "9              {'max_features': 8, 'n_estimators': 3}               13   \n",
       "10            {'max_features': 8, 'n_estimators': 10}                5   \n",
       "11            {'max_features': 8, 'n_estimators': 30}                1   \n",
       "12  {'bootstrap': False, 'max_features': 2, 'n_est...               17   \n",
       "13  {'bootstrap': False, 'max_features': 2, 'n_est...               10   \n",
       "14  {'bootstrap': False, 'max_features': 3, 'n_est...               15   \n",
       "15  {'bootstrap': False, 'max_features': 3, 'n_est...                7   \n",
       "16  {'bootstrap': False, 'max_features': 4, 'n_est...               12   \n",
       "17  {'bootstrap': False, 'max_features': 4, 'n_est...                4   \n",
       "\n",
       "    split0_test_score       ...         split2_test_score  split2_train_score  \\\n",
       "0       -3.850668e+09       ...             -4.194135e+09       -1.116843e+09   \n",
       "1       -3.052380e+09       ...             -3.124982e+09       -5.780873e+08   \n",
       "2       -2.692176e+09       ...             -2.943808e+09       -4.374429e+08   \n",
       "3       -3.729600e+09       ...             -3.736527e+09       -9.172986e+08   \n",
       "4       -2.667093e+09       ...             -2.891599e+09       -4.960301e+08   \n",
       "5       -2.387199e+09       ...             -2.663178e+09       -3.789712e+08   \n",
       "6       -3.119576e+09       ...             -3.587747e+09       -9.360639e+08   \n",
       "7       -2.553481e+09       ...             -2.762945e+09       -4.996537e+08   \n",
       "8       -2.371924e+09       ...             -2.607962e+09       -3.805596e+08   \n",
       "9       -3.351347e+09       ...             -3.396841e+09       -8.596460e+08   \n",
       "10      -2.572358e+09       ...             -2.844608e+09       -4.730979e+08   \n",
       "11      -2.358884e+09       ...             -2.591134e+09       -3.772512e+08   \n",
       "12      -3.792367e+09       ...             -4.050371e+09       -0.000000e+00   \n",
       "13      -2.808029e+09       ...             -3.125519e+09       -0.000000e+00   \n",
       "14      -3.604830e+09       ...             -3.552984e+09       -0.000000e+00   \n",
       "15      -2.756941e+09       ...             -2.831963e+09       -0.000000e+00   \n",
       "16      -3.143457e+09       ...             -3.440323e+09       -0.000000e+00   \n",
       "17      -2.531436e+09       ...             -2.606596e+09       -0.000000e+00   \n",
       "\n",
       "    split3_test_score  split3_train_score  split4_test_score  \\\n",
       "0       -3.906732e+09       -1.112813e+09      -4.169669e+09   \n",
       "1       -2.865117e+09       -5.713421e+08      -3.169914e+09   \n",
       "2       -2.619893e+09       -4.374715e+08      -2.968460e+09   \n",
       "3       -3.404974e+09       -1.035901e+09      -3.914186e+09   \n",
       "4       -2.613393e+09       -5.422542e+08      -2.949550e+09   \n",
       "5       -2.397951e+09       -4.036920e+08      -2.649850e+09   \n",
       "6       -3.331544e+09       -9.025026e+08      -3.577062e+09   \n",
       "7       -2.519522e+09       -4.989516e+08      -2.906270e+09   \n",
       "8       -2.351220e+09       -3.856159e+08      -2.662399e+09   \n",
       "9       -3.131753e+09       -8.893698e+08      -3.509451e+09   \n",
       "10      -2.462797e+09       -5.154156e+08      -2.777049e+09   \n",
       "11      -2.319816e+09       -3.881153e+08      -2.528200e+09   \n",
       "12      -3.668520e+09       -0.000000e+00      -4.087237e+09   \n",
       "13      -2.788623e+09       -0.000000e+00      -3.100391e+09   \n",
       "14      -3.610963e+09       -0.000000e+00      -3.455760e+09   \n",
       "15      -2.672258e+09       -0.000000e+00      -2.793018e+09   \n",
       "16      -3.047980e+09       -0.000000e+00      -3.337950e+09   \n",
       "17      -2.437626e+09       -0.000000e+00      -2.726341e+09   \n",
       "\n",
       "    split4_train_score  std_fit_time  std_score_time  std_test_score  \\\n",
       "0        -1.129842e+09      0.080302        0.008085    1.431223e+08   \n",
       "1        -5.797944e+08      0.013431        0.000697    1.306954e+08   \n",
       "2        -4.451903e+08      0.048009        0.002267    1.604534e+08   \n",
       "3        -9.711998e+08      0.002096        0.000471    1.690029e+08   \n",
       "4        -5.158794e+08      0.011078        0.001182    1.278498e+08   \n",
       "5        -3.846171e+08      0.085142        0.005168    1.209935e+08   \n",
       "6        -8.612945e+08      0.003762        0.000058    1.884229e+08   \n",
       "7        -5.063617e+08      0.014445        0.001397    1.464963e+08   \n",
       "8        -3.904866e+08      0.056573        0.005049    1.283580e+08   \n",
       "9        -9.146734e+08      0.008979        0.000160    1.226683e+08   \n",
       "10       -4.979127e+08      0.048197        0.001864    1.393253e+08   \n",
       "11       -3.807496e+08      0.111273        0.004774    1.089395e+08   \n",
       "12       -0.000000e+00      0.002341        0.000235    1.898516e+08   \n",
       "13       -2.967449e+00      0.009915        0.001048    1.535103e+08   \n",
       "14       -6.072840e+01      0.010778        0.000487    7.251650e+07   \n",
       "15       -5.465556e+00      0.036003        0.001344    6.329307e+07   \n",
       "16       -0.000000e+00      0.004804        0.000549    1.867866e+08   \n",
       "17       -0.000000e+00      0.017050        0.001757    1.082086e+08   \n",
       "\n",
       "    std_train_score  \n",
       "0      2.173798e+07  \n",
       "1      7.584886e+06  \n",
       "2      2.883885e+06  \n",
       "3      4.047487e+07  \n",
       "4      1.498960e+07  \n",
       "5      8.424973e+06  \n",
       "6      2.639683e+07  \n",
       "7      3.357661e+06  \n",
       "8      3.796810e+06  \n",
       "9      2.730057e+07  \n",
       "10     1.446900e+07  \n",
       "11     4.853344e+06  \n",
       "12     0.000000e+00  \n",
       "13     1.181156e+00  \n",
       "14     2.429136e+01  \n",
       "15     8.093117e+00  \n",
       "16     0.000000e+00  \n",
       "17     6.056477e-03  \n",
       "\n",
       "[18 rows x 23 columns]"
      ]
     },
     "execution_count": 73,
     "metadata": {},
     "output_type": "execute_result"
    }
   ],
   "source": [
    "pd.DataFrame(cvres)"
   ]
  },
  {
   "cell_type": "code",
   "execution_count": 110,
   "metadata": {
    "collapsed": false
   },
   "outputs": [
    {
     "data": {
      "text/plain": [
       "RandomizedSearchCV(cv=5, error_score='raise',\n",
       "          estimator=RandomForestRegressor(bootstrap=True, criterion='mse', max_depth=None,\n",
       "           max_features='auto', max_leaf_nodes=None,\n",
       "           min_impurity_decrease=0.0, min_impurity_split=None,\n",
       "           min_samples_leaf=1, min_samples_split=2,\n",
       "           min_weight_fraction_leaf=0.0, n_estimators=10, n_jobs=1,\n",
       "           oob_score=False, random_state=42, verbose=0, warm_start=False),\n",
       "          fit_params=None, iid=True, n_iter=10, n_jobs=1,\n",
       "          param_distributions={'max_features': <scipy.stats._distn_infrastructure.rv_frozen object at 0x115656710>, 'n_estimators': <scipy.stats._distn_infrastructure.rv_frozen object at 0x115656518>},\n",
       "          pre_dispatch='2*n_jobs', random_state=42, refit=True,\n",
       "          return_train_score='warn', scoring='neg_mean_squared_error',\n",
       "          verbose=0)"
      ]
     },
     "execution_count": 110,
     "metadata": {},
     "output_type": "execute_result"
    }
   ],
   "source": [
    "from sklearn.model_selection import RandomizedSearchCV\n",
    "from scipy.stats import randint\n",
    "\n",
    "param_distribs = {\n",
    "        'n_estimators': randint(low=1, high=200),\n",
    "        'max_features': randint(low=1, high=8),\n",
    "    }\n",
    "\n",
    "forest_reg = RandomForestRegressor(random_state=42)\n",
    "forest_rnd_search = RandomizedSearchCV(forest_reg, param_distributions=param_distribs,\n",
    "                                n_iter=10, cv=5, scoring='neg_mean_squared_error', random_state=42)\n",
    "forest_rnd_search.fit(housing_prepared, housing_labels)"
   ]
  },
  {
   "cell_type": "code",
   "execution_count": 111,
   "metadata": {
    "collapsed": false
   },
   "outputs": [
    {
     "name": "stdout",
     "output_type": "stream",
     "text": [
      "49147.15241724505 {'max_features': 7, 'n_estimators': 180}\n",
      "51396.876896929905 {'max_features': 5, 'n_estimators': 15}\n",
      "50797.05737322649 {'max_features': 3, 'n_estimators': 72}\n",
      "50840.744513982805 {'max_features': 5, 'n_estimators': 21}\n",
      "49276.17530332962 {'max_features': 7, 'n_estimators': 122}\n",
      "50775.46331678437 {'max_features': 3, 'n_estimators': 75}\n",
      "50681.383924974936 {'max_features': 3, 'n_estimators': 88}\n",
      "49612.152530468346 {'max_features': 5, 'n_estimators': 100}\n",
      "50473.01751424941 {'max_features': 3, 'n_estimators': 150}\n",
      "64458.25385034794 {'max_features': 5, 'n_estimators': 2}\n"
     ]
    }
   ],
   "source": [
    "cvres = forest_rnd_search.cv_results_\n",
    "for mean_score, params in zip(cvres[\"mean_test_score\"], cvres[\"params\"]):\n",
    "    print(np.sqrt(-mean_score), params)"
   ]
  },
  {
   "cell_type": "code",
   "execution_count": 76,
   "metadata": {
    "collapsed": false
   },
   "outputs": [
    {
     "data": {
      "text/plain": [
       "array([7.33442355e-02, 6.29090705e-02, 4.11437985e-02, 1.46726854e-02,\n",
       "       1.41064835e-02, 1.48742809e-02, 1.42575993e-02, 3.66158981e-01,\n",
       "       5.64191792e-02, 1.08792957e-01, 5.33510773e-02, 1.03114883e-02,\n",
       "       1.64780994e-01, 6.02803867e-05, 1.96041560e-03, 2.85647464e-03])"
      ]
     },
     "execution_count": 76,
     "metadata": {},
     "output_type": "execute_result"
    }
   ],
   "source": [
    "feature_importances = grid_search.best_estimator_.feature_importances_\n",
    "feature_importances"
   ]
  },
  {
   "cell_type": "code",
   "execution_count": 77,
   "metadata": {
    "collapsed": false
   },
   "outputs": [
    {
     "data": {
      "text/plain": [
       "array([[-1.15604281,  0.77194962,  0.74333089, ...,  0.        ,\n",
       "         0.        ,  0.        ],\n",
       "       [-1.17602483,  0.6596948 , -1.1653172 , ...,  0.        ,\n",
       "         0.        ,  0.        ],\n",
       "       [ 1.18684903, -1.34218285,  0.18664186, ...,  0.        ,\n",
       "         0.        ,  1.        ],\n",
       "       ...,\n",
       "       [ 1.58648943, -0.72478134, -1.56295222, ...,  0.        ,\n",
       "         0.        ,  0.        ],\n",
       "       [ 0.78221312, -0.85106801,  0.18664186, ...,  0.        ,\n",
       "         0.        ,  0.        ],\n",
       "       [-1.43579109,  0.99645926,  1.85670895, ...,  0.        ,\n",
       "         1.        ,  0.        ]])"
      ]
     },
     "execution_count": 77,
     "metadata": {},
     "output_type": "execute_result"
    }
   ],
   "source": [
    "housing_prepared"
   ]
  },
  {
   "cell_type": "code",
   "execution_count": 78,
   "metadata": {
    "collapsed": false
   },
   "outputs": [
    {
     "data": {
      "text/plain": [
       "[(0.3661589806181342, 'median_income'),\n",
       " (0.1647809935615905, 'INLAND'),\n",
       " (0.10879295677551573, 'pop_per_hhold'),\n",
       " (0.07334423551601242, 'longitude'),\n",
       " (0.0629090704826203, 'latitude'),\n",
       " (0.05641917918195401, 'rooms_per_hhold'),\n",
       " (0.05335107734767581, 'bedrooms_per_room'),\n",
       " (0.041143798478729635, 'housing_median_age'),\n",
       " (0.014874280890402767, 'population'),\n",
       " (0.014672685420543237, 'total_rooms'),\n",
       " (0.014257599323407807, 'households'),\n",
       " (0.014106483453584102, 'total_bedrooms'),\n",
       " (0.010311488326303787, '<1H OCEAN'),\n",
       " (0.002856474637320158, 'NEAR OCEAN'),\n",
       " (0.00196041559947807, 'NEAR BAY'),\n",
       " (6.028038672736599e-05, 'ISLAND')]"
      ]
     },
     "execution_count": 78,
     "metadata": {},
     "output_type": "execute_result"
    }
   ],
   "source": [
    "\n",
    "extra_attribs = [\"rooms_per_hhold\", \"pop_per_hhold\", \"bedrooms_per_room\"]\n",
    "cat_encoder = cat_pipeline.named_steps[\"cat_encoder\"]\n",
    "cat_one_hot_attribs = list(cat_encoder.categories_[0])\n",
    "attributes = num_attribs + extra_attribs + cat_one_hot_attribs\n",
    "sorted(zip(feature_importances, attributes), reverse=True)"
   ]
  },
  {
   "cell_type": "code",
   "execution_count": 80,
   "metadata": {
    "collapsed": true
   },
   "outputs": [],
   "source": [
    "final_model = forest_rnd_search.best_estimator_\n",
    "\n",
    "X_test = strat_test_set.drop(\"median_house_value\", axis=1)\n",
    "y_test = strat_test_set[\"median_house_value\"].copy()\n",
    "\n",
    "X_test_prepared = full_pipeline.transform(X_test)\n",
    "final_predictions = final_model.predict(X_test_prepared)\n",
    "\n",
    "final_mse = mean_squared_error(y_test, final_predictions)\n",
    "final_rmse = np.sqrt(final_mse)"
   ]
  },
  {
   "cell_type": "code",
   "execution_count": 81,
   "metadata": {
    "collapsed": false
   },
   "outputs": [
    {
     "data": {
      "text/plain": [
       "46921.659310064526"
      ]
     },
     "execution_count": 81,
     "metadata": {},
     "output_type": "execute_result"
    }
   ],
   "source": [
    "final_rmse"
   ]
  },
  {
   "cell_type": "markdown",
   "metadata": {},
   "source": [
    "### Full Pipeline with Predictor"
   ]
  },
  {
   "cell_type": "code",
   "execution_count": 82,
   "metadata": {
    "collapsed": false
   },
   "outputs": [
    {
     "data": {
      "text/plain": [
       "array([210644.60459286, 317768.80697211, 210956.43331178,  59218.98886849,\n",
       "       189747.55849878])"
      ]
     },
     "execution_count": 82,
     "metadata": {},
     "output_type": "execute_result"
    }
   ],
   "source": [
    "\n",
    "full_pipeline_with_predictor = Pipeline([\n",
    "        (\"preparation\", full_pipeline),\n",
    "        (\"linear\", LinearRegression())\n",
    "    ])\n",
    "\n",
    "full_pipeline_with_predictor.fit(housing, housing_labels)\n",
    "full_pipeline_with_predictor.predict(some_data)"
   ]
  },
  {
   "cell_type": "code",
   "execution_count": 83,
   "metadata": {
    "collapsed": true
   },
   "outputs": [],
   "source": [
    "my_model = full_pipeline_with_predictor\n",
    "\n",
    "from sklearn.externals import joblib\n",
    "joblib.dump(my_model, \"my_model.pkl\") # DIFF\n",
    "#...\n",
    "my_model_loaded = joblib.load(\"my_model.pkl\") # DIFF"
   ]
  },
  {
   "cell_type": "code",
   "execution_count": 84,
   "metadata": {
    "collapsed": false
   },
   "outputs": [
    {
     "data": {
      "text/plain": [
       "Pipeline(memory=None,\n",
       "     steps=[('preparation', FeatureUnion(n_jobs=1,\n",
       "       transformer_list=[('num_pipeline', Pipeline(memory=None,\n",
       "     steps=[('selector', DataFrameSelector(attribute_names=['longitude', 'latitude', 'housing_median_age', 'total_rooms', 'total_bedrooms', 'population', 'households', 'median_income'])), ('...ts=None)), ('linear', LinearRegression(copy_X=True, fit_intercept=True, n_jobs=1, normalize=False))])"
      ]
     },
     "execution_count": 84,
     "metadata": {},
     "output_type": "execute_result"
    }
   ],
   "source": [
    "my_model_loaded"
   ]
  },
  {
   "cell_type": "markdown",
   "metadata": {},
   "source": [
    "### Extra Exercises"
   ]
  },
  {
   "cell_type": "markdown",
   "metadata": {},
   "source": [
    "\n",
    "Question: Try a Support Vector Machine regressor (sklearn.svm.SVR), with various hyperparameters such as kernel=\"linear\" (with various values for the C hyperparameter) or kernel=\"rbf\" (with various values for the C and gamma hyperparameters). Don't worry about what these hyperparameters mean for now. How does the best SVR predictor perform?"
   ]
  },
  {
   "cell_type": "code",
   "execution_count": 89,
   "metadata": {
    "collapsed": false
   },
   "outputs": [
    {
     "name": "stdout",
     "output_type": "stream",
     "text": [
      "Fitting 5 folds for each of 25 candidates, totalling 125 fits\n",
      "[CV] kernel=linear, C=1000.0 .........................................\n",
      "[CV] kernel=linear, C=1000.0 .........................................\n",
      "[CV] kernel=linear, C=1000.0 .........................................\n",
      "[CV] kernel=linear, C=1000.0 .........................................\n",
      "[CV] .......................... kernel=linear, C=1000.0, total=  27.6s\n",
      "[CV] kernel=linear, C=1000.0 .........................................\n",
      "[CV] .......................... kernel=linear, C=1000.0, total=  27.6s\n",
      "[CV] kernel=linear, C=3000.0 .........................................\n",
      "[CV] .......................... kernel=linear, C=1000.0, total=  28.2s\n",
      "[CV] kernel=linear, C=3000.0 .........................................\n",
      "[CV] .......................... kernel=linear, C=1000.0, total=  28.2s\n",
      "[CV] kernel=linear, C=3000.0 .........................................\n",
      "[CV] .......................... kernel=linear, C=1000.0, total=  25.1s\n",
      "[CV] kernel=linear, C=3000.0 .........................................\n",
      "[CV] .......................... kernel=linear, C=3000.0, total=  25.9s\n",
      "[CV] kernel=linear, C=3000.0 .........................................\n",
      "[CV] .......................... kernel=linear, C=3000.0, total=  25.8s\n",
      "[CV] kernel=linear, C=10000.0 ........................................\n",
      "[CV] .......................... kernel=linear, C=3000.0, total=  25.8s\n",
      "[CV] kernel=linear, C=10000.0 ........................................\n",
      "[CV] .......................... kernel=linear, C=3000.0, total=  31.0s\n",
      "[CV] kernel=linear, C=10000.0 ........................................\n",
      "[CV] .......................... kernel=linear, C=3000.0, total=  30.2s\n",
      "[CV] kernel=linear, C=10000.0 ........................................\n",
      "[CV] ......................... kernel=linear, C=10000.0, total=  37.1s\n",
      "[CV] kernel=linear, C=10000.0 ........................................\n",
      "[CV] ......................... kernel=linear, C=10000.0, total=  37.1s\n",
      "[CV] kernel=linear, C=30000.0 ........................................\n",
      "[CV] ......................... kernel=linear, C=10000.0, total=  31.7s\n",
      "[CV] kernel=linear, C=30000.0 ........................................\n",
      "[CV] ......................... kernel=linear, C=10000.0, total=  33.6s\n",
      "[CV] kernel=linear, C=30000.0 ........................................\n",
      "[CV] ......................... kernel=linear, C=10000.0, total=  29.3s\n",
      "[CV] kernel=linear, C=30000.0 ........................................\n",
      "[CV] ......................... kernel=linear, C=30000.0, total=  45.1s\n",
      "[CV] kernel=linear, C=30000.0 ........................................\n",
      "[CV] ......................... kernel=linear, C=30000.0, total=  50.2s\n",
      "[CV] kernel=rbf, gamma=0.3, C=1.0 ....................................\n",
      "[CV] ......................... kernel=linear, C=30000.0, total=  50.7s\n",
      "[CV] kernel=rbf, gamma=0.3, C=1.0 ....................................\n",
      "[CV] ......................... kernel=linear, C=30000.0, total=  49.2s\n",
      "[CV] kernel=rbf, gamma=0.3, C=1.0 ....................................\n",
      "[CV] ......................... kernel=linear, C=30000.0, total=  44.5s\n",
      "[CV] kernel=rbf, gamma=0.3, C=1.0 ....................................\n",
      "[CV] ..................... kernel=rbf, gamma=0.3, C=1.0, total=  39.8s\n",
      "[CV] kernel=rbf, gamma=0.3, C=1.0 ....................................\n",
      "[CV] ..................... kernel=rbf, gamma=0.3, C=1.0, total=  37.9s\n",
      "[CV] kernel=rbf, gamma=1.0, C=1.0 ....................................\n",
      "[CV] ..................... kernel=rbf, gamma=0.3, C=1.0, total=  33.2s\n",
      "[CV] kernel=rbf, gamma=1.0, C=1.0 ....................................\n",
      "[CV] ..................... kernel=rbf, gamma=0.3, C=1.0, total=  33.2s\n",
      "[CV] kernel=rbf, gamma=1.0, C=1.0 ....................................\n",
      "[CV] ..................... kernel=rbf, gamma=0.3, C=1.0, total=  27.4s\n",
      "[CV] kernel=rbf, gamma=1.0, C=1.0 ....................................\n",
      "[CV] ..................... kernel=rbf, gamma=1.0, C=1.0, total=  28.4s\n",
      "[CV] kernel=rbf, gamma=1.0, C=1.0 ....................................\n",
      "[CV] ..................... kernel=rbf, gamma=1.0, C=1.0, total=  29.0s\n",
      "[CV] kernel=rbf, gamma=3.0, C=1.0 ....................................\n",
      "[CV] ..................... kernel=rbf, gamma=1.0, C=1.0, total=  31.6s\n",
      "[CV] kernel=rbf, gamma=3.0, C=1.0 ....................................\n",
      "[CV] ..................... kernel=rbf, gamma=1.0, C=1.0, total=  38.4s\n",
      "[CV] kernel=rbf, gamma=3.0, C=1.0 ....................................\n",
      "[CV] ..................... kernel=rbf, gamma=1.0, C=1.0, total=  37.9s\n",
      "[CV] kernel=rbf, gamma=3.0, C=1.0 ....................................\n",
      "[CV] ..................... kernel=rbf, gamma=3.0, C=1.0, total=  41.0s\n",
      "[CV] kernel=rbf, gamma=3.0, C=1.0 ....................................\n",
      "[CV] ..................... kernel=rbf, gamma=3.0, C=1.0, total=  35.0s\n",
      "[CV] kernel=rbf, gamma=0.3, C=3.0 ....................................\n",
      "[CV] ..................... kernel=rbf, gamma=3.0, C=1.0, total=  29.7s\n",
      "[CV] kernel=rbf, gamma=0.3, C=3.0 ....................................\n"
     ]
    },
    {
     "name": "stderr",
     "output_type": "stream",
     "text": [
      "[Parallel(n_jobs=4)]: Done  33 tasks      | elapsed:  7.1min\n"
     ]
    },
    {
     "name": "stdout",
     "output_type": "stream",
     "text": [
      "[CV] ..................... kernel=rbf, gamma=3.0, C=1.0, total=  30.5s\n",
      "[CV] kernel=rbf, gamma=0.3, C=3.0 ....................................\n",
      "[CV] ..................... kernel=rbf, gamma=3.0, C=1.0, total=  31.2s\n",
      "[CV] kernel=rbf, gamma=0.3, C=3.0 ....................................\n",
      "[CV] ..................... kernel=rbf, gamma=0.3, C=3.0, total=  27.9s\n",
      "[CV] kernel=rbf, gamma=0.3, C=3.0 ....................................\n",
      "[CV] ..................... kernel=rbf, gamma=0.3, C=3.0, total=  30.0s\n",
      "[CV] kernel=rbf, gamma=1.0, C=3.0 ....................................\n",
      "[CV] ..................... kernel=rbf, gamma=0.3, C=3.0, total=  29.8s\n",
      "[CV] kernel=rbf, gamma=1.0, C=3.0 ....................................\n",
      "[CV] ..................... kernel=rbf, gamma=0.3, C=3.0, total=  30.5s\n",
      "[CV] kernel=rbf, gamma=1.0, C=3.0 ....................................\n",
      "[CV] ..................... kernel=rbf, gamma=0.3, C=3.0, total=  29.0s\n",
      "[CV] kernel=rbf, gamma=1.0, C=3.0 ....................................\n",
      "[CV] ..................... kernel=rbf, gamma=1.0, C=3.0, total=  22.2s\n",
      "[CV] kernel=rbf, gamma=1.0, C=3.0 ....................................\n",
      "[CV] ..................... kernel=rbf, gamma=1.0, C=3.0, total=  21.7s\n",
      "[CV] kernel=rbf, gamma=3.0, C=3.0 ....................................\n",
      "[CV] ..................... kernel=rbf, gamma=1.0, C=3.0, total=  22.5s\n",
      "[CV] kernel=rbf, gamma=3.0, C=3.0 ....................................\n",
      "[CV] ..................... kernel=rbf, gamma=1.0, C=3.0, total=  22.2s\n",
      "[CV] kernel=rbf, gamma=3.0, C=3.0 ....................................\n",
      "[CV] ..................... kernel=rbf, gamma=1.0, C=3.0, total=  21.7s\n",
      "[CV] kernel=rbf, gamma=3.0, C=3.0 ....................................\n",
      "[CV] ..................... kernel=rbf, gamma=3.0, C=3.0, total=  24.2s\n",
      "[CV] kernel=rbf, gamma=3.0, C=3.0 ....................................\n",
      "[CV] ..................... kernel=rbf, gamma=3.0, C=3.0, total=  23.7s\n",
      "[CV] kernel=rbf, gamma=0.3, C=10.0 ...................................\n",
      "[CV] ..................... kernel=rbf, gamma=3.0, C=3.0, total=  23.7s\n",
      "[CV] kernel=rbf, gamma=0.3, C=10.0 ...................................\n",
      "[CV] ..................... kernel=rbf, gamma=3.0, C=3.0, total=  27.9s\n",
      "[CV] kernel=rbf, gamma=0.3, C=10.0 ...................................\n",
      "[CV] ..................... kernel=rbf, gamma=3.0, C=3.0, total=  30.9s\n",
      "[CV] kernel=rbf, gamma=0.3, C=10.0 ...................................\n",
      "[CV] .................... kernel=rbf, gamma=0.3, C=10.0, total=  31.0s\n",
      "[CV] kernel=rbf, gamma=0.3, C=10.0 ...................................\n",
      "[CV] .................... kernel=rbf, gamma=0.3, C=10.0, total=  32.6s\n",
      "[CV] kernel=rbf, gamma=1.0, C=10.0 ...................................\n",
      "[CV] .................... kernel=rbf, gamma=0.3, C=10.0, total=  29.2s\n",
      "[CV] kernel=rbf, gamma=1.0, C=10.0 ...................................\n",
      "[CV] .................... kernel=rbf, gamma=0.3, C=10.0, total=  27.8s\n",
      "[CV] kernel=rbf, gamma=1.0, C=10.0 ...................................\n",
      "[CV] .................... kernel=rbf, gamma=0.3, C=10.0, total=  27.4s\n",
      "[CV] kernel=rbf, gamma=1.0, C=10.0 ...................................\n",
      "[CV] .................... kernel=rbf, gamma=1.0, C=10.0, total=  25.5s\n",
      "[CV] kernel=rbf, gamma=1.0, C=10.0 ...................................\n",
      "[CV] .................... kernel=rbf, gamma=1.0, C=10.0, total=  33.4s\n",
      "[CV] kernel=rbf, gamma=3.0, C=10.0 ...................................\n",
      "[CV] .................... kernel=rbf, gamma=1.0, C=10.0, total=  33.2s\n",
      "[CV] kernel=rbf, gamma=3.0, C=10.0 ...................................\n",
      "[CV] .................... kernel=rbf, gamma=1.0, C=10.0, total=  31.6s\n",
      "[CV] kernel=rbf, gamma=3.0, C=10.0 ...................................\n",
      "[CV] .................... kernel=rbf, gamma=1.0, C=10.0, total=  31.7s\n",
      "[CV] kernel=rbf, gamma=3.0, C=10.0 ...................................\n",
      "[CV] .................... kernel=rbf, gamma=3.0, C=10.0, total=  31.6s\n",
      "[CV] kernel=rbf, gamma=3.0, C=10.0 ...................................\n",
      "[CV] .................... kernel=rbf, gamma=3.0, C=10.0, total=  31.0s\n",
      "[CV] kernel=rbf, gamma=0.3, C=30.0 ...................................\n",
      "[CV] .................... kernel=rbf, gamma=3.0, C=10.0, total=  30.3s\n",
      "[CV] kernel=rbf, gamma=0.3, C=30.0 ...................................\n",
      "[CV] .................... kernel=rbf, gamma=3.0, C=10.0, total=  30.7s\n",
      "[CV] kernel=rbf, gamma=0.3, C=30.0 ...................................\n",
      "[CV] .................... kernel=rbf, gamma=0.3, C=30.0, total=  39.6s\n",
      "[CV] kernel=rbf, gamma=0.3, C=30.0 ...................................\n",
      "[CV] .................... kernel=rbf, gamma=3.0, C=10.0, total=  42.6s\n",
      "[CV] kernel=rbf, gamma=0.3, C=30.0 ...................................\n",
      "[CV] .................... kernel=rbf, gamma=0.3, C=30.0, total=  40.4s\n",
      "[CV] kernel=rbf, gamma=1.0, C=30.0 ...................................\n",
      "[CV] .................... kernel=rbf, gamma=0.3, C=30.0, total=  39.4s\n",
      "[CV] kernel=rbf, gamma=1.0, C=30.0 ...................................\n",
      "[CV] .................... kernel=rbf, gamma=0.3, C=30.0, total=  30.9s\n",
      "[CV] .................... kernel=rbf, gamma=0.3, C=30.0, total=  31.1s\n",
      "[CV] kernel=rbf, gamma=1.0, C=30.0 ...................................\n",
      "[CV] kernel=rbf, gamma=1.0, C=30.0 ...................................\n",
      "[CV] .................... kernel=rbf, gamma=1.0, C=30.0, total=  27.1s\n",
      "[CV] kernel=rbf, gamma=1.0, C=30.0 ...................................\n",
      "[CV] .................... kernel=rbf, gamma=1.0, C=30.0, total=  25.0s\n",
      "[CV] kernel=rbf, gamma=3.0, C=30.0 ...................................\n",
      "[CV] .................... kernel=rbf, gamma=1.0, C=30.0, total=  23.7s\n",
      "[CV] kernel=rbf, gamma=3.0, C=30.0 ...................................\n",
      "[CV] .................... kernel=rbf, gamma=1.0, C=30.0, total=  23.6s\n",
      "[CV] kernel=rbf, gamma=3.0, C=30.0 ...................................\n",
      "[CV] .................... kernel=rbf, gamma=1.0, C=30.0, total=  22.9s\n",
      "[CV] kernel=rbf, gamma=3.0, C=30.0 ...................................\n",
      "[CV] .................... kernel=rbf, gamma=3.0, C=30.0, total=  28.0s\n",
      "[CV] kernel=rbf, gamma=3.0, C=30.0 ...................................\n",
      "[CV] .................... kernel=rbf, gamma=3.0, C=30.0, total=  28.1s\n",
      "[CV] kernel=rbf, gamma=0.3, C=100.0 ..................................\n",
      "[CV] .................... kernel=rbf, gamma=3.0, C=30.0, total=  28.0s\n",
      "[CV] kernel=rbf, gamma=0.3, C=100.0 ..................................\n",
      "[CV] .................... kernel=rbf, gamma=3.0, C=30.0, total=  28.5s\n",
      "[CV] kernel=rbf, gamma=0.3, C=100.0 ..................................\n",
      "[CV] .................... kernel=rbf, gamma=3.0, C=30.0, total=  27.6s\n",
      "[CV] kernel=rbf, gamma=0.3, C=100.0 ..................................\n",
      "[CV] ................... kernel=rbf, gamma=0.3, C=100.0, total=  25.6s\n",
      "[CV] kernel=rbf, gamma=0.3, C=100.0 ..................................\n",
      "[CV] ................... kernel=rbf, gamma=0.3, C=100.0, total=  25.7s\n",
      "[CV] kernel=rbf, gamma=1.0, C=100.0 ..................................\n",
      "[CV] ................... kernel=rbf, gamma=0.3, C=100.0, total=  25.8s\n",
      "[CV] kernel=rbf, gamma=1.0, C=100.0 ..................................\n",
      "[CV] ................... kernel=rbf, gamma=0.3, C=100.0, total=  25.9s\n",
      "[CV] kernel=rbf, gamma=1.0, C=100.0 ..................................\n",
      "[CV] ................... kernel=rbf, gamma=1.0, C=100.0, total=  28.6s\n",
      "[CV] kernel=rbf, gamma=1.0, C=100.0 ..................................\n",
      "[CV] ................... kernel=rbf, gamma=0.3, C=100.0, total=  29.0s\n",
      "[CV] kernel=rbf, gamma=1.0, C=100.0 ..................................\n",
      "[CV] ................... kernel=rbf, gamma=1.0, C=100.0, total=  29.3s\n",
      "[CV] kernel=rbf, gamma=3.0, C=100.0 ..................................\n",
      "[CV] ................... kernel=rbf, gamma=1.0, C=100.0, total=  26.8s\n",
      "[CV] kernel=rbf, gamma=3.0, C=100.0 ..................................\n",
      "[CV] ................... kernel=rbf, gamma=1.0, C=100.0, total=  30.3s\n",
      "[CV] kernel=rbf, gamma=3.0, C=100.0 ..................................\n",
      "[CV] ................... kernel=rbf, gamma=1.0, C=100.0, total=  30.4s\n",
      "[CV] kernel=rbf, gamma=3.0, C=100.0 ..................................\n",
      "[CV] ................... kernel=rbf, gamma=3.0, C=100.0, total=  30.4s\n",
      "[CV] kernel=rbf, gamma=3.0, C=100.0 ..................................\n",
      "[CV] ................... kernel=rbf, gamma=3.0, C=100.0, total=  28.1s\n",
      "[CV] kernel=rbf, gamma=0.3, C=300.0 ..................................\n",
      "[CV] ................... kernel=rbf, gamma=3.0, C=100.0, total=  35.3s\n",
      "[CV] kernel=rbf, gamma=0.3, C=300.0 ..................................\n",
      "[CV] ................... kernel=rbf, gamma=3.0, C=100.0, total=  35.4s\n",
      "[CV] kernel=rbf, gamma=0.3, C=300.0 ..................................\n",
      "[CV] ................... kernel=rbf, gamma=3.0, C=100.0, total=  35.9s\n",
      "[CV] kernel=rbf, gamma=0.3, C=300.0 ..................................\n",
      "[CV] ................... kernel=rbf, gamma=0.3, C=300.0, total=  28.2s\n",
      "[CV] kernel=rbf, gamma=0.3, C=300.0 ..................................\n",
      "[CV] ................... kernel=rbf, gamma=0.3, C=300.0, total=  23.0s\n",
      "[CV] kernel=rbf, gamma=1.0, C=300.0 ..................................\n",
      "[CV] ................... kernel=rbf, gamma=0.3, C=300.0, total=  22.9s\n",
      "[CV] kernel=rbf, gamma=1.0, C=300.0 ..................................\n",
      "[CV] ................... kernel=rbf, gamma=0.3, C=300.0, total=  21.7s\n",
      "[CV] kernel=rbf, gamma=1.0, C=300.0 ..................................\n",
      "[CV] ................... kernel=rbf, gamma=0.3, C=300.0, total=  23.3s\n",
      "[CV] kernel=rbf, gamma=1.0, C=300.0 ..................................\n",
      "[CV] ................... kernel=rbf, gamma=1.0, C=300.0, total=  21.8s\n",
      "[CV] kernel=rbf, gamma=1.0, C=300.0 ..................................\n",
      "[CV] ................... kernel=rbf, gamma=1.0, C=300.0, total=  21.8s\n",
      "[CV] kernel=rbf, gamma=3.0, C=300.0 ..................................\n",
      "[CV] ................... kernel=rbf, gamma=1.0, C=300.0, total=  21.6s\n",
      "[CV] kernel=rbf, gamma=3.0, C=300.0 ..................................\n",
      "[CV] ................... kernel=rbf, gamma=1.0, C=300.0, total=  21.3s\n",
      "[CV] kernel=rbf, gamma=3.0, C=300.0 ..................................\n",
      "[CV] ................... kernel=rbf, gamma=1.0, C=300.0, total=  24.1s\n",
      "[CV] kernel=rbf, gamma=3.0, C=300.0 ..................................\n",
      "[CV] ................... kernel=rbf, gamma=3.0, C=300.0, total=  27.2s\n",
      "[CV] kernel=rbf, gamma=3.0, C=300.0 ..................................\n",
      "[CV] ................... kernel=rbf, gamma=3.0, C=300.0, total=  24.9s\n",
      "[CV] kernel=rbf, gamma=0.3, C=1000.0 .................................\n",
      "[CV] ................... kernel=rbf, gamma=3.0, C=300.0, total=  23.8s\n",
      "[CV] kernel=rbf, gamma=0.3, C=1000.0 .................................\n",
      "[CV] ................... kernel=rbf, gamma=3.0, C=300.0, total=  31.1s\n",
      "[CV] kernel=rbf, gamma=0.3, C=1000.0 .................................\n",
      "[CV] ................... kernel=rbf, gamma=3.0, C=300.0, total=  31.8s\n",
      "[CV] kernel=rbf, gamma=0.3, C=1000.0 .................................\n",
      "[CV] .................. kernel=rbf, gamma=0.3, C=1000.0, total=  25.4s\n",
      "[CV] kernel=rbf, gamma=0.3, C=1000.0 .................................\n",
      "[CV] .................. kernel=rbf, gamma=0.3, C=1000.0, total=  25.8s\n",
      "[CV] kernel=rbf, gamma=1.0, C=1000.0 .................................\n",
      "[CV] .................. kernel=rbf, gamma=0.3, C=1000.0, total=  36.9s\n",
      "[CV] kernel=rbf, gamma=1.0, C=1000.0 .................................\n",
      "[CV] .................. kernel=rbf, gamma=0.3, C=1000.0, total=  36.5s\n",
      "[CV] kernel=rbf, gamma=1.0, C=1000.0 .................................\n",
      "[CV] .................. kernel=rbf, gamma=0.3, C=1000.0, total=  38.1s\n",
      "[CV] kernel=rbf, gamma=1.0, C=1000.0 .................................\n",
      "[CV] .................. kernel=rbf, gamma=1.0, C=1000.0, total=  39.0s\n",
      "[CV] kernel=rbf, gamma=1.0, C=1000.0 .................................\n",
      "[CV] .................. kernel=rbf, gamma=1.0, C=1000.0, total=  33.8s\n",
      "[CV] kernel=rbf, gamma=3.0, C=1000.0 .................................\n",
      "[CV] .................. kernel=rbf, gamma=1.0, C=1000.0, total=  32.4s\n",
      "[CV] kernel=rbf, gamma=3.0, C=1000.0 .................................\n",
      "[CV] .................. kernel=rbf, gamma=1.0, C=1000.0, total=  30.8s\n",
      "[CV] kernel=rbf, gamma=3.0, C=1000.0 .................................\n",
      "[CV] .................. kernel=rbf, gamma=1.0, C=1000.0, total=  25.2s\n",
      "[CV] kernel=rbf, gamma=3.0, C=1000.0 .................................\n",
      "[CV] .................. kernel=rbf, gamma=3.0, C=1000.0, total=  41.4s\n",
      "[CV] kernel=rbf, gamma=3.0, C=1000.0 .................................\n",
      "[CV] .................. kernel=rbf, gamma=3.0, C=1000.0, total=  42.9s\n",
      "[CV] .................. kernel=rbf, gamma=3.0, C=1000.0, total=  43.9s\n",
      "[CV] .................. kernel=rbf, gamma=3.0, C=1000.0, total=  41.4s\n",
      "[CV] .................. kernel=rbf, gamma=3.0, C=1000.0, total=  17.8s\n"
     ]
    },
    {
     "name": "stderr",
     "output_type": "stream",
     "text": [
      "[Parallel(n_jobs=4)]: Done 125 out of 125 | elapsed: 24.3min finished\n"
     ]
    },
    {
     "data": {
      "text/plain": [
       "GridSearchCV(cv=5, error_score='raise',\n",
       "       estimator=SVR(C=1.0, cache_size=200, coef0=0.0, degree=3, epsilon=0.1, gamma='auto',\n",
       "  kernel='rbf', max_iter=-1, shrinking=True, tol=0.001, verbose=False),\n",
       "       fit_params=None, iid=True, n_jobs=4,\n",
       "       param_grid=[{'kernel': ['linear'], 'C': [1000.0, 3000.0, 10000.0, 30000.0]}, {'kernel': ['rbf'], 'gamma': [0.3, 1.0, 3.0], 'C': [1.0, 3.0, 10.0, 30.0, 100.0, 300.0, 1000.0]}],\n",
       "       pre_dispatch='2*n_jobs', refit=True, return_train_score='warn',\n",
       "       scoring='neg_mean_squared_error', verbose=2)"
      ]
     },
     "execution_count": 89,
     "metadata": {},
     "output_type": "execute_result"
    }
   ],
   "source": [
    "from sklearn.model_selection import GridSearchCV\n",
    "from sklearn.svm import SVR\n",
    "\n",
    "param_grid = [\n",
    "        {'kernel': ['linear'], 'C': [1000., 3000., 10000., 30000.0]},\n",
    "        {'kernel': ['rbf'], 'C': [1.0, 3.0, 10., 30., 100., 300., 1000.0],\n",
    "         'gamma': [0.3, 1.0, 3.0]},\n",
    "    ]\n",
    "\n",
    "svm_reg = SVR()\n",
    "grid_search = GridSearchCV(svm_reg, param_grid, cv=5, scoring='neg_mean_squared_error', verbose=2, n_jobs=4)\n",
    "grid_search.fit(housing_prepared, housing_labels)"
   ]
  },
  {
   "cell_type": "code",
   "execution_count": 90,
   "metadata": {
    "collapsed": false
   },
   "outputs": [
    {
     "data": {
      "text/plain": [
       "70363.90313964167"
      ]
     },
     "execution_count": 90,
     "metadata": {},
     "output_type": "execute_result"
    }
   ],
   "source": [
    "negative_mse = grid_search.best_score_\n",
    "rmse = np.sqrt(-negative_mse)\n",
    "rmse"
   ]
  },
  {
   "cell_type": "code",
   "execution_count": 91,
   "metadata": {
    "collapsed": false
   },
   "outputs": [
    {
     "data": {
      "text/plain": [
       "{'C': 30000.0, 'kernel': 'linear'}"
      ]
     },
     "execution_count": 91,
     "metadata": {},
     "output_type": "execute_result"
    }
   ],
   "source": [
    "grid_search.best_params_"
   ]
  },
  {
   "cell_type": "markdown",
   "metadata": {},
   "source": [
    "Question: Try replacing GridSearchCV with RandomizedSearchCV."
   ]
  },
  {
   "cell_type": "code",
   "execution_count": 92,
   "metadata": {
    "collapsed": false
   },
   "outputs": [
    {
     "name": "stdout",
     "output_type": "stream",
     "text": [
      "Fitting 5 folds for each of 50 candidates, totalling 250 fits\n",
      "[CV] kernel=linear, gamma=3.010121430917521, C=629.782329591372 ......\n",
      "[CV] kernel=linear, gamma=3.010121430917521, C=629.782329591372 ......\n",
      "[CV] kernel=linear, gamma=3.010121430917521, C=629.782329591372 ......\n",
      "[CV] kernel=linear, gamma=3.010121430917521, C=629.782329591372 ......\n",
      "[CV]  kernel=linear, gamma=3.010121430917521, C=629.782329591372, total=  36.3s\n",
      "[CV]  kernel=linear, gamma=3.010121430917521, C=629.782329591372, total=  36.3s\n",
      "[CV] kernel=linear, gamma=3.010121430917521, C=629.782329591372 ......\n",
      "[CV] kernel=rbf, gamma=0.9084469696321253, C=26290.206464300216 ......\n",
      "[CV]  kernel=linear, gamma=3.010121430917521, C=629.782329591372, total=  36.3s\n",
      "[CV]  kernel=linear, gamma=3.010121430917521, C=629.782329591372, total=  36.3s\n",
      "[CV] kernel=rbf, gamma=0.9084469696321253, C=26290.206464300216 ......\n",
      "[CV] kernel=rbf, gamma=0.9084469696321253, C=26290.206464300216 ......\n",
      "[CV]  kernel=linear, gamma=3.010121430917521, C=629.782329591372, total=  18.7s\n",
      "[CV] kernel=rbf, gamma=0.9084469696321253, C=26290.206464300216 ......\n",
      "[CV]  kernel=rbf, gamma=0.9084469696321253, C=26290.206464300216, total=  30.7s\n",
      "[CV] kernel=rbf, gamma=0.9084469696321253, C=26290.206464300216 ......\n",
      "[CV]  kernel=rbf, gamma=0.9084469696321253, C=26290.206464300216, total=  31.7s\n",
      "[CV] kernel=rbf, gamma=0.059838768608680676, C=84.14107900575871 .....\n",
      "[CV]  kernel=rbf, gamma=0.9084469696321253, C=26290.206464300216, total=  32.8s\n",
      "[CV] kernel=rbf, gamma=0.059838768608680676, C=84.14107900575871 .....\n",
      "[CV]  kernel=rbf, gamma=0.9084469696321253, C=26290.206464300216, total=  31.5s\n",
      "[CV] kernel=rbf, gamma=0.059838768608680676, C=84.14107900575871 .....\n",
      "[CV]  kernel=rbf, gamma=0.059838768608680676, C=84.14107900575871, total=  24.1s\n",
      "[CV] kernel=rbf, gamma=0.059838768608680676, C=84.14107900575871 .....\n",
      "[CV]  kernel=rbf, gamma=0.059838768608680676, C=84.14107900575871, total=  24.0s\n",
      "[CV] kernel=rbf, gamma=0.059838768608680676, C=84.14107900575871 .....\n",
      "[CV]  kernel=rbf, gamma=0.9084469696321253, C=26290.206464300216, total=  31.0s\n",
      "[CV] kernel=linear, gamma=0.15416196746656105, C=432.37884813148855 ..\n",
      "[CV]  kernel=rbf, gamma=0.059838768608680676, C=84.14107900575871, total=  25.6s\n",
      "[CV] kernel=linear, gamma=0.15416196746656105, C=432.37884813148855 ..\n",
      "[CV]  kernel=linear, gamma=0.15416196746656105, C=432.37884813148855, total=  17.5s\n",
      "[CV] kernel=linear, gamma=0.15416196746656105, C=432.37884813148855 ..\n",
      "[CV]  kernel=rbf, gamma=0.059838768608680676, C=84.14107900575871, total=  24.9s\n",
      "[CV] kernel=linear, gamma=0.15416196746656105, C=432.37884813148855 ..\n",
      "[CV]  kernel=rbf, gamma=0.059838768608680676, C=84.14107900575871, total=  24.7s\n",
      "[CV] kernel=linear, gamma=0.15416196746656105, C=432.37884813148855 ..\n",
      "[CV]  kernel=linear, gamma=0.15416196746656105, C=432.37884813148855, total=  18.6s\n",
      "[CV] kernel=rbf, gamma=3.503557475158312, C=24.17508294611391 ........\n",
      "[CV]  kernel=linear, gamma=0.15416196746656105, C=432.37884813148855, total=  20.3s\n",
      "[CV] kernel=rbf, gamma=3.503557475158312, C=24.17508294611391 ........\n",
      "[CV]  kernel=linear, gamma=0.15416196746656105, C=432.37884813148855, total=  19.7s\n",
      "[CV] kernel=rbf, gamma=3.503557475158312, C=24.17508294611391 ........\n",
      "[CV]  kernel=linear, gamma=0.15416196746656105, C=432.37884813148855, total=  19.8s\n",
      "[CV] kernel=rbf, gamma=3.503557475158312, C=24.17508294611391 ........\n",
      "[CV]  kernel=rbf, gamma=3.503557475158312, C=24.17508294611391, total=  26.8s\n",
      "[CV] kernel=rbf, gamma=3.503557475158312, C=24.17508294611391 ........\n",
      "[CV]  kernel=rbf, gamma=3.503557475158312, C=24.17508294611391, total=  25.6s\n",
      "[CV] kernel=rbf, gamma=0.0007790692366582295, C=113564.03940586245 ...\n",
      "[CV]  kernel=rbf, gamma=3.503557475158312, C=24.17508294611391, total=  26.1s\n",
      "[CV] kernel=rbf, gamma=0.0007790692366582295, C=113564.03940586245 ...\n",
      "[CV]  kernel=rbf, gamma=3.503557475158312, C=24.17508294611391, total=  25.8s\n",
      "[CV] kernel=rbf, gamma=0.0007790692366582295, C=113564.03940586245 ...\n",
      "[CV]  kernel=rbf, gamma=3.503557475158312, C=24.17508294611391, total=  26.6s\n",
      "[CV] kernel=rbf, gamma=0.0007790692366582295, C=113564.03940586245 ...\n",
      "[CV]  kernel=rbf, gamma=0.0007790692366582295, C=113564.03940586245, total=  22.3s\n",
      "[CV] kernel=rbf, gamma=0.0007790692366582295, C=113564.03940586245 ...\n",
      "[CV]  kernel=rbf, gamma=0.0007790692366582295, C=113564.03940586245, total=  22.6s\n",
      "[CV] kernel=rbf, gamma=0.3627537294604771, C=108.30488238805073 ......\n",
      "[CV]  kernel=rbf, gamma=0.0007790692366582295, C=113564.03940586245, total=  22.7s\n",
      "[CV] kernel=rbf, gamma=0.3627537294604771, C=108.30488238805073 ......\n",
      "[CV]  kernel=rbf, gamma=0.0007790692366582295, C=113564.03940586245, total=  21.9s\n",
      "[CV] kernel=rbf, gamma=0.3627537294604771, C=108.30488238805073 ......\n",
      "[CV]  kernel=rbf, gamma=0.0007790692366582295, C=113564.03940586245, total=  21.5s\n",
      "[CV] kernel=rbf, gamma=0.3627537294604771, C=108.30488238805073 ......\n",
      "[CV]  kernel=rbf, gamma=0.3627537294604771, C=108.30488238805073, total=  22.0s\n",
      "[CV] kernel=rbf, gamma=0.3627537294604771, C=108.30488238805073 ......\n",
      "[CV]  kernel=rbf, gamma=0.3627537294604771, C=108.30488238805073, total=  21.9s\n",
      "[CV] kernel=linear, gamma=0.023332523598323388, C=21.344953672647435 .\n",
      "[CV]  kernel=linear, gamma=0.023332523598323388, C=21.344953672647435, total=  15.5s\n",
      "[CV] kernel=linear, gamma=0.023332523598323388, C=21.344953672647435 .\n"
     ]
    },
    {
     "name": "stderr",
     "output_type": "stream",
     "text": [
      "[Parallel(n_jobs=4)]: Done  33 tasks      | elapsed:  5.5min\n"
     ]
    },
    {
     "name": "stdout",
     "output_type": "stream",
     "text": [
      "[CV]  kernel=rbf, gamma=0.3627537294604771, C=108.30488238805073, total=  22.1s\n",
      "[CV] kernel=linear, gamma=0.023332523598323388, C=21.344953672647435 .\n",
      "[CV]  kernel=rbf, gamma=0.3627537294604771, C=108.30488238805073, total=  22.0s\n",
      "[CV] kernel=linear, gamma=0.023332523598323388, C=21.344953672647435 .\n",
      "[CV]  kernel=rbf, gamma=0.3627537294604771, C=108.30488238805073, total=  21.5s\n",
      "[CV] kernel=linear, gamma=0.023332523598323388, C=21.344953672647435 .\n",
      "[CV]  kernel=linear, gamma=0.023332523598323388, C=21.344953672647435, total=  18.1s\n",
      "[CV] kernel=rbf, gamma=0.15023452872733867, C=5603.270317432516 ......\n",
      "[CV]  kernel=linear, gamma=0.023332523598323388, C=21.344953672647435, total=  17.7s\n",
      "[CV] kernel=rbf, gamma=0.15023452872733867, C=5603.270317432516 ......\n",
      "[CV]  kernel=linear, gamma=0.023332523598323388, C=21.344953672647435, total=  17.3s\n",
      "[CV] kernel=rbf, gamma=0.15023452872733867, C=5603.270317432516 ......\n",
      "[CV]  kernel=linear, gamma=0.023332523598323388, C=21.344953672647435, total=  17.5s\n",
      "[CV] kernel=rbf, gamma=0.15023452872733867, C=5603.270317432516 ......\n",
      "[CV]  kernel=rbf, gamma=0.15023452872733867, C=5603.270317432516, total=  21.7s\n",
      "[CV] kernel=rbf, gamma=0.15023452872733867, C=5603.270317432516 ......\n",
      "[CV]  kernel=rbf, gamma=0.15023452872733867, C=5603.270317432516, total=  21.4s\n",
      "[CV] kernel=rbf, gamma=0.26497040005002437, C=157055.10989448498 .....\n",
      "[CV]  kernel=rbf, gamma=0.15023452872733867, C=5603.270317432516, total=  21.2s\n",
      "[CV] kernel=rbf, gamma=0.26497040005002437, C=157055.10989448498 .....\n",
      "[CV]  kernel=rbf, gamma=0.15023452872733867, C=5603.270317432516, total=  20.4s\n",
      "[CV] kernel=rbf, gamma=0.26497040005002437, C=157055.10989448498 .....\n",
      "[CV]  kernel=rbf, gamma=0.15023452872733867, C=5603.270317432516, total=  21.3s\n",
      "[CV] kernel=rbf, gamma=0.26497040005002437, C=157055.10989448498 .....\n",
      "[CV]  kernel=rbf, gamma=0.26497040005002437, C=157055.10989448498, total=  56.2s\n",
      "[CV] kernel=rbf, gamma=0.26497040005002437, C=157055.10989448498 .....\n",
      "[CV]  kernel=rbf, gamma=0.26497040005002437, C=157055.10989448498, total=  59.8s\n",
      "[CV] kernel=linear, gamma=0.2227358621286903, C=27652.464358739708 ...\n",
      "[CV]  kernel=rbf, gamma=0.26497040005002437, C=157055.10989448498, total= 1.2min\n",
      "[CV] kernel=linear, gamma=0.2227358621286903, C=27652.464358739708 ...\n",
      "[CV]  kernel=rbf, gamma=0.26497040005002437, C=157055.10989448498, total=  55.3s\n",
      "[CV] kernel=linear, gamma=0.2227358621286903, C=27652.464358739708 ...\n",
      "[CV]  kernel=linear, gamma=0.2227358621286903, C=27652.464358739708, total=  30.2s\n",
      "[CV] kernel=linear, gamma=0.2227358621286903, C=27652.464358739708 ...\n",
      "[CV]  kernel=linear, gamma=0.2227358621286903, C=27652.464358739708, total=  32.5s\n",
      "[CV] kernel=linear, gamma=0.2227358621286903, C=27652.464358739708 ...\n",
      "[CV]  kernel=linear, gamma=0.2227358621286903, C=27652.464358739708, total=  32.8s\n",
      "[CV] kernel=linear, gamma=0.628789100540856, C=171377.39570378003 ....\n",
      "[CV]  kernel=rbf, gamma=0.26497040005002437, C=157055.10989448498, total= 1.1min\n",
      "[CV] kernel=linear, gamma=0.628789100540856, C=171377.39570378003 ....\n",
      "[CV]  kernel=linear, gamma=0.2227358621286903, C=27652.464358739708, total=  30.0s\n",
      "[CV] kernel=linear, gamma=0.628789100540856, C=171377.39570378003 ....\n",
      "[CV]  kernel=linear, gamma=0.2227358621286903, C=27652.464358739708, total=  28.1s\n",
      "[CV] kernel=linear, gamma=0.628789100540856, C=171377.39570378003 ....\n",
      "[CV]  kernel=linear, gamma=0.628789100540856, C=171377.39570378003, total= 1.5min\n",
      "[CV] kernel=linear, gamma=0.628789100540856, C=171377.39570378003 ....\n",
      "[CV]  kernel=linear, gamma=0.628789100540856, C=171377.39570378003, total= 2.0min\n",
      "[CV] kernel=linear, gamma=0.18696125197741642, C=5385.293820172355 ...\n",
      "[CV]  kernel=linear, gamma=0.628789100540856, C=171377.39570378003, total= 1.9min\n",
      "[CV] kernel=linear, gamma=0.18696125197741642, C=5385.293820172355 ...\n",
      "[CV]  kernel=linear, gamma=0.628789100540856, C=171377.39570378003, total= 1.7min\n",
      "[CV] kernel=linear, gamma=0.18696125197741642, C=5385.293820172355 ...\n",
      "[CV]  kernel=linear, gamma=0.18696125197741642, C=5385.293820172355, total=  21.3s\n",
      "[CV] kernel=linear, gamma=0.18696125197741642, C=5385.293820172355 ...\n",
      "[CV]  kernel=linear, gamma=0.18696125197741642, C=5385.293820172355, total=10.4min\n",
      "[CV] kernel=linear, gamma=0.18696125197741642, C=5385.293820172355 ...\n",
      "[CV]  kernel=linear, gamma=0.18696125197741642, C=5385.293820172355, total=10.5min\n",
      "[CV] kernel=rbf, gamma=2.850796878935603, C=22.59903216621323 ........\n",
      "[CV]  kernel=linear, gamma=0.18696125197741642, C=5385.293820172355, total=  27.7s\n",
      "[CV] kernel=rbf, gamma=2.850796878935603, C=22.59903216621323 ........\n",
      "[CV]  kernel=linear, gamma=0.18696125197741642, C=5385.293820172355, total=  25.9s\n",
      "[CV] kernel=rbf, gamma=2.850796878935603, C=22.59903216621323 ........\n",
      "[CV]  kernel=rbf, gamma=2.850796878935603, C=22.59903216621323, total=  33.9s\n",
      "[CV] kernel=rbf, gamma=2.850796878935603, C=22.59903216621323 ........\n",
      "[CV]  kernel=linear, gamma=0.628789100540856, C=171377.39570378003, total=11.9min\n",
      "[CV] kernel=rbf, gamma=2.850796878935603, C=22.59903216621323 ........\n",
      "[CV]  kernel=rbf, gamma=2.850796878935603, C=22.59903216621323, total=  39.2s\n",
      "[CV] kernel=linear, gamma=0.3632878599687583, C=34246.75194632794 ....\n",
      "[CV]  kernel=rbf, gamma=2.850796878935603, C=22.59903216621323, total=  40.9s\n",
      "[CV] kernel=linear, gamma=0.3632878599687583, C=34246.75194632794 ....\n",
      "[CV]  kernel=rbf, gamma=2.850796878935603, C=22.59903216621323, total=  41.3s\n",
      "[CV] kernel=linear, gamma=0.3632878599687583, C=34246.75194632794 ....\n",
      "[CV]  kernel=rbf, gamma=2.850796878935603, C=22.59903216621323, total=  40.8s\n",
      "[CV] kernel=linear, gamma=0.3632878599687583, C=34246.75194632794 ....\n",
      "[CV]  kernel=linear, gamma=0.3632878599687583, C=34246.75194632794, total=  41.8s\n",
      "[CV] kernel=linear, gamma=0.3632878599687583, C=34246.75194632794 ....\n",
      "[CV]  kernel=linear, gamma=0.3632878599687583, C=34246.75194632794, total=  41.0s\n",
      "[CV] kernel=rbf, gamma=0.2757870542258224, C=167.7278956080511 .......\n",
      "[CV]  kernel=linear, gamma=0.3632878599687583, C=34246.75194632794, total=  44.6s\n",
      "[CV] kernel=rbf, gamma=0.2757870542258224, C=167.7278956080511 .......\n",
      "[CV]  kernel=linear, gamma=0.3632878599687583, C=34246.75194632794, total=  44.2s\n",
      "[CV] kernel=rbf, gamma=0.2757870542258224, C=167.7278956080511 .......\n",
      "[CV]  kernel=rbf, gamma=0.2757870542258224, C=167.7278956080511, total=  29.4s\n",
      "[CV] kernel=rbf, gamma=0.2757870542258224, C=167.7278956080511 .......\n",
      "[CV]  kernel=linear, gamma=0.3632878599687583, C=34246.75194632794, total=  42.5s\n",
      "[CV] kernel=rbf, gamma=0.2757870542258224, C=167.7278956080511 .......\n",
      "[CV]  kernel=rbf, gamma=0.2757870542258224, C=167.7278956080511, total=  26.8s\n",
      "[CV] kernel=linear, gamma=0.6835472281341501, C=61.54360542501371 ....\n",
      "[CV]  kernel=rbf, gamma=0.2757870542258224, C=167.7278956080511, total=  26.3s\n",
      "[CV] kernel=linear, gamma=0.6835472281341501, C=61.54360542501371 ....\n",
      "[CV]  kernel=rbf, gamma=0.2757870542258224, C=167.7278956080511, total=  23.6s\n",
      "[CV] kernel=linear, gamma=0.6835472281341501, C=61.54360542501371 ....\n",
      "[CV]  kernel=rbf, gamma=0.2757870542258224, C=167.7278956080511, total=  21.8s\n",
      "[CV] kernel=linear, gamma=0.6835472281341501, C=61.54360542501371 ....\n",
      "[CV]  kernel=linear, gamma=0.6835472281341501, C=61.54360542501371, total=  16.5s\n",
      "[CV] kernel=linear, gamma=0.6835472281341501, C=61.54360542501371 ....\n",
      "[CV]  kernel=linear, gamma=0.6835472281341501, C=61.54360542501371, total=  16.0s\n",
      "[CV] kernel=rbf, gamma=0.4960365360493639, C=98.73897389920914 .......\n",
      "[CV]  kernel=linear, gamma=0.6835472281341501, C=61.54360542501371, total=  21.3s\n",
      "[CV] kernel=rbf, gamma=0.4960365360493639, C=98.73897389920914 .......\n",
      "[CV]  kernel=linear, gamma=0.6835472281341501, C=61.54360542501371, total=  21.8s\n",
      "[CV] kernel=rbf, gamma=0.4960365360493639, C=98.73897389920914 .......\n",
      "[CV]  kernel=linear, gamma=0.6835472281341501, C=61.54360542501371, total=  20.7s\n",
      "[CV] kernel=rbf, gamma=0.4960365360493639, C=98.73897389920914 .......\n",
      "[CV]  kernel=rbf, gamma=0.4960365360493639, C=98.73897389920914, total=  29.6s\n",
      "[CV] kernel=rbf, gamma=0.4960365360493639, C=98.73897389920914 .......\n",
      "[CV]  kernel=rbf, gamma=0.4960365360493639, C=98.73897389920914, total=  26.7s\n",
      "[CV] kernel=rbf, gamma=0.37354658165762367, C=8935.505635947808 ......\n",
      "[CV]  kernel=rbf, gamma=0.4960365360493639, C=98.73897389920914, total=  25.0s\n",
      "[CV] kernel=rbf, gamma=0.37354658165762367, C=8935.505635947808 ......\n",
      "[CV]  kernel=rbf, gamma=0.4960365360493639, C=98.73897389920914, total=  24.5s\n",
      "[CV] kernel=rbf, gamma=0.37354658165762367, C=8935.505635947808 ......\n",
      "[CV]  kernel=rbf, gamma=0.4960365360493639, C=98.73897389920914, total=  24.5s\n",
      "[CV] kernel=rbf, gamma=0.37354658165762367, C=8935.505635947808 ......\n",
      "[CV]  kernel=rbf, gamma=0.37354658165762367, C=8935.505635947808, total=  24.2s\n",
      "[CV] kernel=rbf, gamma=0.37354658165762367, C=8935.505635947808 ......\n",
      "[CV]  kernel=rbf, gamma=0.37354658165762367, C=8935.505635947808, total=  23.3s\n",
      "[CV] kernel=linear, gamma=0.838636245624803, C=135.76775824842434 ....\n",
      "[CV]  kernel=rbf, gamma=0.37354658165762367, C=8935.505635947808, total=  23.4s\n",
      "[CV] kernel=linear, gamma=0.838636245624803, C=135.76775824842434 ....\n",
      "[CV]  kernel=rbf, gamma=0.37354658165762367, C=8935.505635947808, total=  24.3s\n",
      "[CV] kernel=linear, gamma=0.838636245624803, C=135.76775824842434 ....\n",
      "[CV]  kernel=linear, gamma=0.838636245624803, C=135.76775824842434, total=  17.6s\n",
      "[CV] kernel=linear, gamma=0.838636245624803, C=135.76775824842434 ....\n",
      "[CV]  kernel=linear, gamma=0.838636245624803, C=135.76775824842434, total=  17.4s\n",
      "[CV] kernel=linear, gamma=0.838636245624803, C=135.76775824842434 ....\n",
      "[CV]  kernel=rbf, gamma=0.37354658165762367, C=8935.505635947808, total=  24.5s\n",
      "[CV] kernel=rbf, gamma=1.4922453771381408, C=151136.20282548846 ......\n",
      "[CV]  kernel=linear, gamma=0.838636245624803, C=135.76775824842434, total=  17.9s\n",
      "[CV] kernel=rbf, gamma=1.4922453771381408, C=151136.20282548846 ......\n",
      "[CV]  kernel=linear, gamma=0.838636245624803, C=135.76775824842434, total=  18.5s\n",
      "[CV] kernel=rbf, gamma=1.4922453771381408, C=151136.20282548846 ......\n",
      "[CV]  kernel=linear, gamma=0.838636245624803, C=135.76775824842434, total=  18.1s\n",
      "[CV] kernel=rbf, gamma=1.4922453771381408, C=151136.20282548846 ......\n",
      "[CV]  kernel=rbf, gamma=1.4922453771381408, C=151136.20282548846, total= 4.1min\n",
      "[CV] kernel=rbf, gamma=1.4922453771381408, C=151136.20282548846 ......\n",
      "[CV]  kernel=rbf, gamma=1.4922453771381408, C=151136.20282548846, total= 4.3min\n",
      "[CV] kernel=linear, gamma=2.6126336514161914, C=761.4316758498783 ....\n",
      "[CV]  kernel=linear, gamma=2.6126336514161914, C=761.4316758498783, total=  16.1s\n",
      "[CV] kernel=linear, gamma=2.6126336514161914, C=761.4316758498783 ....\n",
      "[CV]  kernel=linear, gamma=2.6126336514161914, C=761.4316758498783, total=  16.9s\n",
      "[CV] kernel=linear, gamma=2.6126336514161914, C=761.4316758498783 ....\n",
      "[CV]  kernel=rbf, gamma=1.4922453771381408, C=151136.20282548846, total= 5.1min\n",
      "[CV] kernel=linear, gamma=2.6126336514161914, C=761.4316758498783 ....\n",
      "[CV]  kernel=linear, gamma=2.6126336514161914, C=761.4316758498783, total=  16.6s\n",
      "[CV] kernel=linear, gamma=2.6126336514161914, C=761.4316758498783 ....\n",
      "[CV]  kernel=rbf, gamma=1.4922453771381408, C=151136.20282548846, total= 5.8min\n",
      "[CV] kernel=linear, gamma=0.09265545895311562, C=97392.81883041795 ...\n",
      "[CV]  kernel=linear, gamma=2.6126336514161914, C=761.4316758498783, total=  17.5s\n",
      "[CV] kernel=linear, gamma=0.09265545895311562, C=97392.81883041795 ...\n",
      "[CV]  kernel=linear, gamma=2.6126336514161914, C=761.4316758498783, total=  17.9s\n",
      "[CV] kernel=linear, gamma=0.09265545895311562, C=97392.81883041795 ...\n",
      "[CV]  kernel=linear, gamma=0.09265545895311562, C=97392.81883041795, total= 1.2min\n",
      "[CV] kernel=linear, gamma=0.09265545895311562, C=97392.81883041795 ...\n",
      "[CV]  kernel=linear, gamma=0.09265545895311562, C=97392.81883041795, total= 1.2min\n",
      "[CV] kernel=linear, gamma=0.09265545895311562, C=97392.81883041795 ...\n",
      "[CV]  kernel=linear, gamma=0.09265545895311562, C=97392.81883041795, total= 2.1min\n",
      "[CV] kernel=linear, gamma=3.248614270240346, C=2423.0759984939164 ....\n",
      "[CV]  kernel=linear, gamma=0.09265545895311562, C=97392.81883041795, total= 3.2min\n",
      "[CV] kernel=linear, gamma=3.248614270240346, C=2423.0759984939164 ....\n",
      "[CV]  kernel=linear, gamma=0.09265545895311562, C=97392.81883041795, total= 2.4min\n",
      "[CV] kernel=linear, gamma=3.248614270240346, C=2423.0759984939164 ....\n",
      "[CV]  kernel=linear, gamma=3.248614270240346, C=2423.0759984939164, total=  29.5s\n",
      "[CV] kernel=linear, gamma=3.248614270240346, C=2423.0759984939164 ....\n",
      "[CV]  kernel=linear, gamma=3.248614270240346, C=2423.0759984939164, total=  29.8s\n",
      "[CV] kernel=linear, gamma=3.248614270240346, C=2423.0759984939164 ....\n",
      "[CV]  kernel=linear, gamma=3.248614270240346, C=2423.0759984939164, total=  37.4s\n",
      "[CV] kernel=linear, gamma=0.3165604432088257, C=717.3632997255095 ....\n",
      "[CV]  kernel=linear, gamma=3.248614270240346, C=2423.0759984939164, total=  33.9s\n",
      "[CV] kernel=linear, gamma=0.3165604432088257, C=717.3632997255095 ....\n",
      "[CV]  kernel=linear, gamma=3.248614270240346, C=2423.0759984939164, total=  35.6s\n",
      "[CV] kernel=linear, gamma=0.3165604432088257, C=717.3632997255095 ....\n",
      "[CV]  kernel=linear, gamma=0.3165604432088257, C=717.3632997255095, total=  25.3s\n",
      "[CV] kernel=linear, gamma=0.3165604432088257, C=717.3632997255095 ....\n",
      "[CV]  kernel=rbf, gamma=1.4922453771381408, C=151136.20282548846, total= 6.8min\n",
      "[CV] kernel=linear, gamma=0.3165604432088257, C=717.3632997255095 ....\n",
      "[CV]  kernel=linear, gamma=0.3165604432088257, C=717.3632997255095, total=  23.9s\n",
      "[CV] kernel=rbf, gamma=3.3597284456608496, C=4446.667521184072 .......\n",
      "[CV]  kernel=linear, gamma=0.3165604432088257, C=717.3632997255095, total=  23.8s\n",
      "[CV] kernel=rbf, gamma=3.3597284456608496, C=4446.667521184072 .......\n",
      "[CV]  kernel=linear, gamma=0.3165604432088257, C=717.3632997255095, total=  25.7s\n",
      "[CV] kernel=rbf, gamma=3.3597284456608496, C=4446.667521184072 .......\n",
      "[CV]  kernel=linear, gamma=0.3165604432088257, C=717.3632997255095, total=  23.0s\n",
      "[CV] kernel=rbf, gamma=3.3597284456608496, C=4446.667521184072 .......\n",
      "[CV]  kernel=rbf, gamma=3.3597284456608496, C=4446.667521184072, total=  32.3s\n",
      "[CV] kernel=rbf, gamma=3.3597284456608496, C=4446.667521184072 .......\n",
      "[CV]  kernel=rbf, gamma=3.3597284456608496, C=4446.667521184072, total=  32.3s\n",
      "[CV] kernel=linear, gamma=0.15189814782062885, C=2963.564121207815 ...\n",
      "[CV]  kernel=rbf, gamma=3.3597284456608496, C=4446.667521184072, total=  30.6s\n",
      "[CV] kernel=linear, gamma=0.15189814782062885, C=2963.564121207815 ...\n",
      "[CV]  kernel=rbf, gamma=3.3597284456608496, C=4446.667521184072, total=  30.9s\n",
      "[CV] kernel=linear, gamma=0.15189814782062885, C=2963.564121207815 ...\n",
      "[CV]  kernel=linear, gamma=0.15189814782062885, C=2963.564121207815, total=  21.4s\n",
      "[CV] kernel=linear, gamma=0.15189814782062885, C=2963.564121207815 ...\n",
      "[CV]  kernel=linear, gamma=0.15189814782062885, C=2963.564121207815, total=  22.3s\n",
      "[CV] kernel=linear, gamma=0.15189814782062885, C=2963.564121207815 ...\n",
      "[CV]  kernel=rbf, gamma=3.3597284456608496, C=4446.667521184072, total=  31.7s\n",
      "[CV] kernel=linear, gamma=0.01575994483585621, C=91.64267381686706 ...\n",
      "[CV]  kernel=linear, gamma=0.15189814782062885, C=2963.564121207815, total=  24.9s\n",
      "[CV] kernel=linear, gamma=0.01575994483585621, C=91.64267381686706 ...\n",
      "[CV]  kernel=linear, gamma=0.15189814782062885, C=2963.564121207815, total=  29.3s\n",
      "[CV] kernel=linear, gamma=0.01575994483585621, C=91.64267381686706 ...\n",
      "[CV]  kernel=linear, gamma=0.15189814782062885, C=2963.564121207815, total=  29.1s\n",
      "[CV] kernel=linear, gamma=0.01575994483585621, C=91.64267381686706 ...\n",
      "[CV]  kernel=linear, gamma=0.01575994483585621, C=91.64267381686706, total=  28.3s\n",
      "[CV] kernel=linear, gamma=0.01575994483585621, C=91.64267381686706 ...\n",
      "[CV]  kernel=linear, gamma=0.01575994483585621, C=91.64267381686706, total=  24.2s\n",
      "[CV] kernel=rbf, gamma=0.22153944050588595, C=24547.601975705915 .....\n",
      "[CV]  kernel=linear, gamma=0.01575994483585621, C=91.64267381686706, total=  24.9s\n",
      "[CV] kernel=rbf, gamma=0.22153944050588595, C=24547.601975705915 .....\n",
      "[CV]  kernel=linear, gamma=0.01575994483585621, C=91.64267381686706, total=  22.6s\n",
      "[CV] kernel=rbf, gamma=0.22153944050588595, C=24547.601975705915 .....\n",
      "[CV]  kernel=linear, gamma=0.01575994483585621, C=91.64267381686706, total=  20.6s\n",
      "[CV] kernel=rbf, gamma=0.22153944050588595, C=24547.601975705915 .....\n",
      "[CV]  kernel=rbf, gamma=0.22153944050588595, C=24547.601975705915, total=  27.8s\n",
      "[CV] kernel=rbf, gamma=0.22153944050588595, C=24547.601975705915 .....\n",
      "[CV]  kernel=rbf, gamma=0.22153944050588595, C=24547.601975705915, total=  27.0s\n",
      "[CV] kernel=rbf, gamma=0.22169760231351215, C=22.76927941060928 ......\n",
      "[CV]  kernel=rbf, gamma=0.22153944050588595, C=24547.601975705915, total=  26.0s\n",
      "[CV] kernel=rbf, gamma=0.22169760231351215, C=22.76927941060928 ......\n",
      "[CV]  kernel=rbf, gamma=0.22153944050588595, C=24547.601975705915, total=  25.5s\n",
      "[CV] kernel=rbf, gamma=0.22169760231351215, C=22.76927941060928 ......\n",
      "[CV]  kernel=rbf, gamma=0.22153944050588595, C=24547.601975705915, total=  25.8s\n",
      "[CV] kernel=rbf, gamma=0.22169760231351215, C=22.76927941060928 ......\n",
      "[CV]  kernel=rbf, gamma=0.22169760231351215, C=22.76927941060928, total=  25.7s\n",
      "[CV] kernel=rbf, gamma=0.22169760231351215, C=22.76927941060928 ......\n",
      "[CV]  kernel=rbf, gamma=0.22169760231351215, C=22.76927941060928, total=  25.7s\n",
      "[CV] kernel=linear, gamma=1.4752145260435134, C=16483.850529752886 ...\n",
      "[CV]  kernel=rbf, gamma=0.22169760231351215, C=22.76927941060928, total=  24.9s\n",
      "[CV] kernel=linear, gamma=1.4752145260435134, C=16483.850529752886 ...\n",
      "[CV]  kernel=rbf, gamma=0.22169760231351215, C=22.76927941060928, total=  25.2s\n",
      "[CV] kernel=linear, gamma=1.4752145260435134, C=16483.850529752886 ...\n",
      "[CV]  kernel=rbf, gamma=0.22169760231351215, C=22.76927941060928, total=  26.0s\n",
      "[CV] kernel=linear, gamma=1.4752145260435134, C=16483.850529752886 ...\n",
      "[CV]  kernel=linear, gamma=1.4752145260435134, C=16483.850529752886, total=  28.7s\n",
      "[CV] kernel=linear, gamma=1.4752145260435134, C=16483.850529752886 ...\n",
      "[CV]  kernel=linear, gamma=1.4752145260435134, C=16483.850529752886, total=  31.2s\n",
      "[CV] kernel=rbf, gamma=1.052904084582266, C=101445.66881340064 .......\n",
      "[CV]  kernel=linear, gamma=1.4752145260435134, C=16483.850529752886, total=  33.6s\n",
      "[CV] kernel=rbf, gamma=1.052904084582266, C=101445.66881340064 .......\n",
      "[CV]  kernel=linear, gamma=1.4752145260435134, C=16483.850529752886, total=  32.7s\n",
      "[CV] kernel=rbf, gamma=1.052904084582266, C=101445.66881340064 .......\n"
     ]
    },
    {
     "name": "stderr",
     "output_type": "stream",
     "text": [
      "[Parallel(n_jobs=4)]: Done 154 tasks      | elapsed: 45.1min\n"
     ]
    },
    {
     "name": "stdout",
     "output_type": "stream",
     "text": [
      "[CV]  kernel=linear, gamma=1.4752145260435134, C=16483.850529752886, total=  27.9s\n",
      "[CV] kernel=rbf, gamma=1.052904084582266, C=101445.66881340064 .......\n",
      "[CV]  kernel=rbf, gamma=1.052904084582266, C=101445.66881340064, total= 2.0min\n",
      "[CV] kernel=rbf, gamma=1.052904084582266, C=101445.66881340064 .......\n",
      "[CV]  kernel=rbf, gamma=1.052904084582266, C=101445.66881340064, total= 1.9min\n",
      "[CV] kernel=rbf, gamma=0.9763011917123741, C=56681.80859029545 .......\n",
      "[CV]  kernel=rbf, gamma=1.052904084582266, C=101445.66881340064, total= 2.5min\n",
      "[CV] kernel=rbf, gamma=0.9763011917123741, C=56681.80859029545 .......\n",
      "[CV]  kernel=rbf, gamma=1.052904084582266, C=101445.66881340064, total= 2.6min\n",
      "[CV] kernel=rbf, gamma=0.9763011917123741, C=56681.80859029545 .......\n",
      "[CV]  kernel=rbf, gamma=0.9763011917123741, C=56681.80859029545, total=  53.7s\n",
      "[CV] kernel=rbf, gamma=0.9763011917123741, C=56681.80859029545 .......\n",
      "[CV]  kernel=rbf, gamma=0.9763011917123741, C=56681.80859029545, total=  54.6s\n",
      "[CV] kernel=rbf, gamma=0.9763011917123741, C=56681.80859029545 .......\n",
      "[CV]  kernel=rbf, gamma=0.9763011917123741, C=56681.80859029545, total=  56.6s\n",
      "[CV] kernel=rbf, gamma=0.4633351167983427, C=48.15822390928914 .......\n",
      "[CV]  kernel=rbf, gamma=1.052904084582266, C=101445.66881340064, total= 2.3min\n",
      "[CV] kernel=rbf, gamma=0.4633351167983427, C=48.15822390928914 .......\n",
      "[CV]  kernel=rbf, gamma=0.9763011917123741, C=56681.80859029545, total= 1.1min\n",
      "[CV] kernel=rbf, gamma=0.4633351167983427, C=48.15822390928914 .......\n",
      "[CV]  kernel=rbf, gamma=0.4633351167983427, C=48.15822390928914, total=  25.8s\n",
      "[CV] kernel=rbf, gamma=0.4633351167983427, C=48.15822390928914 .......\n",
      "[CV]  kernel=rbf, gamma=0.4633351167983427, C=48.15822390928914, total=  25.3s\n",
      "[CV] kernel=rbf, gamma=0.4633351167983427, C=48.15822390928914 .......\n",
      "[CV]  kernel=rbf, gamma=0.4633351167983427, C=48.15822390928914, total=  24.6s\n",
      "[CV] kernel=rbf, gamma=1.3078757839577408, C=399.7268155705774 .......\n",
      "[CV]  kernel=rbf, gamma=0.9763011917123741, C=56681.80859029545, total=  56.1s\n",
      "[CV] kernel=rbf, gamma=1.3078757839577408, C=399.7268155705774 .......\n",
      "[CV]  kernel=rbf, gamma=0.4633351167983427, C=48.15822390928914, total=  25.0s\n",
      "[CV] kernel=rbf, gamma=1.3078757839577408, C=399.7268155705774 .......\n",
      "[CV]  kernel=rbf, gamma=0.4633351167983427, C=48.15822390928914, total=  25.1s\n",
      "[CV] kernel=rbf, gamma=1.3078757839577408, C=399.7268155705774 .......\n",
      "[CV]  kernel=rbf, gamma=1.3078757839577408, C=399.7268155705774, total=  25.9s\n",
      "[CV] kernel=rbf, gamma=1.3078757839577408, C=399.7268155705774 .......\n",
      "[CV]  kernel=rbf, gamma=1.3078757839577408, C=399.7268155705774, total=  26.4s\n",
      "[CV] kernel=linear, gamma=0.8238105204914145, C=251.14073886281363 ...\n",
      "[CV]  kernel=rbf, gamma=1.3078757839577408, C=399.7268155705774, total=  31.4s\n",
      "[CV] kernel=linear, gamma=0.8238105204914145, C=251.14073886281363 ...\n",
      "[CV]  kernel=linear, gamma=0.8238105204914145, C=251.14073886281363, total=  18.9s\n",
      "[CV] kernel=linear, gamma=0.8238105204914145, C=251.14073886281363 ...\n",
      "[CV]  kernel=rbf, gamma=1.3078757839577408, C=399.7268155705774, total=  28.7s\n",
      "[CV] kernel=linear, gamma=0.8238105204914145, C=251.14073886281363 ...\n",
      "[CV]  kernel=rbf, gamma=1.3078757839577408, C=399.7268155705774, total=  25.9s\n",
      "[CV] kernel=linear, gamma=0.8238105204914145, C=251.14073886281363 ...\n",
      "[CV]  kernel=linear, gamma=0.8238105204914145, C=251.14073886281363, total=  18.9s\n",
      "[CV] kernel=linear, gamma=1.2491263443165994, C=60.17373642891687 ....\n",
      "[CV]  kernel=linear, gamma=0.8238105204914145, C=251.14073886281363, total=  19.8s\n",
      "[CV] kernel=linear, gamma=1.2491263443165994, C=60.17373642891687 ....\n",
      "[CV]  kernel=linear, gamma=0.8238105204914145, C=251.14073886281363, total=  19.7s\n",
      "[CV] kernel=linear, gamma=1.2491263443165994, C=60.17373642891687 ....\n",
      "[CV]  kernel=linear, gamma=0.8238105204914145, C=251.14073886281363, total=  20.4s\n",
      "[CV] kernel=linear, gamma=1.2491263443165994, C=60.17373642891687 ....\n",
      "[CV]  kernel=linear, gamma=1.2491263443165994, C=60.17373642891687, total=  22.0s\n",
      "[CV] kernel=linear, gamma=1.2491263443165994, C=60.17373642891687 ....\n",
      "[CV]  kernel=linear, gamma=1.2491263443165994, C=60.17373642891687, total=  23.4s\n",
      "[CV] kernel=rbf, gamma=0.2691677514619319, C=15415.161544891856 ......\n",
      "[CV]  kernel=linear, gamma=1.2491263443165994, C=60.17373642891687, total=  23.0s\n",
      "[CV] kernel=rbf, gamma=0.2691677514619319, C=15415.161544891856 ......\n",
      "[CV]  kernel=linear, gamma=1.2491263443165994, C=60.17373642891687, total=  20.4s\n",
      "[CV] kernel=rbf, gamma=0.2691677514619319, C=15415.161544891856 ......\n",
      "[CV]  kernel=linear, gamma=1.2491263443165994, C=60.17373642891687, total=  19.2s\n",
      "[CV] kernel=rbf, gamma=0.2691677514619319, C=15415.161544891856 ......\n",
      "[CV]  kernel=rbf, gamma=0.2691677514619319, C=15415.161544891856, total=  26.5s\n",
      "[CV] kernel=rbf, gamma=0.2691677514619319, C=15415.161544891856 ......\n",
      "[CV]  kernel=rbf, gamma=0.2691677514619319, C=15415.161544891856, total=  26.2s\n",
      "[CV] kernel=linear, gamma=0.739678838777267, C=1888.9148509967113 ....\n",
      "[CV]  kernel=rbf, gamma=0.2691677514619319, C=15415.161544891856, total=  26.7s\n",
      "[CV] kernel=linear, gamma=0.739678838777267, C=1888.9148509967113 ....\n",
      "[CV]  kernel=rbf, gamma=0.2691677514619319, C=15415.161544891856, total=  29.2s\n",
      "[CV] kernel=linear, gamma=0.739678838777267, C=1888.9148509967113 ....\n",
      "[CV]  kernel=linear, gamma=0.739678838777267, C=1888.9148509967113, total=  20.0s\n",
      "[CV] kernel=linear, gamma=0.739678838777267, C=1888.9148509967113 ....\n",
      "[CV]  kernel=linear, gamma=0.739678838777267, C=1888.9148509967113, total=  20.6s\n",
      "[CV] kernel=linear, gamma=0.739678838777267, C=1888.9148509967113 ....\n",
      "[CV]  kernel=rbf, gamma=0.2691677514619319, C=15415.161544891856, total=  28.8s\n",
      "[CV] kernel=linear, gamma=0.578634378499143, C=55.53838911232773 .....\n",
      "[CV]  kernel=linear, gamma=0.739678838777267, C=1888.9148509967113, total=  19.7s\n",
      "[CV] kernel=linear, gamma=0.578634378499143, C=55.53838911232773 .....\n",
      "[CV]  kernel=linear, gamma=0.739678838777267, C=1888.9148509967113, total=  21.6s\n",
      "[CV] kernel=linear, gamma=0.578634378499143, C=55.53838911232773 .....\n",
      "[CV]  kernel=linear, gamma=0.578634378499143, C=55.53838911232773, total=  20.1s\n",
      "[CV] kernel=linear, gamma=0.578634378499143, C=55.53838911232773 .....\n",
      "[CV]  kernel=linear, gamma=0.739678838777267, C=1888.9148509967113, total=  21.4s\n",
      "[CV] kernel=linear, gamma=0.578634378499143, C=55.53838911232773 .....\n",
      "[CV]  kernel=linear, gamma=0.578634378499143, C=55.53838911232773, total=  19.5s\n",
      "[CV] kernel=rbf, gamma=1.0117295509275495, C=26.714480823948186 ......\n",
      "[CV]  kernel=linear, gamma=0.578634378499143, C=55.53838911232773, total=  20.8s\n",
      "[CV] kernel=rbf, gamma=1.0117295509275495, C=26.714480823948186 ......\n",
      "[CV]  kernel=linear, gamma=0.578634378499143, C=55.53838911232773, total=  25.8s\n",
      "[CV] kernel=rbf, gamma=1.0117295509275495, C=26.714480823948186 ......\n",
      "[CV]  kernel=linear, gamma=0.578634378499143, C=55.53838911232773, total=  25.9s\n",
      "[CV] kernel=rbf, gamma=1.0117295509275495, C=26.714480823948186 ......\n",
      "[CV]  kernel=rbf, gamma=1.0117295509275495, C=26.714480823948186, total=  40.5s\n",
      "[CV] kernel=rbf, gamma=1.0117295509275495, C=26.714480823948186 ......\n",
      "[CV]  kernel=rbf, gamma=1.0117295509275495, C=26.714480823948186, total=  39.9s\n",
      "[CV] kernel=linear, gamma=1.1891370222133257, C=3582.0552780489566 ...\n",
      "[CV]  kernel=rbf, gamma=1.0117295509275495, C=26.714480823948186, total=  34.9s\n",
      "[CV] kernel=linear, gamma=1.1891370222133257, C=3582.0552780489566 ...\n",
      "[CV]  kernel=rbf, gamma=1.0117295509275495, C=26.714480823948186, total=  34.7s\n",
      "[CV] kernel=linear, gamma=1.1891370222133257, C=3582.0552780489566 ...\n",
      "[CV]  kernel=rbf, gamma=1.0117295509275495, C=26.714480823948186, total=  27.9s\n",
      "[CV] kernel=linear, gamma=1.1891370222133257, C=3582.0552780489566 ...\n",
      "[CV]  kernel=linear, gamma=1.1891370222133257, C=3582.0552780489566, total=  22.2s\n",
      "[CV] kernel=linear, gamma=1.1891370222133257, C=3582.0552780489566 ...\n",
      "[CV]  kernel=linear, gamma=1.1891370222133257, C=3582.0552780489566, total=  21.7s\n",
      "[CV] kernel=linear, gamma=0.5282819748826726, C=198.7004781812736 ....\n",
      "[CV]  kernel=linear, gamma=1.1891370222133257, C=3582.0552780489566, total=  22.3s\n",
      "[CV] kernel=linear, gamma=0.5282819748826726, C=198.7004781812736 ....\n",
      "[CV]  kernel=linear, gamma=1.1891370222133257, C=3582.0552780489566, total=  23.0s\n",
      "[CV] kernel=linear, gamma=0.5282819748826726, C=198.7004781812736 ....\n",
      "[CV]  kernel=linear, gamma=1.1891370222133257, C=3582.0552780489566, total=  22.5s\n",
      "[CV] kernel=linear, gamma=0.5282819748826726, C=198.7004781812736 ....\n",
      "[CV]  kernel=linear, gamma=0.5282819748826726, C=198.7004781812736, total=  20.6s\n",
      "[CV] kernel=linear, gamma=0.5282819748826726, C=198.7004781812736 ....\n",
      "[CV]  kernel=linear, gamma=0.5282819748826726, C=198.7004781812736, total=  20.5s\n",
      "[CV] kernel=linear, gamma=2.8621383676481322, C=129.8000604143307 ....\n",
      "[CV]  kernel=linear, gamma=0.5282819748826726, C=198.7004781812736, total=  23.5s\n",
      "[CV] kernel=linear, gamma=2.8621383676481322, C=129.8000604143307 ....\n",
      "[CV]  kernel=linear, gamma=0.5282819748826726, C=198.7004781812736, total=  28.5s\n",
      "[CV] kernel=linear, gamma=2.8621383676481322, C=129.8000604143307 ....\n",
      "[CV]  kernel=linear, gamma=0.5282819748826726, C=198.7004781812736, total=  28.7s\n",
      "[CV] kernel=linear, gamma=2.8621383676481322, C=129.8000604143307 ....\n",
      "[CV]  kernel=linear, gamma=2.8621383676481322, C=129.8000604143307, total=  29.6s\n",
      "[CV] kernel=linear, gamma=2.8621383676481322, C=129.8000604143307 ....\n",
      "[CV]  kernel=linear, gamma=2.8621383676481322, C=129.8000604143307, total=  29.5s\n",
      "[CV] kernel=rbf, gamma=0.17580835850006285, C=288.4269299593897 ......\n",
      "[CV]  kernel=linear, gamma=2.8621383676481322, C=129.8000604143307, total=  30.2s\n",
      "[CV] kernel=rbf, gamma=0.17580835850006285, C=288.4269299593897 ......\n",
      "[CV]  kernel=linear, gamma=2.8621383676481322, C=129.8000604143307, total=  28.1s\n",
      "[CV] kernel=rbf, gamma=0.17580835850006285, C=288.4269299593897 ......\n",
      "[CV]  kernel=linear, gamma=2.8621383676481322, C=129.8000604143307, total=  26.5s\n",
      "[CV] kernel=rbf, gamma=0.17580835850006285, C=288.4269299593897 ......\n",
      "[CV]  kernel=rbf, gamma=0.17580835850006285, C=288.4269299593897, total=  34.3s\n",
      "[CV] kernel=rbf, gamma=0.17580835850006285, C=288.4269299593897 ......\n",
      "[CV]  kernel=rbf, gamma=0.17580835850006285, C=288.4269299593897, total=  35.7s\n",
      "[CV] kernel=linear, gamma=0.3504567255332862, C=6287.039489427171 ....\n",
      "[CV]  kernel=rbf, gamma=0.17580835850006285, C=288.4269299593897, total=  36.4s\n",
      "[CV] kernel=linear, gamma=0.3504567255332862, C=6287.039489427171 ....\n",
      "[CV]  kernel=rbf, gamma=0.17580835850006285, C=288.4269299593897, total=  36.6s\n",
      "[CV] kernel=linear, gamma=0.3504567255332862, C=6287.039489427171 ....\n",
      "[CV]  kernel=linear, gamma=0.3504567255332862, C=6287.039489427171, total=  31.7s\n",
      "[CV] kernel=linear, gamma=0.3504567255332862, C=6287.039489427171 ....\n",
      "[CV]  kernel=rbf, gamma=0.17580835850006285, C=288.4269299593897, total=  35.1s\n",
      "[CV] kernel=linear, gamma=0.3504567255332862, C=6287.039489427171 ....\n",
      "[CV]  kernel=linear, gamma=0.3504567255332862, C=6287.039489427171, total=  30.6s\n",
      "[CV] kernel=rbf, gamma=1.6279689407405564, C=61217.04421344494 .......\n",
      "[CV]  kernel=linear, gamma=0.3504567255332862, C=6287.039489427171, total=  30.7s\n",
      "[CV] kernel=rbf, gamma=1.6279689407405564, C=61217.04421344494 .......\n",
      "[CV]  kernel=linear, gamma=0.3504567255332862, C=6287.039489427171, total=  30.4s\n",
      "[CV] kernel=rbf, gamma=1.6279689407405564, C=61217.04421344494 .......\n",
      "[CV]  kernel=linear, gamma=0.3504567255332862, C=6287.039489427171, total=  29.3s\n",
      "[CV] kernel=rbf, gamma=1.6279689407405564, C=61217.04421344494 .......\n",
      "[CV]  kernel=rbf, gamma=1.6279689407405564, C=61217.04421344494, total= 1.8min\n",
      "[CV] kernel=rbf, gamma=1.6279689407405564, C=61217.04421344494 .......\n",
      "[CV]  kernel=rbf, gamma=1.6279689407405564, C=61217.04421344494, total= 2.1min\n",
      "[CV] kernel=rbf, gamma=2.147979593060577, C=926.9787684096649 ........\n",
      "[CV]  kernel=rbf, gamma=1.6279689407405564, C=61217.04421344494, total= 1.9min\n",
      "[CV] kernel=rbf, gamma=2.147979593060577, C=926.9787684096649 ........\n",
      "[CV]  kernel=rbf, gamma=1.6279689407405564, C=61217.04421344494, total= 1.9min\n",
      "[CV] kernel=rbf, gamma=2.147979593060577, C=926.9787684096649 ........\n",
      "[CV]  kernel=rbf, gamma=2.147979593060577, C=926.9787684096649, total=  29.5s\n",
      "[CV] kernel=rbf, gamma=2.147979593060577, C=926.9787684096649 ........\n",
      "[CV]  kernel=rbf, gamma=2.147979593060577, C=926.9787684096649, total=  29.0s\n",
      "[CV] kernel=rbf, gamma=2.147979593060577, C=926.9787684096649 ........\n",
      "[CV]  kernel=rbf, gamma=2.147979593060577, C=926.9787684096649, total=  28.3s\n",
      "[CV] kernel=linear, gamma=2.2642426492862313, C=33946.157064934 ......\n",
      "[CV]  kernel=rbf, gamma=2.147979593060577, C=926.9787684096649, total=  23.3s\n",
      "[CV] kernel=linear, gamma=2.2642426492862313, C=33946.157064934 ......\n",
      "[CV]  kernel=rbf, gamma=1.6279689407405564, C=61217.04421344494, total= 1.6min\n",
      "[CV] kernel=linear, gamma=2.2642426492862313, C=33946.157064934 ......\n",
      "[CV]  kernel=rbf, gamma=2.147979593060577, C=926.9787684096649, total=  21.3s\n",
      "[CV] kernel=linear, gamma=2.2642426492862313, C=33946.157064934 ......\n",
      "[CV]  kernel=linear, gamma=2.2642426492862313, C=33946.157064934, total=  34.5s\n",
      "[CV] kernel=linear, gamma=2.2642426492862313, C=33946.157064934 ......\n",
      "[CV]  kernel=linear, gamma=2.2642426492862313, C=33946.157064934, total=  34.3s\n",
      "[CV] kernel=linear, gamma=0.3176359085304841, C=84789.82947739525 ....\n",
      "[CV]  kernel=linear, gamma=2.2642426492862313, C=33946.157064934, total=  31.8s\n",
      "[CV] kernel=linear, gamma=0.3176359085304841, C=84789.82947739525 ....\n",
      "[CV]  kernel=linear, gamma=2.2642426492862313, C=33946.157064934, total=  36.3s\n",
      "[CV] kernel=linear, gamma=0.3176359085304841, C=84789.82947739525 ....\n",
      "[CV]  kernel=linear, gamma=2.2642426492862313, C=33946.157064934, total=  37.3s\n",
      "[CV] kernel=linear, gamma=0.3176359085304841, C=84789.82947739525 ....\n",
      "[CV]  kernel=linear, gamma=0.3176359085304841, C=84789.82947739525, total= 1.4min\n",
      "[CV] kernel=linear, gamma=0.3176359085304841, C=84789.82947739525 ....\n",
      "[CV]  kernel=linear, gamma=0.3176359085304841, C=84789.82947739525, total= 2.0min\n",
      "[CV]  kernel=linear, gamma=0.3176359085304841, C=84789.82947739525, total= 1.5min\n",
      "[CV]  kernel=linear, gamma=0.3176359085304841, C=84789.82947739525, total= 2.1min\n",
      "[CV]  kernel=linear, gamma=0.3176359085304841, C=84789.82947739525, total=  58.4s\n"
     ]
    },
    {
     "name": "stderr",
     "output_type": "stream",
     "text": [
      "[Parallel(n_jobs=4)]: Done 250 out of 250 | elapsed: 67.1min finished\n"
     ]
    },
    {
     "data": {
      "text/plain": [
       "RandomizedSearchCV(cv=5, error_score='raise',\n",
       "          estimator=SVR(C=1.0, cache_size=200, coef0=0.0, degree=3, epsilon=0.1, gamma='auto',\n",
       "  kernel='rbf', max_iter=-1, shrinking=True, tol=0.001, verbose=False),\n",
       "          fit_params=None, iid=True, n_iter=50, n_jobs=4,\n",
       "          param_distributions={'kernel': ['linear', 'rbf'], 'gamma': <scipy.stats._distn_infrastructure.rv_frozen object at 0x121b44358>, 'C': <scipy.stats._distn_infrastructure.rv_frozen object at 0x121b448d0>},\n",
       "          pre_dispatch='2*n_jobs', random_state=42, refit=True,\n",
       "          return_train_score='warn', scoring='neg_mean_squared_error',\n",
       "          verbose=2)"
      ]
     },
     "execution_count": 92,
     "metadata": {},
     "output_type": "execute_result"
    }
   ],
   "source": [
    "from sklearn.model_selection import RandomizedSearchCV\n",
    "from scipy.stats import expon, reciprocal\n",
    "\n",
    "# see https://docs.scipy.org/doc/scipy-0.19.0/reference/stats.html\n",
    "# for `expon()` and `reciprocal()` documentation and more probability distribution functions.\n",
    "\n",
    "# Note: gamma is ignored when kernel is \"linear\"\n",
    "param_distribs = {\n",
    "        'kernel': ['linear', 'rbf'],\n",
    "        'C': reciprocal(20, 200000),\n",
    "        'gamma': expon(scale=1.0),\n",
    "    }\n",
    "\n",
    "svm_reg = SVR()\n",
    "rnd_search = RandomizedSearchCV(svm_reg, param_distributions=param_distribs,\n",
    "                                n_iter=50, cv=5, scoring='neg_mean_squared_error',\n",
    "                                verbose=2, n_jobs=4, random_state=42)\n",
    "rnd_search.fit(housing_prepared, housing_labels)"
   ]
  },
  {
   "cell_type": "code",
   "execution_count": 93,
   "metadata": {
    "collapsed": false
   },
   "outputs": [
    {
     "data": {
      "text/plain": [
       "54767.99053704408"
      ]
     },
     "execution_count": 93,
     "metadata": {},
     "output_type": "execute_result"
    }
   ],
   "source": [
    "negative_mse = rnd_search.best_score_\n",
    "rmse = np.sqrt(-negative_mse)\n",
    "rmse"
   ]
  },
  {
   "cell_type": "code",
   "execution_count": 94,
   "metadata": {
    "collapsed": false
   },
   "outputs": [
    {
     "data": {
      "text/plain": [
       "{'C': 157055.10989448498, 'gamma': 0.26497040005002437, 'kernel': 'rbf'}"
      ]
     },
     "execution_count": 94,
     "metadata": {},
     "output_type": "execute_result"
    }
   ],
   "source": [
    "rnd_search.best_params_"
   ]
  },
  {
   "cell_type": "markdown",
   "metadata": {},
   "source": [
    "Question: Try adding a transformer in the preparation pipeline to select only the most important attributes."
   ]
  },
  {
   "cell_type": "code",
   "execution_count": 95,
   "metadata": {
    "collapsed": true
   },
   "outputs": [],
   "source": [
    "from sklearn.base import BaseEstimator, TransformerMixin\n",
    "\n",
    "def indices_of_top_k(arr, k):\n",
    "    return np.sort(np.argpartition(np.array(arr), -k)[-k:])\n",
    "\n",
    "class TopFeatureSelector(BaseEstimator, TransformerMixin):\n",
    "    def __init__(self, feature_importances, k):\n",
    "        self.feature_importances = feature_importances\n",
    "        self.k = k\n",
    "    def fit(self, X, y=None):\n",
    "        self.feature_indices_ = indices_of_top_k(self.feature_importances, self.k)\n",
    "        return self\n",
    "    def transform(self, X):\n",
    "        return X[:, self.feature_indices_]"
   ]
  },
  {
   "cell_type": "code",
   "execution_count": 117,
   "metadata": {
    "collapsed": false
   },
   "outputs": [],
   "source": [
    "k = 7\n",
    "preparation_and_feature_selection_pipeline = Pipeline([\n",
    "    ('preparation', full_pipeline),\n",
    "    ('feature_selection', TopFeatureSelector(feature_importances, k))\n",
    "])"
   ]
  },
  {
   "cell_type": "code",
   "execution_count": 118,
   "metadata": {
    "collapsed": true
   },
   "outputs": [],
   "source": [
    "housing_prepared_top_k_features = preparation_and_feature_selection_pipeline.fit_transform(housing)"
   ]
  },
  {
   "cell_type": "code",
   "execution_count": 119,
   "metadata": {
    "collapsed": false
   },
   "outputs": [
    {
     "data": {
      "text/plain": [
       "array([[-1.15604281,  0.77194962, -0.61493744, -0.31205452, -0.08649871,\n",
       "         0.15531753,  0.        ],\n",
       "       [-1.17602483,  0.6596948 ,  1.33645936,  0.21768338, -0.03353391,\n",
       "        -0.83628902,  0.        ],\n",
       "       [ 1.18684903, -1.34218285, -0.5320456 , -0.46531516, -0.09240499,\n",
       "         0.4222004 ,  0.        ]])"
      ]
     },
     "execution_count": 119,
     "metadata": {},
     "output_type": "execute_result"
    }
   ],
   "source": [
    "housing_prepared_top_k_features[0:3]"
   ]
  },
  {
   "cell_type": "code",
   "execution_count": 120,
   "metadata": {
    "collapsed": false
   },
   "outputs": [
    {
     "data": {
      "text/plain": [
       "array([[-1.15604281,  0.77194962, -0.61493744, -0.31205452, -0.08649871,\n",
       "         0.15531753,  0.        ],\n",
       "       [-1.17602483,  0.6596948 ,  1.33645936,  0.21768338, -0.03353391,\n",
       "        -0.83628902,  0.        ],\n",
       "       [ 1.18684903, -1.34218285, -0.5320456 , -0.46531516, -0.09240499,\n",
       "         0.4222004 ,  0.        ]])"
      ]
     },
     "execution_count": 120,
     "metadata": {},
     "output_type": "execute_result"
    }
   ],
   "source": [
    "top_k_feature_indices = indices_of_top_k(feature_importances, k)\n",
    "housing_prepared[0:3, top_k_feature_indices]"
   ]
  },
  {
   "cell_type": "markdown",
   "metadata": {},
   "source": [
    "Question: Try creating a single pipeline that does the full data preparation plus the final prediction."
   ]
  },
  {
   "cell_type": "code",
   "execution_count": 121,
   "metadata": {
    "collapsed": false
   },
   "outputs": [],
   "source": [
    "prepare_select_and_predict_pipeline = Pipeline([\n",
    "    ('preparation', full_pipeline),\n",
    "    ('feature_selection', TopFeatureSelector(feature_importances, k)),\n",
    "    ('forest_reg', RandomForestRegressor(random_state=42, **forest_rnd_search.best_params_))\n",
    "])\n"
   ]
  },
  {
   "cell_type": "code",
   "execution_count": 122,
   "metadata": {
    "collapsed": false
   },
   "outputs": [
    {
     "data": {
      "text/plain": [
       "Pipeline(memory=None,\n",
       "     steps=[('preparation', FeatureUnion(n_jobs=1,\n",
       "       transformer_list=[('num_pipeline', Pipeline(memory=None,\n",
       "     steps=[('selector', DataFrameSelector(attribute_names=['longitude', 'latitude', 'housing_median_age', 'total_rooms', 'total_bedrooms', 'population', 'households', 'median_income'])), ('...stimators=180, n_jobs=1, oob_score=False, random_state=42,\n",
       "           verbose=0, warm_start=False))])"
      ]
     },
     "execution_count": 122,
     "metadata": {},
     "output_type": "execute_result"
    }
   ],
   "source": [
    "prepare_select_and_predict_pipeline.fit(housing, housing_labels)"
   ]
  },
  {
   "cell_type": "code",
   "execution_count": 125,
   "metadata": {
    "collapsed": false
   },
   "outputs": [
    {
     "name": "stdout",
     "output_type": "stream",
     "text": [
      "Predictions:\t [261700.         342976.11666667 211146.11666667  50361.11111111\n",
      " 231922.22222222 129411.66666667 496324.82222222 184175.00555556\n",
      "  97560.55555556 399925.17222222  94233.33333333  67628.88888889\n",
      " 323640.58888889  96743.33333333 132307.77777778 196318.88888889\n",
      " 453099.05        68935.55555556 124838.33333333 195891.66666667\n",
      " 269877.22222222 500001.         176448.33333333 117727.77777778\n",
      "  59101.62222222 129522.22222222 250075.55555556 107458.88888889\n",
      " 142933.33333333 459943.40555556]\n",
      "Labels:\t\t [286600.0, 340600.0, 196900.0, 46300.0, 254500.0, 127900.0, 500001.0, 140200.0, 95000.0, 500001.0, 92100.0, 61500.0, 313000.0, 89000.0, 123900.0, 197400.0, 500001.0, 63300.0, 107000.0, 184200.0, 280900.0, 500001.0, 171300.0, 116600.0, 60800.0, 121100.0, 270700.0, 109900.0, 159600.0, 500001.0]\n",
      "Root Mean Squared Error:\t 25057.67090741801\n"
     ]
    }
   ],
   "source": [
    "some_data = housing.iloc[:30]\n",
    "some_labels = housing_labels.iloc[:30]\n",
    "\n",
    "print(\"Predictions:\\t\", prepare_select_and_predict_pipeline.predict(some_data))\n",
    "print(\"Labels:\\t\\t\", list(some_labels))\n",
    "print(\"Root Mean Squared Error:\\t\", np.sqrt(mean_squared_error(prepare_select_and_predict_pipeline.predict(some_data), some_labels)))"
   ]
  },
  {
   "cell_type": "markdown",
   "metadata": {},
   "source": [
    "Question: Automatically explore some preparation options using GridSearchCV."
   ]
  },
  {
   "cell_type": "code",
   "execution_count": 126,
   "metadata": {
    "collapsed": false
   },
   "outputs": [
    {
     "name": "stdout",
     "output_type": "stream",
     "text": [
      "Fitting 5 folds for each of 12 candidates, totalling 60 fits\n",
      "[CV] feature_selection__k=7, preparation__num_pipeline__imputer__strategy=mean \n",
      "[CV] feature_selection__k=7, preparation__num_pipeline__imputer__strategy=mean \n",
      "[CV] feature_selection__k=7, preparation__num_pipeline__imputer__strategy=mean \n",
      "[CV] feature_selection__k=7, preparation__num_pipeline__imputer__strategy=mean \n",
      "[CV]  feature_selection__k=7, preparation__num_pipeline__imputer__strategy=mean, total=  31.7s\n",
      "[CV] feature_selection__k=7, preparation__num_pipeline__imputer__strategy=mean \n",
      "[CV]  feature_selection__k=7, preparation__num_pipeline__imputer__strategy=mean, total=  31.8s\n",
      "[CV]  feature_selection__k=7, preparation__num_pipeline__imputer__strategy=mean, total=  31.8s\n",
      "[CV] feature_selection__k=7, preparation__num_pipeline__imputer__strategy=median \n",
      "[CV]  feature_selection__k=7, preparation__num_pipeline__imputer__strategy=mean, total=  31.9s\n",
      "[CV] feature_selection__k=7, preparation__num_pipeline__imputer__strategy=median \n",
      "[CV] feature_selection__k=7, preparation__num_pipeline__imputer__strategy=median \n",
      "[CV]  feature_selection__k=7, preparation__num_pipeline__imputer__strategy=mean, total=  29.2s\n",
      "[CV] feature_selection__k=7, preparation__num_pipeline__imputer__strategy=median \n",
      "[CV]  feature_selection__k=7, preparation__num_pipeline__imputer__strategy=median, total=  29.1s\n",
      "[CV] feature_selection__k=7, preparation__num_pipeline__imputer__strategy=median \n",
      "[CV]  feature_selection__k=7, preparation__num_pipeline__imputer__strategy=median, total=  29.2s\n",
      "[CV] feature_selection__k=7, preparation__num_pipeline__imputer__strategy=most_frequent \n",
      "[CV]  feature_selection__k=7, preparation__num_pipeline__imputer__strategy=median, total=  29.3s\n",
      "[CV] feature_selection__k=7, preparation__num_pipeline__imputer__strategy=most_frequent \n",
      "[CV]  feature_selection__k=7, preparation__num_pipeline__imputer__strategy=median, total=  27.6s\n",
      "[CV] feature_selection__k=7, preparation__num_pipeline__imputer__strategy=most_frequent \n",
      "[CV]  feature_selection__k=7, preparation__num_pipeline__imputer__strategy=median, total=  27.9s\n",
      "[CV] feature_selection__k=7, preparation__num_pipeline__imputer__strategy=most_frequent \n",
      "[CV]  feature_selection__k=7, preparation__num_pipeline__imputer__strategy=most_frequent, total=  30.4s\n",
      "[CV] feature_selection__k=7, preparation__num_pipeline__imputer__strategy=most_frequent \n",
      "[CV]  feature_selection__k=7, preparation__num_pipeline__imputer__strategy=most_frequent, total=  30.2s\n",
      "[CV] feature_selection__k=8, preparation__num_pipeline__imputer__strategy=mean \n",
      "[CV]  feature_selection__k=8, preparation__num_pipeline__imputer__strategy=mean, total=  27.3s\n",
      "[CV]  feature_selection__k=7, preparation__num_pipeline__imputer__strategy=most_frequent, total=  30.3s\n",
      "[CV] feature_selection__k=8, preparation__num_pipeline__imputer__strategy=mean \n",
      "[CV] feature_selection__k=8, preparation__num_pipeline__imputer__strategy=mean \n",
      "[CV]  feature_selection__k=7, preparation__num_pipeline__imputer__strategy=most_frequent, total=  30.9s\n",
      "[CV] feature_selection__k=8, preparation__num_pipeline__imputer__strategy=mean \n",
      "[CV]  feature_selection__k=7, preparation__num_pipeline__imputer__strategy=most_frequent, total=  31.3s\n",
      "[CV] feature_selection__k=8, preparation__num_pipeline__imputer__strategy=mean \n",
      "[CV]  feature_selection__k=8, preparation__num_pipeline__imputer__strategy=mean, total=  27.4s\n",
      "[CV] feature_selection__k=8, preparation__num_pipeline__imputer__strategy=median \n",
      "[CV]  feature_selection__k=8, preparation__num_pipeline__imputer__strategy=mean, total=  27.8s\n",
      "[CV] feature_selection__k=8, preparation__num_pipeline__imputer__strategy=median \n",
      "[CV]  feature_selection__k=8, preparation__num_pipeline__imputer__strategy=mean, total=  27.7s\n",
      "[CV] feature_selection__k=8, preparation__num_pipeline__imputer__strategy=median \n",
      "[CV]  feature_selection__k=8, preparation__num_pipeline__imputer__strategy=mean, total=  27.9s\n",
      "[CV] feature_selection__k=8, preparation__num_pipeline__imputer__strategy=median \n",
      "[CV]  feature_selection__k=8, preparation__num_pipeline__imputer__strategy=median, total=  26.6s\n",
      "[CV] feature_selection__k=8, preparation__num_pipeline__imputer__strategy=median \n",
      "[CV]  feature_selection__k=8, preparation__num_pipeline__imputer__strategy=median, total=  26.5s\n",
      "[CV] feature_selection__k=8, preparation__num_pipeline__imputer__strategy=most_frequent \n",
      "[CV]  feature_selection__k=8, preparation__num_pipeline__imputer__strategy=median, total=  26.2s\n",
      "[CV] feature_selection__k=8, preparation__num_pipeline__imputer__strategy=most_frequent \n",
      "[CV]  feature_selection__k=8, preparation__num_pipeline__imputer__strategy=median, total=  27.5s\n",
      "[CV] feature_selection__k=8, preparation__num_pipeline__imputer__strategy=most_frequent \n",
      "[CV]  feature_selection__k=8, preparation__num_pipeline__imputer__strategy=median, total=  27.8s\n",
      "[CV] feature_selection__k=8, preparation__num_pipeline__imputer__strategy=most_frequent \n",
      "[CV]  feature_selection__k=8, preparation__num_pipeline__imputer__strategy=most_frequent, total=  29.8s\n",
      "[CV] feature_selection__k=8, preparation__num_pipeline__imputer__strategy=most_frequent \n",
      "[CV]  feature_selection__k=8, preparation__num_pipeline__imputer__strategy=most_frequent, total=  29.5s\n",
      "[CV] feature_selection__k=9, preparation__num_pipeline__imputer__strategy=mean \n",
      "[CV]  feature_selection__k=8, preparation__num_pipeline__imputer__strategy=most_frequent, total=  29.6s\n",
      "[CV] feature_selection__k=9, preparation__num_pipeline__imputer__strategy=mean \n",
      "[CV]  feature_selection__k=8, preparation__num_pipeline__imputer__strategy=most_frequent, total=  30.1s\n",
      "[CV] feature_selection__k=9, preparation__num_pipeline__imputer__strategy=mean \n",
      "[CV]  feature_selection__k=9, preparation__num_pipeline__imputer__strategy=mean, total=  28.4s\n",
      "[CV] feature_selection__k=9, preparation__num_pipeline__imputer__strategy=mean \n",
      "[CV]  feature_selection__k=8, preparation__num_pipeline__imputer__strategy=most_frequent, total=  30.0s\n",
      "[CV] feature_selection__k=9, preparation__num_pipeline__imputer__strategy=mean \n",
      "[CV]  feature_selection__k=9, preparation__num_pipeline__imputer__strategy=mean, total=  28.3s\n",
      "[CV] feature_selection__k=9, preparation__num_pipeline__imputer__strategy=median \n",
      "[CV]  feature_selection__k=9, preparation__num_pipeline__imputer__strategy=mean, total=  29.1s\n",
      "[CV] feature_selection__k=9, preparation__num_pipeline__imputer__strategy=median \n"
     ]
    },
    {
     "name": "stderr",
     "output_type": "stream",
     "text": [
      "[Parallel(n_jobs=4)]: Done  33 tasks      | elapsed:  4.5min\n"
     ]
    },
    {
     "name": "stdout",
     "output_type": "stream",
     "text": [
      "[CV]  feature_selection__k=9, preparation__num_pipeline__imputer__strategy=mean, total=  29.4s\n",
      "[CV]  feature_selection__k=9, preparation__num_pipeline__imputer__strategy=mean, total=  29.1s\n",
      "[CV] feature_selection__k=9, preparation__num_pipeline__imputer__strategy=median \n",
      "[CV] feature_selection__k=9, preparation__num_pipeline__imputer__strategy=median \n",
      "[CV]  feature_selection__k=9, preparation__num_pipeline__imputer__strategy=median, total=  28.6s\n",
      "[CV] feature_selection__k=9, preparation__num_pipeline__imputer__strategy=median \n",
      "[CV]  feature_selection__k=9, preparation__num_pipeline__imputer__strategy=median, total=  28.7s\n",
      "[CV] feature_selection__k=9, preparation__num_pipeline__imputer__strategy=most_frequent \n",
      "[CV]  feature_selection__k=9, preparation__num_pipeline__imputer__strategy=median, total=  28.0s\n",
      "[CV] feature_selection__k=9, preparation__num_pipeline__imputer__strategy=most_frequent \n",
      "[CV]  feature_selection__k=9, preparation__num_pipeline__imputer__strategy=median, total=  28.5s\n",
      "[CV] feature_selection__k=9, preparation__num_pipeline__imputer__strategy=most_frequent \n",
      "[CV]  feature_selection__k=9, preparation__num_pipeline__imputer__strategy=median, total=  27.5s\n",
      "[CV] feature_selection__k=9, preparation__num_pipeline__imputer__strategy=most_frequent \n",
      "[CV]  feature_selection__k=9, preparation__num_pipeline__imputer__strategy=most_frequent, total=  30.4s\n",
      "[CV] feature_selection__k=9, preparation__num_pipeline__imputer__strategy=most_frequent \n",
      "[CV]  feature_selection__k=9, preparation__num_pipeline__imputer__strategy=most_frequent, total=  31.5s\n",
      "[CV] feature_selection__k=10, preparation__num_pipeline__imputer__strategy=mean \n",
      "[CV]  feature_selection__k=9, preparation__num_pipeline__imputer__strategy=most_frequent, total=  31.2s\n",
      "[CV] feature_selection__k=10, preparation__num_pipeline__imputer__strategy=mean \n",
      "[CV]  feature_selection__k=9, preparation__num_pipeline__imputer__strategy=most_frequent, total=  31.1s\n",
      "[CV] feature_selection__k=10, preparation__num_pipeline__imputer__strategy=mean \n",
      "[CV]  feature_selection__k=9, preparation__num_pipeline__imputer__strategy=most_frequent, total=  32.7s\n",
      "[CV] feature_selection__k=10, preparation__num_pipeline__imputer__strategy=mean \n",
      "[CV]  feature_selection__k=10, preparation__num_pipeline__imputer__strategy=mean, total=  30.2s\n",
      "[CV] feature_selection__k=10, preparation__num_pipeline__imputer__strategy=mean \n",
      "[CV]  feature_selection__k=10, preparation__num_pipeline__imputer__strategy=mean, total=  29.9s\n",
      "[CV] feature_selection__k=10, preparation__num_pipeline__imputer__strategy=median \n",
      "[CV]  feature_selection__k=10, preparation__num_pipeline__imputer__strategy=mean, total=  30.0s\n",
      "[CV] feature_selection__k=10, preparation__num_pipeline__imputer__strategy=median \n",
      "[CV]  feature_selection__k=10, preparation__num_pipeline__imputer__strategy=mean, total=  29.1s\n",
      "[CV] feature_selection__k=10, preparation__num_pipeline__imputer__strategy=median \n",
      "[CV]  feature_selection__k=10, preparation__num_pipeline__imputer__strategy=mean, total=  28.7s\n",
      "[CV] feature_selection__k=10, preparation__num_pipeline__imputer__strategy=median \n",
      "[CV]  feature_selection__k=10, preparation__num_pipeline__imputer__strategy=median, total=  29.1s\n",
      "[CV] feature_selection__k=10, preparation__num_pipeline__imputer__strategy=median \n",
      "[CV]  feature_selection__k=10, preparation__num_pipeline__imputer__strategy=median, total=  29.1s\n",
      "[CV] feature_selection__k=10, preparation__num_pipeline__imputer__strategy=most_frequent \n",
      "[CV]  feature_selection__k=10, preparation__num_pipeline__imputer__strategy=median, total=  28.6s\n",
      "[CV] feature_selection__k=10, preparation__num_pipeline__imputer__strategy=most_frequent \n",
      "[CV]  feature_selection__k=10, preparation__num_pipeline__imputer__strategy=median, total=  28.9s\n",
      "[CV] feature_selection__k=10, preparation__num_pipeline__imputer__strategy=most_frequent \n",
      "[CV]  feature_selection__k=10, preparation__num_pipeline__imputer__strategy=median, total=  28.8s\n",
      "[CV] feature_selection__k=10, preparation__num_pipeline__imputer__strategy=most_frequent \n",
      "[CV]  feature_selection__k=10, preparation__num_pipeline__imputer__strategy=most_frequent, total=  30.4s\n",
      "[CV] feature_selection__k=10, preparation__num_pipeline__imputer__strategy=most_frequent \n",
      "[CV]  feature_selection__k=10, preparation__num_pipeline__imputer__strategy=most_frequent, total=  31.0s\n",
      "[CV]  feature_selection__k=10, preparation__num_pipeline__imputer__strategy=most_frequent, total=  30.3s\n",
      "[CV]  feature_selection__k=10, preparation__num_pipeline__imputer__strategy=most_frequent, total=  30.4s\n",
      "[CV]  feature_selection__k=10, preparation__num_pipeline__imputer__strategy=most_frequent, total=  29.5s\n"
     ]
    },
    {
     "name": "stderr",
     "output_type": "stream",
     "text": [
      "[Parallel(n_jobs=4)]: Done  60 out of  60 | elapsed:  7.7min finished\n"
     ]
    },
    {
     "data": {
      "text/plain": [
       "GridSearchCV(cv=5, error_score='raise',\n",
       "       estimator=Pipeline(memory=None,\n",
       "     steps=[('preparation', FeatureUnion(n_jobs=1,\n",
       "       transformer_list=[('num_pipeline', Pipeline(memory=None,\n",
       "     steps=[('selector', DataFrameSelector(attribute_names=['longitude', 'latitude', 'housing_median_age', 'total_rooms', 'total_bedrooms', 'population', 'households', 'median_income'])), ('...stimators=180, n_jobs=1, oob_score=False, random_state=42,\n",
       "           verbose=0, warm_start=False))]),\n",
       "       fit_params=None, iid=True, n_jobs=4,\n",
       "       param_grid=[{'feature_selection__k': [7, 8, 9, 10], 'preparation__num_pipeline__imputer__strategy': ['mean', 'median', 'most_frequent']}],\n",
       "       pre_dispatch='2*n_jobs', refit=True, return_train_score='warn',\n",
       "       scoring='neg_mean_squared_error', verbose=2)"
      ]
     },
     "execution_count": 126,
     "metadata": {},
     "output_type": "execute_result"
    }
   ],
   "source": [
    "param_grid = [\n",
    "        {'preparation__num_pipeline__imputer__strategy': ['mean', 'median', 'most_frequent'],\n",
    "         'feature_selection__k': [7, 8, 9, 10]}\n",
    "]\n",
    "\n",
    "grid_search_prep = GridSearchCV(prepare_select_and_predict_pipeline, param_grid, cv=5,\n",
    "                                scoring='neg_mean_squared_error', verbose=2, n_jobs=4)\n",
    "grid_search_prep.fit(housing, housing_labels)"
   ]
  },
  {
   "cell_type": "code",
   "execution_count": 127,
   "metadata": {
    "collapsed": false
   },
   "outputs": [
    {
     "data": {
      "text/plain": [
       "{'feature_selection__k': 10,\n",
       " 'preparation__num_pipeline__imputer__strategy': 'mean'}"
      ]
     },
     "execution_count": 127,
     "metadata": {},
     "output_type": "execute_result"
    }
   ],
   "source": [
    "grid_search_prep.best_params_"
   ]
  },
  {
   "cell_type": "code",
   "execution_count": 128,
   "metadata": {
    "collapsed": false
   },
   "outputs": [
    {
     "name": "stdout",
     "output_type": "stream",
     "text": [
      "50444.89627636776 {'feature_selection__k': 7, 'preparation__num_pipeline__imputer__strategy': 'mean'}\n",
      "50500.85712375555 {'feature_selection__k': 7, 'preparation__num_pipeline__imputer__strategy': 'median'}\n",
      "50584.79374832069 {'feature_selection__k': 7, 'preparation__num_pipeline__imputer__strategy': 'most_frequent'}\n",
      "49601.97981336375 {'feature_selection__k': 8, 'preparation__num_pipeline__imputer__strategy': 'mean'}\n",
      "49638.5895106465 {'feature_selection__k': 8, 'preparation__num_pipeline__imputer__strategy': 'median'}\n",
      "49676.74067447886 {'feature_selection__k': 8, 'preparation__num_pipeline__imputer__strategy': 'most_frequent'}\n",
      "49424.89083074932 {'feature_selection__k': 9, 'preparation__num_pipeline__imputer__strategy': 'mean'}\n",
      "49549.613976225475 {'feature_selection__k': 9, 'preparation__num_pipeline__imputer__strategy': 'median'}\n",
      "49497.341809789934 {'feature_selection__k': 9, 'preparation__num_pipeline__imputer__strategy': 'most_frequent'}\n",
      "49414.737184237805 {'feature_selection__k': 10, 'preparation__num_pipeline__imputer__strategy': 'mean'}\n",
      "49421.86189172441 {'feature_selection__k': 10, 'preparation__num_pipeline__imputer__strategy': 'median'}\n",
      "49488.99003109506 {'feature_selection__k': 10, 'preparation__num_pipeline__imputer__strategy': 'most_frequent'}\n"
     ]
    }
   ],
   "source": [
    "cvres = grid_search_prep.cv_results_\n",
    "for mean_score, params in zip(cvres[\"mean_test_score\"], cvres[\"params\"]):\n",
    "    print(np.sqrt(-mean_score), params)"
   ]
  },
  {
   "cell_type": "code",
   "execution_count": null,
   "metadata": {
    "collapsed": true
   },
   "outputs": [],
   "source": []
  }
 ],
 "metadata": {
  "anaconda-cloud": {},
  "kernelspec": {
   "display_name": "Python [Root]",
   "language": "python",
   "name": "Python [Root]"
  },
  "language_info": {
   "codemirror_mode": {
    "name": "ipython",
    "version": 3
   },
   "file_extension": ".py",
   "mimetype": "text/x-python",
   "name": "python",
   "nbconvert_exporter": "python",
   "pygments_lexer": "ipython3",
   "version": "3.5.2"
  }
 },
 "nbformat": 4,
 "nbformat_minor": 2
}
